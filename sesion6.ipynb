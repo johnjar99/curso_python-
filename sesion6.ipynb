{
  "nbformat": 4,
  "nbformat_minor": 0,
  "metadata": {
    "colab": {
      "name": "Untitled0.ipynb",
      "provenance": [],
      "collapsed_sections": [],
      "authorship_tag": "ABX9TyPrzx9spv/Jm3bPG/pnBuLH",
      "include_colab_link": true
    },
    "kernelspec": {
      "name": "python3",
      "display_name": "Python 3"
    },
    "language_info": {
      "name": "python"
    }
  },
  "cells": [
    {
      "cell_type": "markdown",
      "metadata": {
        "id": "view-in-github",
        "colab_type": "text"
      },
      "source": [
        "<a href=\"https://colab.research.google.com/github/johnjar99/curso_python-/blob/main/sesion6.ipynb\" target=\"_parent\"><img src=\"https://colab.research.google.com/assets/colab-badge.svg\" alt=\"Open In Colab\"/></a>"
      ]
    },
    {
      "cell_type": "code",
      "source": [
        "divmod(13,5)"
      ],
      "metadata": {
        "colab": {
          "base_uri": "https://localhost:8080/"
        },
        "id": "qs2OlycY-fp_",
        "outputId": "f9498b6f-e898-42ac-df98-ec3fa6197459"
      },
      "execution_count": null,
      "outputs": [
        {
          "output_type": "execute_result",
          "data": {
            "text/plain": [
              "(2, 3)"
            ]
          },
          "metadata": {},
          "execution_count": 5
        }
      ]
    },
    {
      "cell_type": "code",
      "source": [
        "entero,residuo=divmod(13,5)\n",
        "print(entero,residuo)"
      ],
      "metadata": {
        "colab": {
          "base_uri": "https://localhost:8080/"
        },
        "id": "wf48C0-w-_Dj",
        "outputId": "4b446741-756b-4a6c-853c-0623ce9a2c19"
      },
      "execution_count": null,
      "outputs": [
        {
          "output_type": "stream",
          "name": "stdout",
          "text": [
            "2 3\n"
          ]
        }
      ]
    },
    {
      "cell_type": "code",
      "source": [
        "entero+9"
      ],
      "metadata": {
        "colab": {
          "base_uri": "https://localhost:8080/"
        },
        "id": "D7tp1XncAGgc",
        "outputId": "377a46f1-e9b2-4b91-f8bd-8fb64dff1d51"
      },
      "execution_count": null,
      "outputs": [
        {
          "output_type": "execute_result",
          "data": {
            "text/plain": [
              "11"
            ]
          },
          "metadata": {},
          "execution_count": 10
        }
      ]
    },
    {
      "cell_type": "code",
      "source": [
        "0 or 0"
      ],
      "metadata": {
        "colab": {
          "base_uri": "https://localhost:8080/"
        },
        "id": "lNwG2FcEAXua",
        "outputId": "53868e2d-9922-4aa7-ace6-1f19fa5081aa"
      },
      "execution_count": null,
      "outputs": [
        {
          "output_type": "execute_result",
          "data": {
            "text/plain": [
              "0"
            ]
          },
          "metadata": {},
          "execution_count": 13
        }
      ]
    },
    {
      "cell_type": "code",
      "source": [
        "[] and 15"
      ],
      "metadata": {
        "colab": {
          "base_uri": "https://localhost:8080/"
        },
        "id": "ok27yVtlA1Bl",
        "outputId": "1aafdf3f-a69e-4df6-95af-706e26546456"
      },
      "execution_count": null,
      "outputs": [
        {
          "output_type": "execute_result",
          "data": {
            "text/plain": [
              "[]"
            ]
          },
          "metadata": {},
          "execution_count": 15
        }
      ]
    },
    {
      "cell_type": "code",
      "source": [
        "45 and 15"
      ],
      "metadata": {
        "colab": {
          "base_uri": "https://localhost:8080/"
        },
        "id": "BsVpRFmIBPGQ",
        "outputId": "79906eab-deb7-436e-8224-5285184e0d27"
      },
      "execution_count": null,
      "outputs": [
        {
          "output_type": "execute_result",
          "data": {
            "text/plain": [
              "15"
            ]
          },
          "metadata": {},
          "execution_count": 16
        }
      ]
    },
    {
      "cell_type": "code",
      "source": [
        "not 1"
      ],
      "metadata": {
        "colab": {
          "base_uri": "https://localhost:8080/"
        },
        "id": "a51uvk0WBT_m",
        "outputId": "2a207e0d-0a7a-4dd5-c4ae-c780d2417a76"
      },
      "execution_count": null,
      "outputs": [
        {
          "output_type": "execute_result",
          "data": {
            "text/plain": [
              "False"
            ]
          },
          "metadata": {},
          "execution_count": 17
        }
      ]
    },
    {
      "cell_type": "code",
      "source": [
        "5>4 and 3<5 or 4>1"
      ],
      "metadata": {
        "colab": {
          "base_uri": "https://localhost:8080/"
        },
        "id": "kNf26Ni-BdWP",
        "outputId": "1a9f4d9e-f363-4cb4-bcbd-2703a08c9097"
      },
      "execution_count": null,
      "outputs": [
        {
          "output_type": "execute_result",
          "data": {
            "text/plain": [
              "True"
            ]
          },
          "metadata": {},
          "execution_count": 18
        }
      ]
    },
    {
      "cell_type": "code",
      "source": [
        "a=12 #base de datos \n",
        "b=a #copia de respaldo \n",
        "c=12"
      ],
      "metadata": {
        "id": "bXD0uPJWEVcs"
      },
      "execution_count": null,
      "outputs": []
    },
    {
      "cell_type": "code",
      "source": [
        "print(id(a),id(b),id(c),a==c)"
      ],
      "metadata": {
        "colab": {
          "base_uri": "https://localhost:8080/"
        },
        "id": "I2IN734nEhKx",
        "outputId": "a360f6eb-0768-4b14-a28c-8770c8efad0c"
      },
      "execution_count": null,
      "outputs": [
        {
          "output_type": "stream",
          "name": "stdout",
          "text": [
            "11256416 11256416 11256416 True\n"
          ]
        }
      ]
    },
    {
      "cell_type": "code",
      "source": [
        "b=17"
      ],
      "metadata": {
        "id": "xYAweOVIEv7s"
      },
      "execution_count": null,
      "outputs": []
    },
    {
      "cell_type": "code",
      "source": [
        "a"
      ],
      "metadata": {
        "colab": {
          "base_uri": "https://localhost:8080/"
        },
        "id": "UAaU6NrMEyeV",
        "outputId": "b211976b-6d7e-4f4f-be10-48bfdba0af92"
      },
      "execution_count": null,
      "outputs": [
        {
          "output_type": "execute_result",
          "data": {
            "text/plain": [
              "12"
            ]
          },
          "metadata": {},
          "execution_count": 22
        }
      ]
    },
    {
      "cell_type": "code",
      "source": [
        "a is b\n",
        "a is c"
      ],
      "metadata": {
        "colab": {
          "base_uri": "https://localhost:8080/"
        },
        "id": "A7ELJt0-E8YU",
        "outputId": "559ff82f-c7e6-4de5-a82f-e5a59412a019"
      },
      "execution_count": null,
      "outputs": [
        {
          "output_type": "execute_result",
          "data": {
            "text/plain": [
              "True"
            ]
          },
          "metadata": {},
          "execution_count": 25
        }
      ]
    },
    {
      "cell_type": "code",
      "source": [
        "nombre=\"john\""
      ],
      "metadata": {
        "id": "ABnNzsHLFKvJ"
      },
      "execution_count": null,
      "outputs": []
    },
    {
      "cell_type": "code",
      "source": [
        "nombre[0]"
      ],
      "metadata": {
        "colab": {
          "base_uri": "https://localhost:8080/",
          "height": 35
        },
        "id": "gzjfPv0XFwf4",
        "outputId": "61f2548b-7c07-40cc-ea38-f0d3daad81b9"
      },
      "execution_count": null,
      "outputs": [
        {
          "output_type": "execute_result",
          "data": {
            "text/plain": [
              "'j'"
            ],
            "application/vnd.google.colaboratory.intrinsic+json": {
              "type": "string"
            }
          },
          "metadata": {},
          "execution_count": 37
        }
      ]
    },
    {
      "cell_type": "code",
      "source": [
        "print( nombre[0], nombre[-1])"
      ],
      "metadata": {
        "colab": {
          "base_uri": "https://localhost:8080/"
        },
        "id": "Lg615emNGMID",
        "outputId": "8e58f083-b0ca-4fab-a33f-d6d6a3fbffff"
      },
      "execution_count": null,
      "outputs": [
        {
          "output_type": "stream",
          "name": "stdout",
          "text": [
            "j n\n"
          ]
        }
      ]
    },
    {
      "cell_type": "markdown",
      "source": [
        "STRING (CADENA) INMUTABLES\n"
      ],
      "metadata": {
        "id": "yKfisSz1Hmls"
      }
    },
    {
      "cell_type": "code",
      "source": [
        "nuevo_nombre=nombre.capitalize()"
      ],
      "metadata": {
        "id": "8c1XVjJoHL_-"
      },
      "execution_count": null,
      "outputs": []
    },
    {
      "cell_type": "code",
      "source": [
        "nuevo_nombre"
      ],
      "metadata": {
        "colab": {
          "base_uri": "https://localhost:8080/",
          "height": 35
        },
        "id": "bnVRLHfMIhAV",
        "outputId": "c26f13f8-4139-4798-a41a-64253e3d0743"
      },
      "execution_count": null,
      "outputs": [
        {
          "output_type": "execute_result",
          "data": {
            "text/plain": [
              "'John'"
            ],
            "application/vnd.google.colaboratory.intrinsic+json": {
              "type": "string"
            }
          },
          "metadata": {},
          "execution_count": 42
        }
      ]
    },
    {
      "cell_type": "code",
      "source": [
        "dir(nombre)"
      ],
      "metadata": {
        "colab": {
          "base_uri": "https://localhost:8080/"
        },
        "id": "eRuJBTi8IrXP",
        "outputId": "22c72bce-9846-400d-cbc2-b87fb12a3777"
      },
      "execution_count": null,
      "outputs": [
        {
          "output_type": "execute_result",
          "data": {
            "text/plain": [
              "['__add__',\n",
              " '__class__',\n",
              " '__contains__',\n",
              " '__delattr__',\n",
              " '__dir__',\n",
              " '__doc__',\n",
              " '__eq__',\n",
              " '__format__',\n",
              " '__ge__',\n",
              " '__getattribute__',\n",
              " '__getitem__',\n",
              " '__getnewargs__',\n",
              " '__gt__',\n",
              " '__hash__',\n",
              " '__init__',\n",
              " '__init_subclass__',\n",
              " '__iter__',\n",
              " '__le__',\n",
              " '__len__',\n",
              " '__lt__',\n",
              " '__mod__',\n",
              " '__mul__',\n",
              " '__ne__',\n",
              " '__new__',\n",
              " '__reduce__',\n",
              " '__reduce_ex__',\n",
              " '__repr__',\n",
              " '__rmod__',\n",
              " '__rmul__',\n",
              " '__setattr__',\n",
              " '__sizeof__',\n",
              " '__str__',\n",
              " '__subclasshook__',\n",
              " 'capitalize',\n",
              " 'casefold',\n",
              " 'center',\n",
              " 'count',\n",
              " 'encode',\n",
              " 'endswith',\n",
              " 'expandtabs',\n",
              " 'find',\n",
              " 'format',\n",
              " 'format_map',\n",
              " 'index',\n",
              " 'isalnum',\n",
              " 'isalpha',\n",
              " 'isascii',\n",
              " 'isdecimal',\n",
              " 'isdigit',\n",
              " 'isidentifier',\n",
              " 'islower',\n",
              " 'isnumeric',\n",
              " 'isprintable',\n",
              " 'isspace',\n",
              " 'istitle',\n",
              " 'isupper',\n",
              " 'join',\n",
              " 'ljust',\n",
              " 'lower',\n",
              " 'lstrip',\n",
              " 'maketrans',\n",
              " 'partition',\n",
              " 'replace',\n",
              " 'rfind',\n",
              " 'rindex',\n",
              " 'rjust',\n",
              " 'rpartition',\n",
              " 'rsplit',\n",
              " 'rstrip',\n",
              " 'split',\n",
              " 'splitlines',\n",
              " 'startswith',\n",
              " 'strip',\n",
              " 'swapcase',\n",
              " 'title',\n",
              " 'translate',\n",
              " 'upper',\n",
              " 'zfill']"
            ]
          },
          "metadata": {},
          "execution_count": 43
        }
      ]
    },
    {
      "cell_type": "code",
      "source": [
        "nombre.zfill?"
      ],
      "metadata": {
        "id": "B16DwNKuI6cx"
      },
      "execution_count": null,
      "outputs": []
    },
    {
      "cell_type": "code",
      "source": [
        "nombre.zfill(1)"
      ],
      "metadata": {
        "colab": {
          "base_uri": "https://localhost:8080/",
          "height": 35
        },
        "id": "o08GBtIoJFKL",
        "outputId": "8c7961f1-b60b-4ec6-aa50-2c9a36770716"
      },
      "execution_count": null,
      "outputs": [
        {
          "output_type": "execute_result",
          "data": {
            "text/plain": [
              "'john'"
            ],
            "application/vnd.google.colaboratory.intrinsic+json": {
              "type": "string"
            }
          },
          "metadata": {},
          "execution_count": 47
        }
      ]
    },
    {
      "cell_type": "code",
      "source": [
        "cadena=\"abcdefg\"\n",
        "cadena.index(\"a\")"
      ],
      "metadata": {
        "colab": {
          "base_uri": "https://localhost:8080/"
        },
        "id": "ROj8k8VwJEjp",
        "outputId": "61754f01-dc49-4aff-93b4-6f1dc21ecbc8"
      },
      "execution_count": null,
      "outputs": [
        {
          "output_type": "execute_result",
          "data": {
            "text/plain": [
              "0"
            ]
          },
          "metadata": {},
          "execution_count": 48
        }
      ]
    },
    {
      "cell_type": "code",
      "source": [
        "cadena.find(\"h\")"
      ],
      "metadata": {
        "colab": {
          "base_uri": "https://localhost:8080/"
        },
        "id": "uRVRryuTKEL1",
        "outputId": "f1cae350-8034-4ad6-c1dc-c930bfe81648"
      },
      "execution_count": null,
      "outputs": [
        {
          "output_type": "execute_result",
          "data": {
            "text/plain": [
              "-1"
            ]
          },
          "metadata": {},
          "execution_count": 49
        }
      ]
    },
    {
      "cell_type": "code",
      "source": [
        "lista=list(cadena)\n",
        "lista[0]=\"J\"\n",
        "lista"
      ],
      "metadata": {
        "colab": {
          "base_uri": "https://localhost:8080/"
        },
        "id": "xOHqhhZbKZFf",
        "outputId": "e221d08c-49ba-4235-eda2-0d68a1c0d96c"
      },
      "execution_count": null,
      "outputs": [
        {
          "output_type": "execute_result",
          "data": {
            "text/plain": [
              "['J', 'b', 'c', 'd', 'e', 'f', 'g']"
            ]
          },
          "metadata": {},
          "execution_count": 53
        }
      ]
    },
    {
      "cell_type": "code",
      "source": [
        "cadena1=\"\".join(lista)\n",
        "cadena1"
      ],
      "metadata": {
        "colab": {
          "base_uri": "https://localhost:8080/",
          "height": 35
        },
        "id": "yVy5k1aIKxe-",
        "outputId": "5d6fe718-bcd4-4c33-ab1a-41509a361382"
      },
      "execution_count": null,
      "outputs": [
        {
          "output_type": "execute_result",
          "data": {
            "text/plain": [
              "'Jbcdefg'"
            ],
            "application/vnd.google.colaboratory.intrinsic+json": {
              "type": "string"
            }
          },
          "metadata": {},
          "execution_count": 55
        }
      ]
    },
    {
      "cell_type": "markdown",
      "source": [
        "CONTENEDORES"
      ],
      "metadata": {
        "id": "l3Q7JyIv5Z5W"
      }
    },
    {
      "cell_type": "code",
      "source": [
        "l=[1,2,3,4,5,6]\n",
        "l"
      ],
      "metadata": {
        "colab": {
          "base_uri": "https://localhost:8080/"
        },
        "id": "7T23VYP5115d",
        "outputId": "21cbba42-e93e-4939-eb89-41282a8940bb"
      },
      "execution_count": null,
      "outputs": [
        {
          "output_type": "execute_result",
          "data": {
            "text/plain": [
              "[1, 2, 3, 4, 5, 6]"
            ]
          },
          "metadata": {},
          "execution_count": 32
        }
      ]
    },
    {
      "cell_type": "code",
      "source": [
        "l.reverse()\n"
      ],
      "metadata": {
        "colab": {
          "base_uri": "https://localhost:8080/"
        },
        "id": "Bc8hxKBn19jJ",
        "outputId": "d54321b9-345a-4500-c463-9a0f03a7e394"
      },
      "execution_count": null,
      "outputs": [
        {
          "output_type": "execute_result",
          "data": {
            "text/plain": [
              "[6, 5, 4, 3, 2, 1]"
            ]
          },
          "metadata": {},
          "execution_count": 6
        }
      ]
    },
    {
      "cell_type": "code",
      "source": [
        "l.pop(5)\n",
        "l"
      ],
      "metadata": {
        "colab": {
          "base_uri": "https://localhost:8080/"
        },
        "id": "k9DFSn3g2KRa",
        "outputId": "24ca6d1d-23dc-4b44-d464-6897461c72df"
      },
      "execution_count": null,
      "outputs": [
        {
          "output_type": "execute_result",
          "data": {
            "text/plain": [
              "[1, 2, 3, 4, 5]"
            ]
          },
          "metadata": {},
          "execution_count": 31
        }
      ]
    },
    {
      "cell_type": "code",
      "source": [
        "l.extend(l)\n",
        "l"
      ],
      "metadata": {
        "colab": {
          "base_uri": "https://localhost:8080/"
        },
        "id": "hY9MH60D2Y_A",
        "outputId": "b35328c4-909f-464e-d2aa-16b71b3e347f"
      },
      "execution_count": null,
      "outputs": [
        {
          "output_type": "execute_result",
          "data": {
            "text/plain": [
              "[1, 2, 3, 4, 5, 6, 1, 2, 3, 4, 5, 6]"
            ]
          },
          "metadata": {},
          "execution_count": 28
        }
      ]
    },
    {
      "cell_type": "code",
      "source": [
        "l.append([77])\n",
        "l"
      ],
      "metadata": {
        "colab": {
          "base_uri": "https://localhost:8080/"
        },
        "id": "YXydqWA73VTG",
        "outputId": "30003926-9397-4709-c620-8220a76e8ecd"
      },
      "execution_count": null,
      "outputs": [
        {
          "output_type": "execute_result",
          "data": {
            "text/plain": [
              "[1, 2, 3, 4, 5, 6, 77, [77]]"
            ]
          },
          "metadata": {},
          "execution_count": 35
        }
      ]
    },
    {
      "cell_type": "code",
      "source": [
        "l[-1]"
      ],
      "metadata": {
        "colab": {
          "base_uri": "https://localhost:8080/"
        },
        "id": "IB2To8jm40vx",
        "outputId": "d8e2bd4f-017b-4817-e91c-c79ff9004304"
      },
      "execution_count": null,
      "outputs": [
        {
          "output_type": "execute_result",
          "data": {
            "text/plain": [
              "[77]"
            ]
          },
          "metadata": {},
          "execution_count": 36
        }
      ]
    },
    {
      "cell_type": "code",
      "source": [
        "l[-1][0]"
      ],
      "metadata": {
        "colab": {
          "base_uri": "https://localhost:8080/"
        },
        "id": "E7lCtDrJ5DHD",
        "outputId": "179250a6-f376-42ac-ca6e-51d3f1535b46"
      },
      "execution_count": null,
      "outputs": [
        {
          "output_type": "execute_result",
          "data": {
            "text/plain": [
              "77"
            ]
          },
          "metadata": {},
          "execution_count": 37
        }
      ]
    },
    {
      "cell_type": "code",
      "source": [
        "l[-1][0]+2"
      ],
      "metadata": {
        "colab": {
          "base_uri": "https://localhost:8080/"
        },
        "id": "Vy-OhHQ25H_-",
        "outputId": "11232e1c-1c07-47b7-84ad-6037d524173a"
      },
      "execution_count": null,
      "outputs": [
        {
          "output_type": "execute_result",
          "data": {
            "text/plain": [
              "79"
            ]
          },
          "metadata": {},
          "execution_count": 38
        }
      ]
    },
    {
      "cell_type": "markdown",
      "source": [
        "TUPLAS\n"
      ],
      "metadata": {
        "id": "2MyR6v9d5Wnd"
      }
    },
    {
      "cell_type": "code",
      "source": [
        "j=(2,3)"
      ],
      "metadata": {
        "id": "opqlyd5A5cqF"
      },
      "execution_count": null,
      "outputs": []
    },
    {
      "cell_type": "code",
      "source": [
        "dir(j)"
      ],
      "metadata": {
        "colab": {
          "base_uri": "https://localhost:8080/"
        },
        "id": "esZinfJb5jNe",
        "outputId": "36d7cbbc-1ac2-42f7-c470-37ae7f3503fe"
      },
      "execution_count": null,
      "outputs": [
        {
          "output_type": "execute_result",
          "data": {
            "text/plain": [
              "['__add__',\n",
              " '__class__',\n",
              " '__contains__',\n",
              " '__delattr__',\n",
              " '__dir__',\n",
              " '__doc__',\n",
              " '__eq__',\n",
              " '__format__',\n",
              " '__ge__',\n",
              " '__getattribute__',\n",
              " '__getitem__',\n",
              " '__getnewargs__',\n",
              " '__gt__',\n",
              " '__hash__',\n",
              " '__init__',\n",
              " '__init_subclass__',\n",
              " '__iter__',\n",
              " '__le__',\n",
              " '__len__',\n",
              " '__lt__',\n",
              " '__mul__',\n",
              " '__ne__',\n",
              " '__new__',\n",
              " '__reduce__',\n",
              " '__reduce_ex__',\n",
              " '__repr__',\n",
              " '__rmul__',\n",
              " '__setattr__',\n",
              " '__sizeof__',\n",
              " '__str__',\n",
              " '__subclasshook__',\n",
              " 'count',\n",
              " 'index']"
            ]
          },
          "metadata": {},
          "execution_count": 41
        }
      ]
    },
    {
      "cell_type": "code",
      "source": [
        "y=(12,3,3,2,4,4,\"hola\",[2,3,3,],(2.3),(2,3))"
      ],
      "metadata": {
        "id": "g5rayxKJ58aO"
      },
      "execution_count": null,
      "outputs": []
    },
    {
      "cell_type": "code",
      "source": [
        "y.count(\"hola\")"
      ],
      "metadata": {
        "colab": {
          "base_uri": "https://localhost:8080/"
        },
        "id": "mUPwsAg46ikJ",
        "outputId": "80600b56-05a9-4551-9c38-24ebee4cda83"
      },
      "execution_count": null,
      "outputs": [
        {
          "output_type": "execute_result",
          "data": {
            "text/plain": [
              "1"
            ]
          },
          "metadata": {},
          "execution_count": 47
        }
      ]
    },
    {
      "cell_type": "code",
      "source": [
        "y.index(\"hola\")"
      ],
      "metadata": {
        "colab": {
          "base_uri": "https://localhost:8080/"
        },
        "id": "ydYOwHCN6olK",
        "outputId": "73846276-9c3d-4e56-84d7-6ac88e67f119"
      },
      "execution_count": null,
      "outputs": [
        {
          "output_type": "execute_result",
          "data": {
            "text/plain": [
              "6"
            ]
          },
          "metadata": {},
          "execution_count": 48
        }
      ]
    },
    {
      "cell_type": "markdown",
      "source": [
        "index con elementos repetidos "
      ],
      "metadata": {
        "id": "bGAn3aaF7CEQ"
      }
    },
    {
      "cell_type": "code",
      "source": [
        "y.index(\"hola\",0,11)"
      ],
      "metadata": {
        "colab": {
          "base_uri": "https://localhost:8080/"
        },
        "id": "YrrkHoXv7Huc",
        "outputId": "3aead63a-5b22-48af-9912-0e2230f3c75f"
      },
      "execution_count": null,
      "outputs": [
        {
          "output_type": "execute_result",
          "data": {
            "text/plain": [
              "6"
            ]
          },
          "metadata": {},
          "execution_count": 49
        }
      ]
    },
    {
      "cell_type": "code",
      "source": [
        "Y=list(y)\n",
        "Y"
      ],
      "metadata": {
        "colab": {
          "base_uri": "https://localhost:8080/"
        },
        "id": "HIH8nmJW7eoU",
        "outputId": "8e3c5371-62c8-48ad-e8d1-f264aff35840"
      },
      "execution_count": null,
      "outputs": [
        {
          "output_type": "execute_result",
          "data": {
            "text/plain": [
              "[12, 3, 3, 2, 4, 4, 'hola', [2, 3, 3], 2.3, (2, 3)]"
            ]
          },
          "metadata": {},
          "execution_count": 52
        }
      ]
    },
    {
      "cell_type": "markdown",
      "source": [
        "sort organiza listas con criterio comun"
      ],
      "metadata": {
        "id": "F0EqVmfo7qwS"
      }
    },
    {
      "cell_type": "code",
      "source": [
        "lista1=[1,2,3]\n",
        "lista2=lista1.copy()"
      ],
      "metadata": {
        "id": "a04I-XwZ8LpN"
      },
      "execution_count": null,
      "outputs": []
    },
    {
      "cell_type": "code",
      "source": [
        "print(id(lista1),id(lista2))"
      ],
      "metadata": {
        "colab": {
          "base_uri": "https://localhost:8080/"
        },
        "id": "Yx7bQiET8pJR",
        "outputId": "410e1548-bad9-409d-9c2d-45a3015ecc7f"
      },
      "execution_count": null,
      "outputs": [
        {
          "output_type": "stream",
          "name": "stdout",
          "text": [
            "139763784078272 139763783486432\n"
          ]
        }
      ]
    },
    {
      "cell_type": "code",
      "source": [
        "lista3=[1,2,3,[4,5],(6,7)]\n",
        "import copy\n",
        "lista4=copy.deepcopy(lista3)\n",
        "print(id(lista3),id(lista4))"
      ],
      "metadata": {
        "colab": {
          "base_uri": "https://localhost:8080/"
        },
        "id": "bAIYjp4t9ZYf",
        "outputId": "9a431ff5-c157-41d0-b401-15c25df2e08c"
      },
      "execution_count": null,
      "outputs": [
        {
          "output_type": "stream",
          "name": "stdout",
          "text": [
            "139763783284928 139763783088720\n"
          ]
        }
      ]
    },
    {
      "cell_type": "markdown",
      "source": [
        "CONDICIONAL"
      ],
      "metadata": {
        "id": "G6JFciYgBjmn"
      }
    },
    {
      "cell_type": "markdown",
      "source": [
        "IF"
      ],
      "metadata": {
        "id": "QBFF7TQCFynC"
      }
    },
    {
      "cell_type": "code",
      "source": [
        "edad=12\n",
        "if edad >=18:\n",
        "  print(\"Es mayor de edad\")\n",
        "else:\n",
        "  print(\"Es menor de edad\")"
      ],
      "metadata": {
        "colab": {
          "base_uri": "https://localhost:8080/"
        },
        "id": "PE4c6QqoBcao",
        "outputId": "46aad6ff-e1d5-4ada-83c3-933a49afe755"
      },
      "execution_count": null,
      "outputs": [
        {
          "output_type": "stream",
          "name": "stdout",
          "text": [
            "Es menor de edad\n"
          ]
        }
      ]
    },
    {
      "cell_type": "code",
      "source": [
        "calificacion=[]\n",
        "if calificacion: #verdadero\n",
        "  print(\"el estudiante existe\")\n",
        "else:\n",
        "  print(\"no existe\")  "
      ],
      "metadata": {
        "colab": {
          "base_uri": "https://localhost:8080/"
        },
        "id": "t0dx9QlYFyDl",
        "outputId": "294c3f3a-a5d4-4243-b5b6-5fbeb0b61eb3"
      },
      "execution_count": null,
      "outputs": [
        {
          "output_type": "stream",
          "name": "stdout",
          "text": [
            "no existe\n"
          ]
        }
      ]
    },
    {
      "cell_type": "code",
      "source": [
        "calificacion=5\n",
        "if calificacion >=0 and calificacion <1:\n",
        "  print(\"D\")\n",
        "elif  calificacion >=1 and calificacion <2:\n",
        "  print(\"I\")\n",
        "elif calificacion >=2 and calificacion <3:  \n",
        "  print(\"A\")\n",
        "elif calificacion >=3 and calificacion <4:  \n",
        "  print(\"S\")\n",
        "elif calificacion >=4 and calificacion <=5: \n",
        "  print(\"E\")\n",
        "else:\n",
        "  print(\"calificacion incorrecta\")   \n"
      ],
      "metadata": {
        "colab": {
          "base_uri": "https://localhost:8080/"
        },
        "id": "F0ebWmP6G2T_",
        "outputId": "e302d1c6-0645-42f1-a58e-c3fb17b603fc"
      },
      "execution_count": null,
      "outputs": [
        {
          "output_type": "stream",
          "name": "stdout",
          "text": [
            "E\n"
          ]
        }
      ]
    },
    {
      "cell_type": "markdown",
      "source": [
        "FOR"
      ],
      "metadata": {
        "id": "If1vgtDYKDOW"
      }
    },
    {
      "cell_type": "code",
      "source": [
        "lista4"
      ],
      "metadata": {
        "colab": {
          "base_uri": "https://localhost:8080/"
        },
        "id": "AzG5bV9FIZdA",
        "outputId": "076acd33-5e07-46f7-f25d-74bc730f0d6e"
      },
      "execution_count": null,
      "outputs": [
        {
          "output_type": "execute_result",
          "data": {
            "text/plain": [
              "[1, 2, 3, [4, 5], (6, 7)]"
            ]
          },
          "metadata": {},
          "execution_count": 70
        }
      ]
    },
    {
      "cell_type": "code",
      "source": [
        "for i in lista4:\n",
        "  print(i)"
      ],
      "metadata": {
        "colab": {
          "base_uri": "https://localhost:8080/"
        },
        "id": "d_960ed2K4X3",
        "outputId": "da0c0e0c-b503-4532-b301-4e6d043c447c"
      },
      "execution_count": null,
      "outputs": [
        {
          "output_type": "stream",
          "name": "stdout",
          "text": [
            "1\n",
            "2\n",
            "3\n",
            "[4, 5]\n",
            "(6, 7)\n"
          ]
        }
      ]
    },
    {
      "cell_type": "code",
      "source": [
        "list(enumerate(lista4))"
      ],
      "metadata": {
        "colab": {
          "base_uri": "https://localhost:8080/"
        },
        "id": "hCVo8Pf9LbzS",
        "outputId": "4dd4e4af-535f-4ab6-fecc-c26404a070a3"
      },
      "execution_count": null,
      "outputs": [
        {
          "output_type": "execute_result",
          "data": {
            "text/plain": [
              "[(0, 1), (1, 2), (2, 3), (3, [4, 5]), (4, (6, 7))]"
            ]
          },
          "metadata": {},
          "execution_count": 75
        }
      ]
    },
    {
      "cell_type": "code",
      "source": [
        "for i in list(enumerate(lista4)):\n",
        "  print(i)"
      ],
      "metadata": {
        "colab": {
          "base_uri": "https://localhost:8080/"
        },
        "id": "coRJjWrKLoIy",
        "outputId": "7479b34e-fdd3-43aa-b04f-74ef63dd3a67"
      },
      "execution_count": null,
      "outputs": [
        {
          "output_type": "stream",
          "name": "stdout",
          "text": [
            "(0, 1)\n",
            "(1, 2)\n",
            "(2, 3)\n",
            "(3, [4, 5])\n",
            "(4, (6, 7))\n"
          ]
        }
      ]
    },
    {
      "cell_type": "code",
      "source": [
        "for i in list(enumerate(lista4)):\n",
        "  indice,elemento=i\n",
        "  print(indice)"
      ],
      "metadata": {
        "colab": {
          "base_uri": "https://localhost:8080/"
        },
        "id": "tahJTtU3L2mU",
        "outputId": "d22f2173-8556-4db6-f92d-bcefa00dd10f"
      },
      "execution_count": null,
      "outputs": [
        {
          "output_type": "stream",
          "name": "stdout",
          "text": [
            "0\n",
            "1\n",
            "2\n",
            "3\n",
            "4\n"
          ]
        }
      ]
    },
    {
      "cell_type": "code",
      "source": [
        "for i in list(enumerate(lista4)):\n",
        "  indice,elemento=i\n",
        "  print(indice)\n",
        "  if indice==3:\n",
        "    break"
      ],
      "metadata": {
        "colab": {
          "base_uri": "https://localhost:8080/"
        },
        "id": "tTCoqEq1MlWh",
        "outputId": "73a005de-e309-4f90-8866-d343be17a07c"
      },
      "execution_count": null,
      "outputs": [
        {
          "output_type": "stream",
          "name": "stdout",
          "text": [
            "0\n",
            "1\n",
            "2\n",
            "3\n"
          ]
        }
      ]
    },
    {
      "cell_type": "code",
      "source": [
        "for i in list(enumerate(lista4)):\n",
        "  indice,elemento=i\n",
        "  print(indice)\n",
        "else:\n",
        "  print(\"operacion termina\")  "
      ],
      "metadata": {
        "colab": {
          "base_uri": "https://localhost:8080/"
        },
        "id": "TWXB6qjRNAkT",
        "outputId": "60479324-cbd7-4005-8152-02c578aae155"
      },
      "execution_count": null,
      "outputs": [
        {
          "output_type": "stream",
          "name": "stdout",
          "text": [
            "0\n",
            "1\n",
            "2\n",
            "3\n",
            "4\n",
            "operacion termina\n"
          ]
        }
      ]
    },
    {
      "cell_type": "markdown",
      "source": [
        "WHILE"
      ],
      "metadata": {
        "id": "MgFgRNjNNUp2"
      }
    },
    {
      "cell_type": "code",
      "source": [
        ""
      ],
      "metadata": {
        "id": "iIdZW7nPN1OX"
      },
      "execution_count": null,
      "outputs": []
    },
    {
      "cell_type": "markdown",
      "source": [
        "RANGE"
      ],
      "metadata": {
        "id": "znsPv6lvN1rD"
      }
    },
    {
      "cell_type": "code",
      "source": [
        "for i in range(1,9,2):\n",
        "  print(i)"
      ],
      "metadata": {
        "colab": {
          "base_uri": "https://localhost:8080/"
        },
        "id": "Gy2C8jrWN3n7",
        "outputId": "c5e8b7bc-e99b-47b3-dc30-b44285491c0b"
      },
      "execution_count": null,
      "outputs": [
        {
          "output_type": "stream",
          "name": "stdout",
          "text": [
            "1\n",
            "3\n",
            "5\n",
            "7\n"
          ]
        }
      ]
    },
    {
      "cell_type": "code",
      "source": [
        "range(2,9,1)\n",
        "list(range(2,9,1))"
      ],
      "metadata": {
        "colab": {
          "base_uri": "https://localhost:8080/"
        },
        "id": "p56GeYi9OCJ2",
        "outputId": "0a7a2142-8384-43f6-c58d-a87dd3cac4b3"
      },
      "execution_count": null,
      "outputs": [
        {
          "output_type": "execute_result",
          "data": {
            "text/plain": [
              "[2, 3, 4, 5, 6, 7, 8]"
            ]
          },
          "metadata": {},
          "execution_count": 85
        }
      ]
    },
    {
      "cell_type": "markdown",
      "source": [
        "EJERCIO 1"
      ],
      "metadata": {
        "id": "cJx9O0MpOU0p"
      }
    },
    {
      "cell_type": "code",
      "source": [
        "a=int(input(\"Ingrese primer entero\"))\n",
        "b=int(input(\"Ingrese segundo entero\"))\n",
        "if a==b:\n",
        "  print(\"Si, los numeros son iguales\")\n",
        "else:\n",
        "  print(\"No, los numeros son diferentes\")  "
      ],
      "metadata": {
        "colab": {
          "base_uri": "https://localhost:8080/"
        },
        "id": "t2ZNnZPTOUYJ",
        "outputId": "687bc21b-c4b6-41c3-85f6-ba64e966e891"
      },
      "execution_count": null,
      "outputs": [
        {
          "output_type": "stream",
          "name": "stdout",
          "text": [
            "Ingrese primer entero14\n",
            "Ingrese segundo entero50\n",
            "No, los numeros son diferentes\n"
          ]
        }
      ]
    },
    {
      "cell_type": "markdown",
      "source": [
        "EJERCICIO 2"
      ],
      "metadata": {
        "id": "7grSMicnQ0_g"
      }
    },
    {
      "cell_type": "code",
      "source": [
        "a=int(input(\"Ingrese numero\"))\n",
        "if a%2==0:\n",
        "  print(\"Par\")\n",
        "else:\n",
        "  print(\"Impar\")  "
      ],
      "metadata": {
        "colab": {
          "base_uri": "https://localhost:8080/"
        },
        "id": "GCZz2RbwQ3rp",
        "outputId": "990d41aa-1336-4880-adc7-13ae27652ad7"
      },
      "execution_count": null,
      "outputs": [
        {
          "output_type": "stream",
          "name": "stdout",
          "text": [
            "Ingrese numero7\n",
            "Impar\n"
          ]
        }
      ]
    },
    {
      "cell_type": "markdown",
      "source": [
        "EJERCICIO 3"
      ],
      "metadata": {
        "id": "gfP1d87ySuqR"
      }
    },
    {
      "cell_type": "code",
      "source": [
        "a=int(input(\"Ingrese numero\"))\n",
        "if a<0:\n",
        "  print(\"El numero es negativo\")\n",
        "else:\n",
        "  print(\"El numero es positivo\")"
      ],
      "metadata": {
        "colab": {
          "base_uri": "https://localhost:8080/"
        },
        "id": "dV1o6pq2SxuG",
        "outputId": "2ffc131c-b8f2-4921-f090-0910e581c105"
      },
      "execution_count": null,
      "outputs": [
        {
          "output_type": "stream",
          "name": "stdout",
          "text": [
            "Ingrese numero-8\n",
            "El numero es negativo\n"
          ]
        }
      ]
    },
    {
      "cell_type": "markdown",
      "source": [
        "EJERCICIO 4"
      ],
      "metadata": {
        "id": "BSmb71isTnfW"
      }
    },
    {
      "cell_type": "code",
      "source": [
        "L=[1,33,52,65,123,32]\n",
        "suma=0\n",
        "for i in L:\n",
        "  suma=suma+i\n",
        "print(suma)  "
      ],
      "metadata": {
        "colab": {
          "base_uri": "https://localhost:8080/"
        },
        "id": "5k4D9tkBTqVE",
        "outputId": "49aaf63e-68bd-4b5a-cac1-67fa8ce6efec"
      },
      "execution_count": null,
      "outputs": [
        {
          "output_type": "stream",
          "name": "stdout",
          "text": [
            "306\n"
          ]
        }
      ]
    },
    {
      "cell_type": "markdown",
      "source": [
        "EJERCICIOS"
      ],
      "metadata": {
        "id": "hsYQ71i0QR5o"
      }
    },
    {
      "cell_type": "markdown",
      "source": [
        "1. Programa que encuentre todos los numeros que son divisiblen entre 7 pero no son multiplos de 5 ente 2000 y 3200 ambos numeros incluidos "
      ],
      "metadata": {
        "id": "p9xC3lb8QU0I"
      }
    },
    {
      "cell_type": "code",
      "source": [
        "linf=2000\n",
        "lsup=3200\n",
        "k=0\n",
        "for i in range(linf,lsup+1,1):\n",
        "  if i%7==0 and i%5:\n",
        "    k+=1\n",
        "print(\"el total de números encontrados es: -> \",k)"
      ],
      "metadata": {
        "colab": {
          "base_uri": "https://localhost:8080/"
        },
        "id": "tlTThdaJQrpu",
        "outputId": "beb9a210-d8f2-4bea-dc86-3366924d4078"
      },
      "execution_count": null,
      "outputs": [
        {
          "output_type": "stream",
          "name": "stdout",
          "text": [
            "el total de números encontrados es: ->  138\n"
          ]
        }
      ]
    },
    {
      "cell_type": "markdown",
      "source": [
        "2.Escriba un programa que calcule si N es un numero primo "
      ],
      "metadata": {
        "id": "4VrcppbkTOq_"
      }
    },
    {
      "cell_type": "code",
      "source": [
        "N=1\n",
        "f=0 #flag-> bandera, señal\n",
        "for i in range(2,N):# No necesito N exacto, ni el 1\n",
        "  if N%i==0:\n",
        "    print(\"El número no es primo\")\n",
        "    f=1\n",
        "    break\n",
        "if f==0:# ==1 (verdadero!)\n",
        "  print('El número es primo')"
      ],
      "metadata": {
        "colab": {
          "base_uri": "https://localhost:8080/"
        },
        "id": "XOahKx0ATWJN",
        "outputId": "9c03d346-2d99-42c5-e076-f1fa9c1778d9"
      },
      "execution_count": null,
      "outputs": [
        {
          "output_type": "stream",
          "name": "stdout",
          "text": [
            "El número es primo\n"
          ]
        }
      ]
    },
    {
      "cell_type": "markdown",
      "source": [
        "3.Escriba un programa que calcule la suma de tos los elementos de una lista"
      ],
      "metadata": {
        "id": "Q-Ly6y2tUFZC"
      }
    },
    {
      "cell_type": "code",
      "source": [
        "lista=[1,2,3,4,5,6,7,8,9]\n",
        "suma_lista=sum(lista)\n",
        "suma_lista"
      ],
      "metadata": {
        "colab": {
          "base_uri": "https://localhost:8080/"
        },
        "id": "4Y9cOEO1UQCG",
        "outputId": "8b35e44b-22d7-42bb-f193-94fddb888650"
      },
      "execution_count": null,
      "outputs": [
        {
          "output_type": "execute_result",
          "data": {
            "text/plain": [
              "45"
            ]
          },
          "metadata": {},
          "execution_count": 12
        }
      ]
    },
    {
      "cell_type": "markdown",
      "source": [
        "4. Escriba un programa que cuente cuantos numeros son multiplos 2 de una lista "
      ],
      "metadata": {
        "id": "ZQ-donJhUwrT"
      }
    },
    {
      "cell_type": "code",
      "source": [
        "lista=[5,4,8,7,6,9,5,23]\n",
        "k=0\n",
        "for i in lista:\n",
        "  if i%2==0:\n",
        "    k=k+1\n",
        "print(k)    "
      ],
      "metadata": {
        "colab": {
          "base_uri": "https://localhost:8080/"
        },
        "id": "srvS7SkYU9iw",
        "outputId": "3778f6e6-4f1e-4a2b-bf2f-097959c31d4d"
      },
      "execution_count": null,
      "outputs": [
        {
          "output_type": "stream",
          "name": "stdout",
          "text": [
            "3\n"
          ]
        }
      ]
    },
    {
      "cell_type": "markdown",
      "source": [
        "5. Escriba un programa qu einvierta una cadena de texto"
      ],
      "metadata": {
        "id": "R7Lxs25IV7o7"
      }
    },
    {
      "cell_type": "code",
      "source": [
        "cadena= \"John\"\n",
        "list_cadena=list(cadena)\n",
        "list_cadena\n",
        "list_cadena.reverse()\n",
        "' '.join([str(elem) for elem in list_cadena])"
      ],
      "metadata": {
        "colab": {
          "base_uri": "https://localhost:8080/",
          "height": 35
        },
        "id": "v70EBxnHWFJe",
        "outputId": "0876c7a2-4133-4bc8-a436-6b4f2a49eaae"
      },
      "execution_count": null,
      "outputs": [
        {
          "output_type": "execute_result",
          "data": {
            "text/plain": [
              "'n h o J'"
            ],
            "application/vnd.google.colaboratory.intrinsic+json": {
              "type": "string"
            }
          },
          "metadata": {},
          "execution_count": 34
        }
      ]
    },
    {
      "cell_type": "markdown",
      "source": [
        "6. Escriba un programa que cuente cuantas veces aparece la letra \"a\" en una palabra"
      ],
      "metadata": {
        "id": "arML-4LlYWQk"
      }
    },
    {
      "cell_type": "code",
      "source": [
        "a=\"caracteristica\"\n",
        "a.count(\"a\")"
      ],
      "metadata": {
        "colab": {
          "base_uri": "https://localhost:8080/"
        },
        "id": "fGY9Nq-bYfE4",
        "outputId": "f55641e5-ae17-44b4-af76-1e1956e7ff0f"
      },
      "execution_count": null,
      "outputs": [
        {
          "output_type": "execute_result",
          "data": {
            "text/plain": [
              "3"
            ]
          },
          "metadata": {},
          "execution_count": 36
        }
      ]
    },
    {
      "cell_type": "markdown",
      "source": [
        "7.Escriba un programa que decida si dos contenedores son iguales "
      ],
      "metadata": {
        "id": "m7yfVu7mZJSc"
      }
    },
    {
      "cell_type": "code",
      "source": [
        "contenedor1= [4,5,5,(7,8),\"hola\"]\n",
        "contenedor2= [4,5,8 ,7,\"hola\"]\n",
        "if contenedor1==contenedor2:\n",
        "  print(\"los contenedores son iguales\")\n",
        "else:\n",
        "  print(\"los contenedores son diferentes\")"
      ],
      "metadata": {
        "colab": {
          "base_uri": "https://localhost:8080/"
        },
        "id": "-BXR2fdxZSOQ",
        "outputId": "31b737b3-bd18-4b56-a1ca-35ec42da8004"
      },
      "execution_count": null,
      "outputs": [
        {
          "output_type": "stream",
          "name": "stdout",
          "text": [
            "los contenedores son diferentes\n"
          ]
        }
      ]
    },
    {
      "cell_type": "markdown",
      "source": [
        "8. Escriba un programa que calcule el factorial de un numero "
      ],
      "metadata": {
        "id": "_33fPthCZ6yw"
      }
    },
    {
      "cell_type": "code",
      "source": [
        "a=int(input())\n",
        "fact=1\n",
        "if a==0:\n",
        "  fact=1\n",
        "else:\n",
        "  for i in range(2,a+1):\n",
        "    fact=fact*i\n",
        "print(fact)\n"
      ],
      "metadata": {
        "colab": {
          "base_uri": "https://localhost:8080/"
        },
        "id": "oZkT7z2paBV9",
        "outputId": "fb3ced53-0899-46e5-8f53-d8ded1bae914"
      },
      "execution_count": null,
      "outputs": [
        {
          "output_type": "stream",
          "name": "stdout",
          "text": [
            "1\n",
            "1\n"
          ]
        }
      ]
    },
    {
      "cell_type": "markdown",
      "source": [
        "9. Escriba un programa que dado dos numeros eleve el primero al segundo"
      ],
      "metadata": {
        "id": "C8GrswcQhgtc"
      }
    },
    {
      "cell_type": "code",
      "source": [
        "def a_potencia_b(a,b):\n",
        "  return a**b"
      ],
      "metadata": {
        "id": "KZjVIa3WhoHO"
      },
      "execution_count": null,
      "outputs": []
    },
    {
      "cell_type": "code",
      "source": [
        "a_potencia_b(2,3)"
      ],
      "metadata": {
        "colab": {
          "base_uri": "https://localhost:8080/"
        },
        "id": "wDHluIW-7Qm5",
        "outputId": "30ab3b44-0219-4981-d816-8046d6c26730"
      },
      "execution_count": null,
      "outputs": [
        {
          "output_type": "execute_result",
          "data": {
            "text/plain": [
              "8"
            ]
          },
          "metadata": {},
          "execution_count": 3
        }
      ]
    },
    {
      "cell_type": "markdown",
      "source": [
        "10. Escriba un programa que decida si un elemento se encuentra en un contenedor "
      ],
      "metadata": {
        "id": "XwCJjpyGjTq0"
      }
    },
    {
      "cell_type": "code",
      "source": [
        "a=int(input(\"elemento en el contenedor:\"))\n",
        "contenedor=int(input(\"elementos del contenedor:\"))\n",
        "contenedor_final=[]\n",
        "for i in range(contenedor):\n",
        "  contenedor_final.append(int(input()))\n",
        "\n",
        "if a in contenedor_final:\n",
        "  print(a, \"esta en el contenedor \")\n",
        "else:\n",
        "  print(a, \"no esta en el contenedor\")  "
      ],
      "metadata": {
        "colab": {
          "base_uri": "https://localhost:8080/"
        },
        "id": "Bd3Yw66bj9Zc",
        "outputId": "b59458f7-4804-4e79-b7f9-90c4fa7a72dc"
      },
      "execution_count": null,
      "outputs": [
        {
          "output_type": "stream",
          "name": "stdout",
          "text": [
            "elemento en el contenedor:4\n",
            "elementos del contenedor:2\n",
            "1\n",
            "2\n",
            "4 no esta en el contenedor\n"
          ]
        }
      ]
    },
    {
      "cell_type": "markdown",
      "source": [
        "DESEMPAQUETAR LISTAS O TUPLAS"
      ],
      "metadata": {
        "id": "oDotmzI01Kpr"
      }
    },
    {
      "cell_type": "code",
      "source": [
        "a=(1,2,3,5,4,7)\n",
        "b=[1,2,5,4,7,8]"
      ],
      "metadata": {
        "id": "S-eyy3Gj1QP_"
      },
      "execution_count": null,
      "outputs": []
    },
    {
      "cell_type": "code",
      "source": [
        "a,s,d,f,g,e=a"
      ],
      "metadata": {
        "id": "4AAyn9TF1rk5"
      },
      "execution_count": null,
      "outputs": []
    },
    {
      "cell_type": "code",
      "source": [
        "a+12"
      ],
      "metadata": {
        "colab": {
          "base_uri": "https://localhost:8080/"
        },
        "id": "dqPIGpRR1w0g",
        "outputId": "64c79986-88f7-4f2f-9c2b-6f164d4f6a07"
      },
      "execution_count": null,
      "outputs": [
        {
          "output_type": "execute_result",
          "data": {
            "text/plain": [
              "13"
            ]
          },
          "metadata": {},
          "execution_count": 11
        }
      ]
    },
    {
      "cell_type": "markdown",
      "source": [
        "CONJUTOS:SETS"
      ],
      "metadata": {
        "id": "uYX3W8262MYJ"
      }
    },
    {
      "cell_type": "code",
      "source": [
        "d={1,2,3}\n",
        "type(d)"
      ],
      "metadata": {
        "colab": {
          "base_uri": "https://localhost:8080/"
        },
        "id": "CjNRUU382P7U",
        "outputId": "be58f82e-114e-4ada-819a-165f41e26ca8"
      },
      "execution_count": null,
      "outputs": [
        {
          "output_type": "execute_result",
          "data": {
            "text/plain": [
              "set"
            ]
          },
          "metadata": {},
          "execution_count": 12
        }
      ]
    },
    {
      "cell_type": "code",
      "source": [
        "d={}\n",
        "type(d)"
      ],
      "metadata": {
        "colab": {
          "base_uri": "https://localhost:8080/"
        },
        "id": "q26Sysnb3O6n",
        "outputId": "852596fe-9c76-43ad-b35e-8debe905d808"
      },
      "execution_count": null,
      "outputs": [
        {
          "output_type": "execute_result",
          "data": {
            "text/plain": [
              "dict"
            ]
          },
          "metadata": {},
          "execution_count": 13
        }
      ]
    },
    {
      "cell_type": "code",
      "source": [
        "\n",
        "nombres={\"John\",\"Andres\",\"Cristiano\",\"Sergio\"}"
      ],
      "metadata": {
        "id": "4hgOJ5Bh3TEJ"
      },
      "execution_count": null,
      "outputs": []
    },
    {
      "cell_type": "code",
      "source": [
        "print(nombres)"
      ],
      "metadata": {
        "colab": {
          "base_uri": "https://localhost:8080/"
        },
        "id": "NERuo1jj3okZ",
        "outputId": "ecaafdf8-a132-4085-f7c5-bff057e9614e"
      },
      "execution_count": null,
      "outputs": [
        {
          "output_type": "stream",
          "name": "stdout",
          "text": [
            "{'John', 'Cristiano', 'Andres', 'Sergio'}\n"
          ]
        }
      ]
    },
    {
      "cell_type": "code",
      "source": [
        "for i in nombres:\n",
        "  print(i)"
      ],
      "metadata": {
        "colab": {
          "base_uri": "https://localhost:8080/"
        },
        "id": "hDXKPsRZ3xsF",
        "outputId": "3d889457-9c2f-4400-973c-5f4d030f7851"
      },
      "execution_count": null,
      "outputs": [
        {
          "output_type": "stream",
          "name": "stdout",
          "text": [
            "John\n",
            "Cristiano\n",
            "Andres\n",
            "Sergio\n"
          ]
        }
      ]
    },
    {
      "cell_type": "code",
      "source": [
        "sorted(nombres)"
      ],
      "metadata": {
        "colab": {
          "base_uri": "https://localhost:8080/"
        },
        "id": "Z8oQPOXc4-JD",
        "outputId": "7e75939f-68b2-416c-a4de-233267751fc1"
      },
      "execution_count": null,
      "outputs": [
        {
          "output_type": "execute_result",
          "data": {
            "text/plain": [
              "['Andres', 'Cristiano', 'John', 'Sergio']"
            ]
          },
          "metadata": {},
          "execution_count": 18
        }
      ]
    },
    {
      "cell_type": "code",
      "source": [
        "METODO .add()"
      ],
      "metadata": {
        "id": "EzO4QT6w5Pt1"
      },
      "execution_count": null,
      "outputs": []
    },
    {
      "cell_type": "code",
      "source": [
        "\n",
        "nombres.add(\"Sil\")\n",
        "nombres"
      ],
      "metadata": {
        "colab": {
          "base_uri": "https://localhost:8080/"
        },
        "id": "m9J76Lvr5TUd",
        "outputId": "8216df2c-8dfb-42ea-f123-8208a5a8e0a9"
      },
      "execution_count": null,
      "outputs": [
        {
          "output_type": "execute_result",
          "data": {
            "text/plain": [
              "{'Andres', 'Cristiano', 'John', 'Sergio', 'Sil'}"
            ]
          },
          "metadata": {},
          "execution_count": 20
        }
      ]
    },
    {
      "cell_type": "markdown",
      "source": [
        "METODO .remove()"
      ],
      "metadata": {
        "id": "AOMgNqQL5dIl"
      }
    },
    {
      "cell_type": "code",
      "source": [
        "\n",
        "nombres.remove(\"John\")\n",
        "nombres"
      ],
      "metadata": {
        "colab": {
          "base_uri": "https://localhost:8080/"
        },
        "id": "MzgeleUS5Y55",
        "outputId": "918523b3-6fa7-400c-a743-a1335d10a149"
      },
      "execution_count": null,
      "outputs": [
        {
          "output_type": "execute_result",
          "data": {
            "text/plain": [
              "{'Andres', 'Cristiano', 'Sergio', 'Sil'}"
            ]
          },
          "metadata": {},
          "execution_count": 25
        }
      ]
    },
    {
      "cell_type": "markdown",
      "source": [
        ".discard() no devuleve error si no encuntra el elemento x a remover "
      ],
      "metadata": {
        "id": "mU7XvuAN5whX"
      }
    },
    {
      "cell_type": "markdown",
      "source": [
        "METODO .pop"
      ],
      "metadata": {
        "id": "hT6u3OKB57kg"
      }
    },
    {
      "cell_type": "code",
      "source": [
        "nombres.pop()\n",
        "nombres"
      ],
      "metadata": {
        "colab": {
          "base_uri": "https://localhost:8080/"
        },
        "id": "b_M_YYzb53P1",
        "outputId": "33472424-1bcd-4d8a-fa3e-797265ce40aa"
      },
      "execution_count": null,
      "outputs": [
        {
          "output_type": "execute_result",
          "data": {
            "text/plain": [
              "{'Andres', 'Sergio'}"
            ]
          },
          "metadata": {},
          "execution_count": 27
        }
      ]
    },
    {
      "cell_type": "markdown",
      "source": [
        "METODO .copy() deepcopy SAME"
      ],
      "metadata": {
        "id": "K4SoHVKq6HKm"
      }
    },
    {
      "cell_type": "code",
      "source": [
        "nuevo_nombres=nombres.copy()\n",
        "nuevo_nombres"
      ],
      "metadata": {
        "colab": {
          "base_uri": "https://localhost:8080/"
        },
        "id": "HNb8xRrq6Cx9",
        "outputId": "87123da1-9d21-478a-a890-b71a51a2f472"
      },
      "execution_count": null,
      "outputs": [
        {
          "output_type": "execute_result",
          "data": {
            "text/plain": [
              "{'Andres', 'Sergio'}"
            ]
          },
          "metadata": {},
          "execution_count": 30
        }
      ]
    },
    {
      "cell_type": "markdown",
      "source": [
        "METODO .clear()"
      ],
      "metadata": {
        "id": "hDu3AzjU6lpk"
      }
    },
    {
      "cell_type": "code",
      "source": [
        "nombres.clear()\n",
        "nombres"
      ],
      "metadata": {
        "colab": {
          "base_uri": "https://localhost:8080/"
        },
        "id": "clD9Dmtc6lL5",
        "outputId": "e6abc29c-c527-4379-8ed5-7b153797cfdb"
      },
      "execution_count": null,
      "outputs": [
        {
          "output_type": "execute_result",
          "data": {
            "text/plain": [
              "set()"
            ]
          },
          "metadata": {},
          "execution_count": 32
        }
      ]
    },
    {
      "cell_type": "markdown",
      "source": [
        "OPERACIONES Y SUS OPERADORES EN CONJUNTOS \n"
      ],
      "metadata": {
        "id": "rDaaCqd961Ie"
      }
    },
    {
      "cell_type": "markdown",
      "source": [
        "OPERADOR in\n"
      ],
      "metadata": {
        "id": "Or9myT-z65cC"
      }
    },
    {
      "cell_type": "code",
      "source": [
        "\"Andres\" in nombres"
      ],
      "metadata": {
        "colab": {
          "base_uri": "https://localhost:8080/"
        },
        "id": "PEUcJ6Zg68om",
        "outputId": "b502332f-97b9-4c39-dfe2-11922070fe31"
      },
      "execution_count": null,
      "outputs": [
        {
          "output_type": "execute_result",
          "data": {
            "text/plain": [
              "False"
            ]
          },
          "metadata": {},
          "execution_count": 33
        }
      ]
    },
    {
      "cell_type": "markdown",
      "source": [
        "DIFERENCIA DE CONFUNJOS "
      ],
      "metadata": {
        "id": "csj616iy7GB4"
      }
    },
    {
      "cell_type": "code",
      "source": [
        "nuevo_nombres-nombres\n",
        "nuevo_nombres.difference(nombres)\n",
        "nuevo_nombres.difference_update(nombres)"
      ],
      "metadata": {
        "colab": {
          "base_uri": "https://localhost:8080/"
        },
        "id": "MGYl0NLw7J-d",
        "outputId": "11610d00-feff-4b3d-c4e3-6143378f293e"
      },
      "execution_count": null,
      "outputs": [
        {
          "output_type": "execute_result",
          "data": {
            "text/plain": [
              "set()"
            ]
          },
          "metadata": {},
          "execution_count": 40
        }
      ]
    },
    {
      "cell_type": "markdown",
      "source": [
        "INTERSECCION"
      ],
      "metadata": {
        "id": "hyjpmk7z766V"
      }
    },
    {
      "cell_type": "code",
      "source": [
        "nuevo_nombres & nombres\n",
        "nuevo_nombres.intersection(nombres)\n",
        "nuevo_nombres.intersection_update(nombres)"
      ],
      "metadata": {
        "id": "VVIMHUCB7jBI"
      },
      "execution_count": null,
      "outputs": []
    },
    {
      "cell_type": "markdown",
      "source": [
        "UNION"
      ],
      "metadata": {
        "id": "VhOMtlCX78pz"
      }
    },
    {
      "cell_type": "code",
      "source": [
        "nuevo_nombres | nombres\n",
        "nuevo_nombres.union(nombres)"
      ],
      "metadata": {
        "id": "po2Gvz177-d8"
      },
      "execution_count": null,
      "outputs": []
    },
    {
      "cell_type": "markdown",
      "source": [
        "DIFERENCIA SIMETRICA A|B-A & B"
      ],
      "metadata": {
        "id": "qCRu7xsd8LDg"
      }
    },
    {
      "cell_type": "code",
      "source": [
        "nuevo_nombres.symmetric_difference(nombres)\n",
        "nuevo_nombres.symmetric_difference_update(nombres)"
      ],
      "metadata": {
        "id": "BewWHW9c8YCo"
      },
      "execution_count": null,
      "outputs": []
    },
    {
      "cell_type": "markdown",
      "source": [
        "ACTUALIZAR CONJUNTO agregar los elementoas que  no existen "
      ],
      "metadata": {
        "id": "4JyhkQ9U8l0h"
      }
    },
    {
      "cell_type": "code",
      "source": [
        "nuevo_nombres.update([\"John\"])\n",
        "nuevo_nombres"
      ],
      "metadata": {
        "colab": {
          "base_uri": "https://localhost:8080/"
        },
        "id": "oZAN7b_x8lTB",
        "outputId": "e7fc0d4c-66f4-48cd-99a5-1dd3ad09bf8d"
      },
      "execution_count": null,
      "outputs": [
        {
          "output_type": "execute_result",
          "data": {
            "text/plain": [
              "{'Andres', 'Cristiano', 'John', 'Sergio'}"
            ]
          },
          "metadata": {},
          "execution_count": 42
        }
      ]
    },
    {
      "cell_type": "markdown",
      "source": [
        "OPERADORES BOLEANOS\n"
      ],
      "metadata": {
        "id": "IT5WiN-6DKqQ"
      }
    },
    {
      "cell_type": "markdown",
      "source": [
        "DISYUNTOS "
      ],
      "metadata": {
        "id": "b2Hpuh8CDMuu"
      }
    },
    {
      "cell_type": "code",
      "source": [
        "nuevo_nombres.isdisjoint(nombres)\n"
      ],
      "metadata": {
        "id": "U0toD4O_DJQJ"
      },
      "execution_count": null,
      "outputs": []
    },
    {
      "cell_type": "markdown",
      "source": [
        "SUBCONJUNTO O SUPERCONJUNTO"
      ],
      "metadata": {
        "id": "fkYq3vD1DZHY"
      }
    },
    {
      "cell_type": "code",
      "source": [
        "nuevo_nombres.issubset(nombres)\n",
        "nuevo_nombres.issuperset(nombres)"
      ],
      "metadata": {
        "id": "SrN-S62mDe-e"
      },
      "execution_count": null,
      "outputs": []
    },
    {
      "cell_type": "markdown",
      "source": [
        "DICCIONARIOS"
      ],
      "metadata": {
        "id": "ChoEOzxvDtBX"
      }
    },
    {
      "cell_type": "code",
      "source": [
        "edades={\"john\":22,\"andres\":23,\"sil\":23}\n",
        "edades"
      ],
      "metadata": {
        "colab": {
          "base_uri": "https://localhost:8080/"
        },
        "id": "M07vEdFoDsnW",
        "outputId": "16bcb743-2ffa-41df-8968-7863213aab9e"
      },
      "execution_count": null,
      "outputs": [
        {
          "output_type": "execute_result",
          "data": {
            "text/plain": [
              "{'andres': 23, 'john': 22, 'sil': 23}"
            ]
          },
          "metadata": {},
          "execution_count": 54
        }
      ]
    },
    {
      "cell_type": "markdown",
      "source": [
        "USO DE LA CLAVE"
      ],
      "metadata": {
        "id": "RTvHyB0kEnrN"
      }
    },
    {
      "cell_type": "code",
      "source": [
        "edades[\"john\"]"
      ],
      "metadata": {
        "colab": {
          "base_uri": "https://localhost:8080/"
        },
        "id": "q0BsCcb8EqdR",
        "outputId": "c5cf8d92-7df9-4f27-ca96-0ab5c0cd35b1"
      },
      "execution_count": null,
      "outputs": [
        {
          "output_type": "execute_result",
          "data": {
            "text/plain": [
              "22"
            ]
          },
          "metadata": {},
          "execution_count": 55
        }
      ]
    },
    {
      "cell_type": "code",
      "source": [
        "18 in edades"
      ],
      "metadata": {
        "colab": {
          "base_uri": "https://localhost:8080/"
        },
        "id": "lnr4tWqFE9Cc",
        "outputId": "836fa0aa-cdc9-41ac-d47a-eb755170c174"
      },
      "execution_count": null,
      "outputs": [
        {
          "output_type": "execute_result",
          "data": {
            "text/plain": [
              "False"
            ]
          },
          "metadata": {},
          "execution_count": 56
        }
      ]
    },
    {
      "cell_type": "code",
      "source": [
        "\"john\" in edades"
      ],
      "metadata": {
        "colab": {
          "base_uri": "https://localhost:8080/"
        },
        "id": "mPS8ER6FGGYK",
        "outputId": "f3193605-9e4d-427e-8b4d-d0c1430bb5a0"
      },
      "execution_count": null,
      "outputs": [
        {
          "output_type": "execute_result",
          "data": {
            "text/plain": [
              "True"
            ]
          },
          "metadata": {},
          "execution_count": 57
        }
      ]
    },
    {
      "cell_type": "code",
      "source": [
        "edades[\"john\"]+1"
      ],
      "metadata": {
        "colab": {
          "base_uri": "https://localhost:8080/"
        },
        "id": "vxeLcGd1GOLs",
        "outputId": "d82fbc8e-89f9-42fa-ce78-acb27ec8fffc"
      },
      "execution_count": null,
      "outputs": [
        {
          "output_type": "execute_result",
          "data": {
            "text/plain": [
              "23"
            ]
          },
          "metadata": {},
          "execution_count": 58
        }
      ]
    },
    {
      "cell_type": "markdown",
      "source": [
        ".get()"
      ],
      "metadata": {
        "id": "K0eWorXpGUAt"
      }
    },
    {
      "cell_type": "code",
      "source": [
        "edades.get(\"juanis\",0)"
      ],
      "metadata": {
        "colab": {
          "base_uri": "https://localhost:8080/"
        },
        "id": "sqCIf0jgGYQQ",
        "outputId": "a8da9106-947b-47f5-a044-01793e3f2cff"
      },
      "execution_count": null,
      "outputs": [
        {
          "output_type": "execute_result",
          "data": {
            "text/plain": [
              "0"
            ]
          },
          "metadata": {},
          "execution_count": 69
        }
      ]
    },
    {
      "cell_type": "code",
      "source": [
        "edades.get(\"john\",0)"
      ],
      "metadata": {
        "colab": {
          "base_uri": "https://localhost:8080/"
        },
        "id": "g86f8jUtG9Bz",
        "outputId": "15661e89-c951-40eb-abc1-2c92737b9796"
      },
      "execution_count": null,
      "outputs": [
        {
          "output_type": "execute_result",
          "data": {
            "text/plain": [
              "22"
            ]
          },
          "metadata": {},
          "execution_count": 70
        }
      ]
    },
    {
      "cell_type": "markdown",
      "source": [
        ".setdefault()"
      ],
      "metadata": {
        "id": "-J8P7aKqHBrV"
      }
    },
    {
      "cell_type": "code",
      "source": [
        "edades"
      ],
      "metadata": {
        "colab": {
          "base_uri": "https://localhost:8080/"
        },
        "id": "QyWoAm1NHBT3",
        "outputId": "a4b27d5d-6b76-42ea-e8a8-3118e37c35aa"
      },
      "execution_count": null,
      "outputs": [
        {
          "output_type": "execute_result",
          "data": {
            "text/plain": [
              "{'andres': 23, 'john': 22, 'sil': 23}"
            ]
          },
          "metadata": {},
          "execution_count": 71
        }
      ]
    },
    {
      "cell_type": "code",
      "source": [
        "edades.setdefault(\"juan\",24)\n",
        "edades"
      ],
      "metadata": {
        "colab": {
          "base_uri": "https://localhost:8080/"
        },
        "id": "U_yVfHPHHGlQ",
        "outputId": "57599efd-91c1-4a86-9af0-3cf2f3624ac0"
      },
      "execution_count": null,
      "outputs": [
        {
          "output_type": "execute_result",
          "data": {
            "text/plain": [
              "{'andres': 23, 'john': 22, 'juan': 24, 'sil': 23}"
            ]
          },
          "metadata": {},
          "execution_count": 73
        }
      ]
    },
    {
      "cell_type": "markdown",
      "source": [
        ".items() .keys() .values()a"
      ],
      "metadata": {
        "id": "1KQjQDfHHTZB"
      }
    },
    {
      "cell_type": "code",
      "source": [
        "edades.items()"
      ],
      "metadata": {
        "colab": {
          "base_uri": "https://localhost:8080/"
        },
        "id": "0gQ8IsynHYbu",
        "outputId": "f0c2bd13-7685-4771-9747-82dbcd9af395"
      },
      "execution_count": null,
      "outputs": [
        {
          "output_type": "execute_result",
          "data": {
            "text/plain": [
              "dict_items([('john', 22), ('andres', 23), ('sil', 23), ('juan', 24)])"
            ]
          },
          "metadata": {},
          "execution_count": 74
        }
      ]
    },
    {
      "cell_type": "code",
      "source": [
        "edades.keys()"
      ],
      "metadata": {
        "colab": {
          "base_uri": "https://localhost:8080/"
        },
        "id": "7860Ok9KHiEW",
        "outputId": "02716fa6-a1b2-4ef5-fc86-4c93c17b8587"
      },
      "execution_count": null,
      "outputs": [
        {
          "output_type": "execute_result",
          "data": {
            "text/plain": [
              "dict_keys(['john', 'andres', 'sil', 'juan'])"
            ]
          },
          "metadata": {},
          "execution_count": 76
        }
      ]
    },
    {
      "cell_type": "code",
      "source": [
        "edades.values()"
      ],
      "metadata": {
        "colab": {
          "base_uri": "https://localhost:8080/"
        },
        "id": "TVtrGCFyHnts",
        "outputId": "89613ac2-59ba-4785-e7fe-6b486e70f53f"
      },
      "execution_count": null,
      "outputs": [
        {
          "output_type": "execute_result",
          "data": {
            "text/plain": [
              "dict_values([22, 23, 23, 24])"
            ]
          },
          "metadata": {},
          "execution_count": 77
        }
      ]
    },
    {
      "cell_type": "code",
      "source": [
        "for nombre,edad in edades.items():\n",
        "  print(nombre,edad)"
      ],
      "metadata": {
        "colab": {
          "base_uri": "https://localhost:8080/"
        },
        "id": "ruvo7E2VHqXF",
        "outputId": "a0aa9e38-2b26-45de-9c4c-5f429e285f8f"
      },
      "execution_count": null,
      "outputs": [
        {
          "output_type": "stream",
          "name": "stdout",
          "text": [
            "john 22\n",
            "andres 23\n",
            "sil 23\n",
            "juan 24\n"
          ]
        }
      ]
    },
    {
      "cell_type": "markdown",
      "source": [
        ".pop() .popitem()"
      ],
      "metadata": {
        "id": "nUIj59S1ICaB"
      }
    },
    {
      "cell_type": "code",
      "source": [
        "edades.pop(\"john\")"
      ],
      "metadata": {
        "colab": {
          "base_uri": "https://localhost:8080/"
        },
        "id": "0zpg48QxIJwx",
        "outputId": "ca87dfe1-da72-409f-d76e-f1ffbaeb3f51"
      },
      "execution_count": null,
      "outputs": [
        {
          "output_type": "execute_result",
          "data": {
            "text/plain": [
              "22"
            ]
          },
          "metadata": {},
          "execution_count": 84
        }
      ]
    },
    {
      "cell_type": "code",
      "source": [
        "edades.popitem()"
      ],
      "metadata": {
        "colab": {
          "base_uri": "https://localhost:8080/"
        },
        "id": "I-tiKY6oITlt",
        "outputId": "e29f8cf5-8562-439b-829c-00737945c1e1"
      },
      "execution_count": null,
      "outputs": [
        {
          "output_type": "execute_result",
          "data": {
            "text/plain": [
              "('juan', 24)"
            ]
          },
          "metadata": {},
          "execution_count": 86
        }
      ]
    },
    {
      "cell_type": "markdown",
      "source": [
        "EJERCICIOS"
      ],
      "metadata": {
        "id": "Z_lkcw2IJbY0"
      }
    },
    {
      "cell_type": "code",
      "source": [
        "precios={\"bananos\":300,\"manzanas\":1000,\"mangos\":800,\"piñas\":2200}"
      ],
      "metadata": {
        "id": "BqiEBP3cJdW-"
      },
      "execution_count": null,
      "outputs": []
    },
    {
      "cell_type": "markdown",
      "source": [
        "precio de 10 bananos mas 5 manzanas mas 3 mangos \n"
      ],
      "metadata": {
        "id": "sNdhj5r-JvHv"
      }
    },
    {
      "cell_type": "code",
      "source": [
        "precios[\"bananos\"]*10+precios[\"mangos\"]*3+precios[\"manzanas\"]*5"
      ],
      "metadata": {
        "colab": {
          "base_uri": "https://localhost:8080/"
        },
        "id": "QvsNYovsJ4Va",
        "outputId": "c247140b-7cfb-4271-fa1e-fdc6edccbb79"
      },
      "execution_count": null,
      "outputs": [
        {
          "output_type": "execute_result",
          "data": {
            "text/plain": [
              "10400"
            ]
          },
          "metadata": {},
          "execution_count": 89
        }
      ]
    },
    {
      "cell_type": "markdown",
      "source": [
        "dada frase, almacenar en u diccionario las letras y las veces que aparece la letra en la frase "
      ],
      "metadata": {
        "id": "xMEuq0xRKVS4"
      }
    },
    {
      "cell_type": "code",
      "source": [
        "frase=\"hola, damas y caballeros. Bienvenidos al curso de python\""
      ],
      "metadata": {
        "id": "JQ8fZxvvKnob"
      },
      "execution_count": null,
      "outputs": []
    },
    {
      "cell_type": "code",
      "source": [
        "set(frase)"
      ],
      "metadata": {
        "colab": {
          "base_uri": "https://localhost:8080/"
        },
        "id": "qVp-WixlLHqK",
        "outputId": "7b8a7b1a-0d0c-48f6-ef8e-d3c7a4178223"
      },
      "execution_count": null,
      "outputs": [
        {
          "output_type": "execute_result",
          "data": {
            "text/plain": [
              "{' ',\n",
              " ',',\n",
              " '.',\n",
              " 'B',\n",
              " 'a',\n",
              " 'b',\n",
              " 'c',\n",
              " 'd',\n",
              " 'e',\n",
              " 'h',\n",
              " 'i',\n",
              " 'l',\n",
              " 'm',\n",
              " 'n',\n",
              " 'o',\n",
              " 'p',\n",
              " 'r',\n",
              " 's',\n",
              " 't',\n",
              " 'u',\n",
              " 'v',\n",
              " 'y'}"
            ]
          },
          "metadata": {},
          "execution_count": 91
        }
      ]
    },
    {
      "cell_type": "code",
      "source": [
        "respuesta={}\n",
        "for i in set(frase):\n",
        "  respuesta[i]=frase.count(i)\n",
        "respuesta"
      ],
      "metadata": {
        "colab": {
          "base_uri": "https://localhost:8080/"
        },
        "id": "v2ADIEFQMBDu",
        "outputId": "4855d6bc-1500-4b3e-eda3-eba030bd5dd6"
      },
      "execution_count": null,
      "outputs": [
        {
          "output_type": "execute_result",
          "data": {
            "text/plain": [
              "{' ': 8,\n",
              " ',': 1,\n",
              " '.': 1,\n",
              " 'B': 1,\n",
              " 'a': 6,\n",
              " 'b': 1,\n",
              " 'c': 2,\n",
              " 'd': 3,\n",
              " 'e': 4,\n",
              " 'h': 2,\n",
              " 'i': 2,\n",
              " 'l': 4,\n",
              " 'm': 1,\n",
              " 'n': 3,\n",
              " 'o': 5,\n",
              " 'p': 1,\n",
              " 'r': 2,\n",
              " 's': 4,\n",
              " 't': 1,\n",
              " 'u': 1,\n",
              " 'v': 1,\n",
              " 'y': 2}"
            ]
          },
          "metadata": {},
          "execution_count": 92
        }
      ]
    },
    {
      "cell_type": "markdown",
      "source": [
        "EJERCICIOS"
      ],
      "metadata": {
        "id": "UkyaPUr6xYKR"
      }
    },
    {
      "cell_type": "markdown",
      "source": [
        "1."
      ],
      "metadata": {
        "id": "bEVDzxQoyMfJ"
      }
    },
    {
      "cell_type": "code",
      "source": [
        "grades = {'juan':(5.0, 5.0,4.9,4.0), 'david': (1.0,3.0,4.5,5.0), 'jose':(2.0,1.0,3.5,5.0), 'daniela':(0.0,5.0,5.0,5.0) }\n",
        "dic= dict()\n",
        "for nombre, notas in grades.items():\n",
        "  dic[nombre]=round(sum(notas)/len(grades.items()),2)\n",
        "print(dic) "
      ],
      "metadata": {
        "id": "xQEK9EaAyQTb"
      },
      "execution_count": null,
      "outputs": []
    },
    {
      "cell_type": "markdown",
      "source": [
        "2."
      ],
      "metadata": {
        "id": "w8fcBp1XyqmZ"
      }
    },
    {
      "cell_type": "code",
      "source": [
        "grades = {'juan':[5.0, 5.0,4.9,4.0], 'david': [1.0,3.0,4.5,5.0], 'jose':[2.0,1.0,3.5,5.0], 'daniela':[0.0,5.0,5.0,5.0] }\n",
        "grades\n",
        "dic= dict()\n",
        "for nombre, notas in grades.items():\n",
        "  notas.sort(reverse=True)\n",
        "  dic[nombre]=round(sum(notas[0:3])/len(notas[0:3]),2)\n",
        "print(dic)"
      ],
      "metadata": {
        "colab": {
          "base_uri": "https://localhost:8080/"
        },
        "id": "kaKQpQjpyrzJ",
        "outputId": "b0499f25-e896-4b96-9fd4-c6b307a8c537"
      },
      "execution_count": null,
      "outputs": [
        {
          "output_type": "stream",
          "name": "stdout",
          "text": [
            "{'juan': 4.97, 'david': 4.17, 'jose': 3.5, 'daniela': 5.0}\n"
          ]
        }
      ]
    },
    {
      "cell_type": "markdown",
      "source": [
        "3."
      ],
      "metadata": {
        "id": "Jrry7zq70WkD"
      }
    },
    {
      "cell_type": "code",
      "source": [
        "d={}\n",
        "for i in range(0,5+1):\n",
        "  n=input(\"nombre\")\n",
        "  e=int(input(\"edad\"))\n",
        "  d[n]=e\n",
        "d"
      ],
      "metadata": {
        "colab": {
          "base_uri": "https://localhost:8080/"
        },
        "id": "CsFGTFgX0X_B",
        "outputId": "fe15533b-ed0b-4cb1-8cf2-ad0537e12058"
      },
      "execution_count": null,
      "outputs": [
        {
          "name": "stdout",
          "output_type": "stream",
          "text": [
            "nombrejohn\n",
            "edad23\n",
            "nombresil\n",
            "edad21\n",
            "nombreandres\n",
            "edad25\n",
            "nombrecarlos\n",
            "edad7\n",
            "nombresamu\n",
            "edad5\n",
            "nombreisa\n",
            "edad9\n"
          ]
        },
        {
          "output_type": "execute_result",
          "data": {
            "text/plain": [
              "{'andres': 25, 'carlos': 7, 'isa': 9, 'john': 23, 'samu': 5, 'sil': 21}"
            ]
          },
          "metadata": {},
          "execution_count": 72
        }
      ]
    },
    {
      "cell_type": "markdown",
      "source": [
        "Programa que una dos diccionarios "
      ],
      "metadata": {
        "id": "TC9kn02e13JZ"
      }
    },
    {
      "cell_type": "code",
      "source": [
        "a={\"dd\":3,\"ee\":4}\n",
        "b={\"aa\":5,\"ff\":6}\n",
        "a.update(b)\n",
        "a"
      ],
      "metadata": {
        "colab": {
          "base_uri": "https://localhost:8080/"
        },
        "id": "dd3Rm5EV16IB",
        "outputId": "7ae90857-4668-452f-9459-f5d812d826b4"
      },
      "execution_count": null,
      "outputs": [
        {
          "output_type": "execute_result",
          "data": {
            "text/plain": [
              "{'aa': 5, 'dd': 3, 'ee': 4, 'ff': 6}"
            ]
          },
          "metadata": {},
          "execution_count": 69
        }
      ]
    },
    {
      "cell_type": "markdown",
      "source": [
        "Programa para saber si una key(clave) esta en un diccionario "
      ],
      "metadata": {
        "id": "GL9_Vf6n2fWz"
      }
    },
    {
      "cell_type": "code",
      "source": [
        "clave=\"dd\"\n",
        "clave in a"
      ],
      "metadata": {
        "colab": {
          "base_uri": "https://localhost:8080/"
        },
        "id": "UPtndOs22plt",
        "outputId": "5381b538-fbf2-48fa-e139-240b1579bdb7"
      },
      "execution_count": null,
      "outputs": [
        {
          "output_type": "execute_result",
          "data": {
            "text/plain": [
              "True"
            ]
          },
          "metadata": {},
          "execution_count": 71
        }
      ]
    },
    {
      "cell_type": "markdown",
      "source": [
        "Programa que genere un diccionaro cuya clave sea un numero y el valor sea su cuadrado "
      ],
      "metadata": {
        "id": "e9R5pP1c27bo"
      }
    },
    {
      "cell_type": "code",
      "source": [
        "n=12\n",
        "diccionario={}\n",
        "for i in range(1,n+1):\n",
        "  diccionario[i]=i**2\n",
        "diccionario"
      ],
      "metadata": {
        "colab": {
          "base_uri": "https://localhost:8080/"
        },
        "id": "2LPQK6bf3w8j",
        "outputId": "a4c6f82c-e473-414b-c4d7-75a8ac1cfe6f"
      },
      "execution_count": null,
      "outputs": [
        {
          "output_type": "execute_result",
          "data": {
            "text/plain": [
              "{1: 1,\n",
              " 2: 4,\n",
              " 3: 9,\n",
              " 4: 16,\n",
              " 5: 25,\n",
              " 6: 36,\n",
              " 7: 49,\n",
              " 8: 64,\n",
              " 9: 81,\n",
              " 10: 100,\n",
              " 11: 121,\n",
              " 12: 144}"
            ]
          },
          "metadata": {},
          "execution_count": 73
        }
      ]
    },
    {
      "cell_type": "markdown",
      "source": [
        "Programa que mape dos listas en un diccionario"
      ],
      "metadata": {
        "id": "xXaYxecF4s6Y"
      }
    },
    {
      "cell_type": "code",
      "source": [
        "l1=[1,2,3,4,5]\n",
        "l2=[2,8,9,7,4]\n",
        "diccionario[\"l1\"]=l1\n",
        "diccionario[\"l1\"]=l2"
      ],
      "metadata": {
        "id": "5KT_7H1W4U93"
      },
      "execution_count": null,
      "outputs": []
    },
    {
      "cell_type": "code",
      "source": [
        "diccionario"
      ],
      "metadata": {
        "colab": {
          "base_uri": "https://localhost:8080/"
        },
        "id": "K19Dq16j4m7C",
        "outputId": "332c8b19-a1b6-459f-d981-3337e15a6bb2"
      },
      "execution_count": null,
      "outputs": [
        {
          "output_type": "execute_result",
          "data": {
            "text/plain": [
              "{1: 1,\n",
              " 10: 100,\n",
              " 11: 121,\n",
              " 12: 144,\n",
              " 2: 4,\n",
              " 3: 9,\n",
              " 4: 16,\n",
              " 5: 25,\n",
              " 6: 36,\n",
              " 7: 49,\n",
              " 8: 64,\n",
              " 9: 81,\n",
              " 'l1': [2, 8, 9, 7, 4]}"
            ]
          },
          "metadata": {},
          "execution_count": 76
        }
      ]
    },
    {
      "cell_type": "markdown",
      "source": [
        "Programa que obtenga el maximo value de un diccionario y su respectivo key "
      ],
      "metadata": {
        "id": "F5R4Yzim4yNT"
      }
    },
    {
      "cell_type": "code",
      "source": [
        "a={\"aa\":3,\"bb\":4,\"cc\":5}\n",
        "x=max(a.values())\n",
        "for i,v in a.items():\n",
        "  if v==x:\n",
        "    print(i)\n",
        "    break"
      ],
      "metadata": {
        "colab": {
          "base_uri": "https://localhost:8080/"
        },
        "id": "bv4KjdiW5A7_",
        "outputId": "55d878db-7c77-4c91-8889-90dc92a64818"
      },
      "execution_count": null,
      "outputs": [
        {
          "output_type": "stream",
          "name": "stdout",
          "text": [
            "cc\n"
          ]
        }
      ]
    },
    {
      "cell_type": "markdown",
      "source": [
        "FUNCIONES"
      ],
      "metadata": {
        "id": "sg3AyvYH7UJf"
      }
    },
    {
      "cell_type": "code",
      "source": [
        "def imprimir_mesa():\n",
        "  print(\"hola mundo \")"
      ],
      "metadata": {
        "id": "j9_a6wqi7Vfi"
      },
      "execution_count": null,
      "outputs": []
    },
    {
      "cell_type": "code",
      "source": [
        "imprimir_mesa()"
      ],
      "metadata": {
        "colab": {
          "base_uri": "https://localhost:8080/"
        },
        "id": "JEhAWO-h7cRP",
        "outputId": "f3587af7-2173-4bf4-dd9b-fc0fa26eb9f2"
      },
      "execution_count": null,
      "outputs": [
        {
          "output_type": "stream",
          "name": "stdout",
          "text": [
            "hola mundo \n"
          ]
        }
      ]
    },
    {
      "cell_type": "markdown",
      "source": [
        "argumentos"
      ],
      "metadata": {
        "id": "Mg446-ei7vYT"
      }
    },
    {
      "cell_type": "code",
      "source": [
        "def suma(a,b):\n",
        "  return a+b"
      ],
      "metadata": {
        "id": "emZZjoTW73Ej"
      },
      "execution_count": null,
      "outputs": []
    },
    {
      "cell_type": "code",
      "source": [
        "suma(1,2)"
      ],
      "metadata": {
        "colab": {
          "base_uri": "https://localhost:8080/"
        },
        "id": "2CJShSD_79tT",
        "outputId": "d4cf1f65-f565-4462-b460-69b108117912"
      },
      "execution_count": null,
      "outputs": [
        {
          "output_type": "execute_result",
          "data": {
            "text/plain": [
              "3"
            ]
          },
          "metadata": {},
          "execution_count": 91
        }
      ]
    },
    {
      "cell_type": "code",
      "source": [
        "def numero_par(x):\n",
        "  return x%2==0"
      ],
      "metadata": {
        "id": "BdRHEdDO8Bvi"
      },
      "execution_count": null,
      "outputs": []
    },
    {
      "cell_type": "code",
      "source": [
        "numero_par(5)"
      ],
      "metadata": {
        "colab": {
          "base_uri": "https://localhost:8080/"
        },
        "id": "ylA07DlL8IXG",
        "outputId": "3bdb5a65-d11e-4085-8e25-07e228f28b1a"
      },
      "execution_count": null,
      "outputs": [
        {
          "output_type": "execute_result",
          "data": {
            "text/plain": [
              "False"
            ]
          },
          "metadata": {},
          "execution_count": 95
        }
      ]
    },
    {
      "cell_type": "code",
      "source": [
        "def cuadrado_raiz(x):\n",
        "  return x**2,x**0.5"
      ],
      "metadata": {
        "id": "JWNCuYhh8Ox7"
      },
      "execution_count": null,
      "outputs": []
    },
    {
      "cell_type": "code",
      "source": [
        "cuadrado_raiz(5)"
      ],
      "metadata": {
        "colab": {
          "base_uri": "https://localhost:8080/"
        },
        "id": "zfXxmoc28Vo_",
        "outputId": "2fd32a2d-771d-4fa9-ddaf-d709fac36c18"
      },
      "execution_count": null,
      "outputs": [
        {
          "output_type": "execute_result",
          "data": {
            "text/plain": [
              "(25, 2.23606797749979)"
            ]
          },
          "metadata": {},
          "execution_count": 97
        }
      ]
    },
    {
      "cell_type": "markdown",
      "source": [
        "DEFINIR ARGUMENTOS DE UNA FUNCION Y ARGUMENTOs POR DEFECTO"
      ],
      "metadata": {
        "id": "vSIgZs2m8che"
      }
    },
    {
      "cell_type": "code",
      "source": [
        "def potencia(numero,exponente=2):\n",
        "  return numero**exponente"
      ],
      "metadata": {
        "id": "zS-eePlH8hQv"
      },
      "execution_count": null,
      "outputs": []
    },
    {
      "cell_type": "code",
      "source": [
        "potencia(4)"
      ],
      "metadata": {
        "colab": {
          "base_uri": "https://localhost:8080/"
        },
        "id": "Z53HkU978ntp",
        "outputId": "08c2d211-0b27-4d50-8bcd-3726eb99fb71"
      },
      "execution_count": null,
      "outputs": [
        {
          "output_type": "execute_result",
          "data": {
            "text/plain": [
              "16"
            ]
          },
          "metadata": {},
          "execution_count": 100
        }
      ]
    },
    {
      "cell_type": "code",
      "source": [
        "potencia(exponente=2,numero=3)"
      ],
      "metadata": {
        "colab": {
          "base_uri": "https://localhost:8080/"
        },
        "id": "8LbSEVAj8u0m",
        "outputId": "6a3a0ade-0a1e-41b5-a843-67512d068103"
      },
      "execution_count": null,
      "outputs": [
        {
          "output_type": "execute_result",
          "data": {
            "text/plain": [
              "9"
            ]
          },
          "metadata": {},
          "execution_count": 101
        }
      ]
    },
    {
      "cell_type": "markdown",
      "source": [
        "FUNCIONES CON CUALQUEIR NUMERO DE ARUGUMENTOS "
      ],
      "metadata": {
        "id": "LeXa_PiP9RJK"
      }
    },
    {
      "cell_type": "code",
      "source": [
        "def sumar1(*sumandos):\n",
        "  suma1=0\n",
        "  for i in sumandos:\n",
        "    suma1=suma1+i\n",
        "  return suma1"
      ],
      "metadata": {
        "id": "aCSrn8j29U9q"
      },
      "execution_count": null,
      "outputs": []
    },
    {
      "cell_type": "code",
      "source": [
        "sumar1(1,2,3,4,5,6,7,8,9,10,11,12,13,14,15,16,17,18,19,20)"
      ],
      "metadata": {
        "colab": {
          "base_uri": "https://localhost:8080/"
        },
        "id": "TI5kaUYj9uBa",
        "outputId": "a4e89a94-318a-4b4a-9be4-4e7265d002bf"
      },
      "execution_count": null,
      "outputs": [
        {
          "output_type": "execute_result",
          "data": {
            "text/plain": [
              "210"
            ]
          },
          "metadata": {},
          "execution_count": 122
        }
      ]
    },
    {
      "cell_type": "markdown",
      "source": [
        "RESTRICCION A LOS ARGUMENTOS se obliga a escribir el nmbre"
      ],
      "metadata": {
        "id": "C05IQKzb98Vz"
      }
    },
    {
      "cell_type": "code",
      "source": [
        "def potencia1(*,numero,exponente):\n",
        "  return numero**exponente"
      ],
      "metadata": {
        "id": "haEXGMd8-Dfp"
      },
      "execution_count": null,
      "outputs": []
    },
    {
      "cell_type": "code",
      "source": [
        "potencia1(numero=1,exponente=2)"
      ],
      "metadata": {
        "colab": {
          "base_uri": "https://localhost:8080/"
        },
        "id": "9dMQpQ19-MeJ",
        "outputId": "7e29b1c0-b175-4913-b0e4-b314b64a548f"
      },
      "execution_count": null,
      "outputs": [
        {
          "output_type": "execute_result",
          "data": {
            "text/plain": [
              "1"
            ]
          },
          "metadata": {},
          "execution_count": 157
        }
      ]
    },
    {
      "cell_type": "markdown",
      "source": [
        "PARAMETROS ADICCIONALES ingresa los argumentos en un diccionario\n",
        "\n"
      ],
      "metadata": {
        "id": "XxLG2vhJ-1vF"
      }
    },
    {
      "cell_type": "code",
      "source": [
        "def colores(**kwargs):\n",
        "  print(kwargs)"
      ],
      "metadata": {
        "id": "6ReG6F2E-5f6"
      },
      "execution_count": null,
      "outputs": []
    },
    {
      "cell_type": "code",
      "source": [
        "colores(a=5,rojo=\"john\")"
      ],
      "metadata": {
        "colab": {
          "base_uri": "https://localhost:8080/"
        },
        "id": "-3i_Xfou_gxb",
        "outputId": "9219cee0-25ea-4e48-b42e-fa96a915c381"
      },
      "execution_count": null,
      "outputs": [
        {
          "output_type": "stream",
          "name": "stdout",
          "text": [
            "{'a': 5, 'rojo': 'john'}\n"
          ]
        }
      ]
    },
    {
      "cell_type": "code",
      "source": [
        "import math\n",
        "def area_cuadrado(a):\n",
        "  return a*a\n",
        "def area_trian(b,a):\n",
        "  return b*a/2\n",
        "def area_circ(r):\n",
        "  return math.pi*r**2"
      ],
      "metadata": {
        "id": "hZBDiYiGAZNK"
      },
      "execution_count": null,
      "outputs": []
    },
    {
      "cell_type": "code",
      "source": [
        "def area_figura(nombre,**parametros_caract):\n",
        "  if nombre==\"cuadrado\":\n",
        "    return area_cuadrado(**parametros_caract)\n",
        "  elif nombre==\"triangulo\":\n",
        "    return area_trian(**parametros_caract)\n",
        "  elif nombre==\"circulo\":\n",
        "    return area_circ(**parametros_caract)"
      ],
      "metadata": {
        "id": "PIFF2Hm8Ao_e"
      },
      "execution_count": null,
      "outputs": []
    },
    {
      "cell_type": "code",
      "source": [
        "area_figura(\"cuadrado\",a=5)"
      ],
      "metadata": {
        "colab": {
          "base_uri": "https://localhost:8080/"
        },
        "id": "OXiCjJMJBUHI",
        "outputId": "30c5dbce-88fe-4595-c56c-e4e45733ba13"
      },
      "execution_count": null,
      "outputs": [
        {
          "output_type": "execute_result",
          "data": {
            "text/plain": [
              "25"
            ]
          },
          "metadata": {},
          "execution_count": 125
        }
      ]
    },
    {
      "cell_type": "code",
      "source": [
        "area_figura(\"circulo\",r=5)"
      ],
      "metadata": {
        "colab": {
          "base_uri": "https://localhost:8080/"
        },
        "id": "ZmAzcS_BBgQY",
        "outputId": "68a969f0-1afc-4447-caba-e06940f38c62"
      },
      "execution_count": null,
      "outputs": [
        {
          "output_type": "execute_result",
          "data": {
            "text/plain": [
              "78.53981633974483"
            ]
          },
          "metadata": {},
          "execution_count": 126
        }
      ]
    },
    {
      "cell_type": "code",
      "source": [
        "area_figura(\"triangulo\",b=5,a=7)"
      ],
      "metadata": {
        "colab": {
          "base_uri": "https://localhost:8080/"
        },
        "id": "5gCx_ah7B2NN",
        "outputId": "69eaa250-b382-41d5-e000-678464706259"
      },
      "execution_count": null,
      "outputs": [
        {
          "output_type": "execute_result",
          "data": {
            "text/plain": [
              "17.5"
            ]
          },
          "metadata": {},
          "execution_count": 131
        }
      ]
    },
    {
      "cell_type": "code",
      "source": [
        "def area_figura(nombre,**parametros_caract):\n",
        "  if nombre==\"cuadrado\":\n",
        "    return print(parametros_caract)\n",
        "  elif nombre==\"triangulo\":\n",
        "    return print(parametros_caract)\n",
        "  elif nombre==\"circulo\":\n",
        "    return print(parametros_caract)"
      ],
      "metadata": {
        "id": "rqwTB7wYCSt1"
      },
      "execution_count": null,
      "outputs": []
    },
    {
      "cell_type": "code",
      "source": [
        "area_figura(\"circulo\",r=2)"
      ],
      "metadata": {
        "colab": {
          "base_uri": "https://localhost:8080/"
        },
        "id": "ZQBoaW36CaSn",
        "outputId": "c88dd748-babf-4966-fe42-24919e162b0f"
      },
      "execution_count": null,
      "outputs": [
        {
          "output_type": "stream",
          "name": "stdout",
          "text": [
            "{'r': 2}\n"
          ]
        }
      ]
    },
    {
      "cell_type": "code",
      "source": [
        "area_figura(\"triangulo\",a=2,b=7)"
      ],
      "metadata": {
        "colab": {
          "base_uri": "https://localhost:8080/"
        },
        "id": "cv4ltuD1C2IC",
        "outputId": "b629e363-f602-414a-b365-ab80645f543e"
      },
      "execution_count": null,
      "outputs": [
        {
          "output_type": "stream",
          "name": "stdout",
          "text": [
            "{'a': 2, 'b': 7}\n"
          ]
        }
      ]
    },
    {
      "cell_type": "code",
      "source": [
        "area_figura(\"cuadrado\",a=5)"
      ],
      "metadata": {
        "colab": {
          "base_uri": "https://localhost:8080/"
        },
        "id": "lZgq0ZETDCeS",
        "outputId": "14d5451b-9753-4c09-f297-8f29796848ef"
      },
      "execution_count": null,
      "outputs": [
        {
          "output_type": "stream",
          "name": "stdout",
          "text": [
            "{'a': 5}\n"
          ]
        }
      ]
    },
    {
      "cell_type": "markdown",
      "source": [
        "FUNCIONES QUE RECIBEN FUNCIONES COMO ARGUMENTOS: MAPPER mapper in built es map()"
      ],
      "metadata": {
        "id": "q1wGHsGVKBWL"
      }
    },
    {
      "cell_type": "code",
      "source": [
        "def potencia_lista(funcion,lista):\n",
        "  salida=[]\n",
        "  for i in lista:\n",
        "    salida.append(funcion(i))\n",
        "  return salida"
      ],
      "metadata": {
        "id": "U8N8Rc63KJQn"
      },
      "execution_count": null,
      "outputs": []
    },
    {
      "cell_type": "code",
      "source": [
        "a=[1,2,3,4,5]\n",
        "potencia_lista(raiz_cuadrada,a)"
      ],
      "metadata": {
        "colab": {
          "base_uri": "https://localhost:8080/"
        },
        "id": "lkTDhELvKioU",
        "outputId": "d5a2392f-c6a0-427b-9149-a50e8e9e2ff9"
      },
      "execution_count": null,
      "outputs": [
        {
          "output_type": "execute_result",
          "data": {
            "text/plain": [
              "[1.0, 1.4142135623730951, 1.7320508075688772, 2.0, 2.23606797749979]"
            ]
          },
          "metadata": {},
          "execution_count": 149
        }
      ]
    },
    {
      "cell_type": "code",
      "source": [
        "list(map(math.sqrt,a))"
      ],
      "metadata": {
        "colab": {
          "base_uri": "https://localhost:8080/"
        },
        "id": "s2NmOGXrKxcX",
        "outputId": "2673c637-4c54-4eed-b984-9ce5ffccccdb"
      },
      "execution_count": null,
      "outputs": [
        {
          "output_type": "execute_result",
          "data": {
            "text/plain": [
              "[1.0, 1.4142135623730951, 1.7320508075688772, 2.0, 2.23606797749979]"
            ]
          },
          "metadata": {},
          "execution_count": 146
        }
      ]
    },
    {
      "cell_type": "markdown",
      "source": [
        "FUNCIOON LAMBDA anonima, es una linea de textp, sin palabra clave(def)"
      ],
      "metadata": {
        "id": "i7MqJf_WLOJE"
      }
    },
    {
      "cell_type": "code",
      "source": [
        "raiz_cuadrada=lambda x:x**0.5"
      ],
      "metadata": {
        "id": "N786FPj_Lb39"
      },
      "execution_count": null,
      "outputs": []
    },
    {
      "cell_type": "code",
      "source": [
        "list(map(raiz_cuadrada,a))"
      ],
      "metadata": {
        "colab": {
          "base_uri": "https://localhost:8080/"
        },
        "id": "dsDi801XLmlk",
        "outputId": "3b11b01e-1f66-4ce6-fcf9-6568567393ce"
      },
      "execution_count": null,
      "outputs": [
        {
          "output_type": "execute_result",
          "data": {
            "text/plain": [
              "[1.0, 1.4142135623730951, 1.7320508075688772, 2.0, 2.23606797749979]"
            ]
          },
          "metadata": {},
          "execution_count": 148
        }
      ]
    },
    {
      "cell_type": "code",
      "source": [
        "potencia_lambda= lambda *,n,expo:n**expo\n",
        "potencia_lambda(expo=2,n=2)"
      ],
      "metadata": {
        "colab": {
          "base_uri": "https://localhost:8080/"
        },
        "id": "F0bqFgzmLxmQ",
        "outputId": "fd5256f6-6237-4fc5-a030-ab3d31093d65"
      },
      "execution_count": null,
      "outputs": [
        {
          "output_type": "execute_result",
          "data": {
            "text/plain": [
              "4"
            ]
          },
          "metadata": {},
          "execution_count": 150
        }
      ]
    },
    {
      "cell_type": "code",
      "source": [
        "imprimir_num= lambda *num:print(num)\n",
        "print(\"es una tupla!\")\n",
        "imprimir_num(2,3,4,5,8)"
      ],
      "metadata": {
        "colab": {
          "base_uri": "https://localhost:8080/"
        },
        "id": "2epJo6yPM5Np",
        "outputId": "ddd1e0f8-8ac6-4ded-e926-066a66cf215e"
      },
      "execution_count": null,
      "outputs": [
        {
          "output_type": "stream",
          "name": "stdout",
          "text": [
            "es una tupla!\n",
            "(2, 3, 4, 5, 8)\n"
          ]
        }
      ]
    },
    {
      "cell_type": "code",
      "source": [
        "imprimir_num= lambda **num:print(num)\n",
        "print(\"es un diccionario!\")\n",
        "imprimir_num(a=3,b=4,c=5)"
      ],
      "metadata": {
        "colab": {
          "base_uri": "https://localhost:8080/"
        },
        "id": "IMS54ilxL_uU",
        "outputId": "6c556e70-3ffa-4597-d19e-3f9e078306d4"
      },
      "execution_count": null,
      "outputs": [
        {
          "output_type": "stream",
          "name": "stdout",
          "text": [
            "es un diccionario!\n",
            "{'a': 3, 'b': 4, 'c': 5}\n"
          ]
        }
      ]
    },
    {
      "cell_type": "markdown",
      "source": [
        "FUNCION filter()"
      ],
      "metadata": {
        "id": "EJWGZc2ZMX-i"
      }
    },
    {
      "cell_type": "code",
      "source": [
        "filter()\n",
        "#recibe una funcion y un iterable\n",
        "#devuleve los items del iterable en que la funcion es true"
      ],
      "metadata": {
        "id": "8dTmxLpJMbtP"
      },
      "execution_count": null,
      "outputs": []
    },
    {
      "cell_type": "code",
      "source": [
        "list(filter(lambda x:x%2==0,range(11)))"
      ],
      "metadata": {
        "colab": {
          "base_uri": "https://localhost:8080/"
        },
        "id": "aWoqFEzFODgR",
        "outputId": "d954c25a-17f4-4a4e-bde8-013bb9a72b02"
      },
      "execution_count": null,
      "outputs": [
        {
          "output_type": "execute_result",
          "data": {
            "text/plain": [
              "[0, 2, 4, 6, 8, 10]"
            ]
          },
          "metadata": {},
          "execution_count": 156
        }
      ]
    },
    {
      "cell_type": "code",
      "source": [
        "a\n",
        "list(filter(lambda x:x%2==0,a))"
      ],
      "metadata": {
        "colab": {
          "base_uri": "https://localhost:8080/"
        },
        "id": "i6sM8WcGO9yl",
        "outputId": "3b061073-bc90-4e5d-df1d-90662028d4bf"
      },
      "execution_count": null,
      "outputs": [
        {
          "output_type": "execute_result",
          "data": {
            "text/plain": [
              "[2, 4]"
            ]
          },
          "metadata": {},
          "execution_count": 161
        }
      ]
    },
    {
      "cell_type": "markdown",
      "source": [
        "CREAR E IMPORTAR UN MODULO DE FUNCIONES"
      ],
      "metadata": {
        "id": "hcDBeuS_QYOP"
      }
    },
    {
      "cell_type": "code",
      "source": [
        "import copy\n",
        "copy.deepcopy\n",
        "import math\n",
        "math.pi \n",
        "#importar "
      ],
      "metadata": {
        "id": "QB98wulvQb1p"
      },
      "execution_count": null,
      "outputs": []
    },
    {
      "cell_type": "code",
      "source": [
        "import funciones\n",
        "funciones.mm(5)\n",
        "funciones.GG(5)"
      ],
      "metadata": {
        "colab": {
          "base_uri": "https://localhost:8080/"
        },
        "id": "LcvVgxXxRAtb",
        "outputId": "4f031267-1944-4d70-a461-6467347c8831"
      },
      "execution_count": null,
      "outputs": [
        {
          "output_type": "execute_result",
          "data": {
            "text/plain": [
              "10"
            ]
          },
          "metadata": {},
          "execution_count": 164
        }
      ]
    },
    {
      "cell_type": "markdown",
      "source": [
        "EJERCICIOS"
      ],
      "metadata": {
        "id": "pZHjiM2kSZNH"
      }
    },
    {
      "cell_type": "markdown",
      "source": [
        "UNA FUNCION QUE CALCULE EL PROMEDIO DE CUALQUIER N NUMEROS"
      ],
      "metadata": {
        "id": "cLoyY_PaSbja"
      }
    },
    {
      "cell_type": "code",
      "source": [
        "def promedio_N(*numeros):\n",
        "  return sum(numeros)/len(numeros)"
      ],
      "metadata": {
        "id": "l23KCGMlSmy5"
      },
      "execution_count": null,
      "outputs": []
    },
    {
      "cell_type": "code",
      "source": [
        "promedio_N(1,2,3,4,5,6,7,8,9)"
      ],
      "metadata": {
        "colab": {
          "base_uri": "https://localhost:8080/"
        },
        "id": "719htt2hTaOs",
        "outputId": "674db803-f03a-4b04-9b51-5f10fdc7edd5"
      },
      "execution_count": null,
      "outputs": [
        {
          "output_type": "execute_result",
          "data": {
            "text/plain": [
              "5.0"
            ]
          },
          "metadata": {},
          "execution_count": 166
        }
      ]
    },
    {
      "cell_type": "code",
      "source": [
        "promedio_N= lambda *numeros:sum(numeros)/len(numeros)\n",
        "promedio_N(1,2,3,4,5,6,7,8,9)"
      ],
      "metadata": {
        "colab": {
          "base_uri": "https://localhost:8080/"
        },
        "id": "k8tLhaSnTpu0",
        "outputId": "8b7057e0-fe3d-439c-e644-cef24f9cb4ba"
      },
      "execution_count": null,
      "outputs": [
        {
          "output_type": "execute_result",
          "data": {
            "text/plain": [
              "5.0"
            ]
          },
          "metadata": {},
          "execution_count": 168
        }
      ]
    },
    {
      "cell_type": "markdown",
      "source": [
        "FUNCION QUE VERIFICAR QUE UN STR ES O NO UN PALINDROMO"
      ],
      "metadata": {
        "id": "SkLCbJd7T1E7"
      }
    },
    {
      "cell_type": "code",
      "source": [
        "l=\"taco cat\"\n",
        "l1=list(l.replace(\" \",\"\").lower())\n",
        "g=list(reversed(l.replace(\" \",\"\").lower()))\n",
        "print(list(l),l1,g)\n",
        "if l1==g:\n",
        "  print(\"es un palindromo\")\n",
        "else:\n",
        "  print(\"no es un palindromo\")\n",
        "#l[-1:len(l)-1:-1] #lista[inicio:fin-1:paso]"
      ],
      "metadata": {
        "colab": {
          "base_uri": "https://localhost:8080/"
        },
        "id": "VUWVAScpUFh3",
        "outputId": "42f39e93-2952-468f-f590-994391886d36"
      },
      "execution_count": null,
      "outputs": [
        {
          "output_type": "stream",
          "name": "stdout",
          "text": [
            "['t', 'a', 'c', 'o', ' ', 'c', 'a', 't'] ['t', 'a', 'c', 'o', 'c', 'a', 't'] ['t', 'a', 'c', 'o', 'c', 'a', 't']\n",
            "es un palindromo\n"
          ]
        }
      ]
    },
    {
      "cell_type": "code",
      "source": [
        "def palindromo(cadena):\n",
        "  n_cadena=cadena.replace(\" \",\"\").lower()\n",
        "  cadena2=\"\"\n",
        "  for i in range(len(n_cadena)):\n",
        "    cadena2=cadena2+n_cadena[-i-1]\n",
        "  return cadena2==n_cadena"
      ],
      "metadata": {
        "id": "lGhy47ZIWYEl"
      },
      "execution_count": null,
      "outputs": []
    },
    {
      "cell_type": "code",
      "source": [
        "palindromo(\"taco cat\")"
      ],
      "metadata": {
        "colab": {
          "base_uri": "https://localhost:8080/"
        },
        "id": "iQtISEBgXkLh",
        "outputId": "e4d7756a-7bf5-4734-a38e-cf3ffd29e2a9"
      },
      "execution_count": null,
      "outputs": [
        {
          "output_type": "execute_result",
          "data": {
            "text/plain": [
              "True"
            ]
          },
          "metadata": {},
          "execution_count": 227
        }
      ]
    },
    {
      "cell_type": "code",
      "source": [
        "cadena.lower?"
      ],
      "metadata": {
        "id": "mLEoDAHgnM6S"
      },
      "execution_count": null,
      "outputs": []
    },
    {
      "cell_type": "markdown",
      "source": [
        "EJERCICIOS"
      ],
      "metadata": {
        "id": "5fKFkMmN7vcR"
      }
    },
    {
      "cell_type": "markdown",
      "source": [
        "Escriba una funcion que encuentre el minumo de tres numeros "
      ],
      "metadata": {
        "id": "RpLZqmf17xvH"
      }
    },
    {
      "cell_type": "code",
      "source": [
        "def minimo(a,b,c):\n",
        "  return min(a,b,c)"
      ],
      "metadata": {
        "id": "IOb3Ztav72NO"
      },
      "execution_count": null,
      "outputs": []
    },
    {
      "cell_type": "code",
      "source": [
        "minimo(5,5,5)"
      ],
      "metadata": {
        "colab": {
          "base_uri": "https://localhost:8080/"
        },
        "id": "ARW3pF9E7-3Z",
        "outputId": "0550981c-4df7-4cfd-a12d-3418ced043f2"
      },
      "execution_count": null,
      "outputs": [
        {
          "output_type": "execute_result",
          "data": {
            "text/plain": [
              "5"
            ]
          },
          "metadata": {},
          "execution_count": 6
        }
      ]
    },
    {
      "cell_type": "markdown",
      "source": [
        "Escriba una funcion que calcule el factorial de un numero (entero positivo)"
      ],
      "metadata": {
        "id": "WTAjmPB-8teb"
      }
    },
    {
      "cell_type": "code",
      "source": [
        "def Factorial(n):\n",
        "  f=1\n",
        "  for i in range(2,n+1):\n",
        "    f=f*i\n",
        "  return f  "
      ],
      "metadata": {
        "id": "702H8Wbe86Mt"
      },
      "execution_count": null,
      "outputs": []
    },
    {
      "cell_type": "code",
      "source": [
        "Factorial(4)"
      ],
      "metadata": {
        "colab": {
          "base_uri": "https://localhost:8080/"
        },
        "id": "T_tnwCYt9MOO",
        "outputId": "636b5eaf-579a-48b0-9999-3ea3e67bc808"
      },
      "execution_count": null,
      "outputs": [
        {
          "output_type": "execute_result",
          "data": {
            "text/plain": [
              "24"
            ]
          },
          "metadata": {},
          "execution_count": 11
        }
      ]
    },
    {
      "cell_type": "markdown",
      "source": [
        "Escriba una fucion que identifique si un numero se encuentra o no en un rango dado "
      ],
      "metadata": {
        "id": "3hROJU0I9dcX"
      }
    },
    {
      "cell_type": "code",
      "source": [
        "def numero_rango(n,inf,sup):\n",
        "  if n>=inf and n<=sup:\n",
        "    return \"esta en el rango\"\n",
        "  else:\n",
        "    return \"no esta en el rango\"  "
      ],
      "metadata": {
        "id": "CtgYgArj9jvt"
      },
      "execution_count": null,
      "outputs": []
    },
    {
      "cell_type": "code",
      "source": [
        "numero_rango(6,55,88)"
      ],
      "metadata": {
        "colab": {
          "base_uri": "https://localhost:8080/",
          "height": 35
        },
        "id": "YfskuYVU-aPs",
        "outputId": "2c113799-98be-4df8-8687-a3d5d9862eb5"
      },
      "execution_count": null,
      "outputs": [
        {
          "output_type": "execute_result",
          "data": {
            "text/plain": [
              "'no esta en el rango'"
            ],
            "application/vnd.google.colaboratory.intrinsic+json": {
              "type": "string"
            }
          },
          "metadata": {},
          "execution_count": 3
        }
      ]
    },
    {
      "cell_type": "markdown",
      "source": [
        "Funcion que cuente cuantas Mayus y minus hay en un STR"
      ],
      "metadata": {
        "id": "fKKOset5-fv1"
      }
    },
    {
      "cell_type": "code",
      "source": [
        "intro_nombre=\"Hola mundo mi nombre es John\"\n",
        "def mayus_minus(cadena):\n",
        "  mayus=0\n",
        "  minus=0\n",
        "  for i in cadena:\n",
        "    if i.isalpha():\n",
        "      if i.islower():\n",
        "        minus=minus+1\n",
        "      else:\n",
        "        mayus=mayus+1\n",
        "  return mayus,minus"
      ],
      "metadata": {
        "id": "XXUzq5_b-k9g"
      },
      "execution_count": null,
      "outputs": []
    },
    {
      "cell_type": "code",
      "source": [
        "mayus_minus(intro_nombre)"
      ],
      "metadata": {
        "colab": {
          "base_uri": "https://localhost:8080/"
        },
        "id": "Ecc8t-A4ASFk",
        "outputId": "21a781e3-3f1e-40a1-a86b-c9d81e48f14a"
      },
      "execution_count": null,
      "outputs": [
        {
          "output_type": "execute_result",
          "data": {
            "text/plain": [
              "(2, 21)"
            ]
          },
          "metadata": {},
          "execution_count": 11
        }
      ]
    },
    {
      "cell_type": "markdown",
      "source": [
        "funcion que reciba una lista y devuleva una lista con los elementos unicos de la lista"
      ],
      "metadata": {
        "id": "Y6zWQZ8IAtxD"
      }
    },
    {
      "cell_type": "code",
      "source": [
        "def unicos(lista):\n",
        "  return list(set(lista))"
      ],
      "metadata": {
        "id": "jpe_tpugA0qk"
      },
      "execution_count": null,
      "outputs": []
    },
    {
      "cell_type": "code",
      "source": [
        "unicos(intro_nombre)"
      ],
      "metadata": {
        "colab": {
          "base_uri": "https://localhost:8080/"
        },
        "id": "B0ygKa_zBDrZ",
        "outputId": "8733a150-5523-4115-a756-1a8684ea3213"
      },
      "execution_count": null,
      "outputs": [
        {
          "output_type": "execute_result",
          "data": {
            "text/plain": [
              "['h',\n",
              " 'n',\n",
              " 's',\n",
              " 'J',\n",
              " 'a',\n",
              " 'd',\n",
              " ' ',\n",
              " 'm',\n",
              " 'o',\n",
              " 'u',\n",
              " 'b',\n",
              " 'e',\n",
              " 'r',\n",
              " 'i',\n",
              " 'l',\n",
              " 'H']"
            ]
          },
          "metadata": {},
          "execution_count": 13
        }
      ]
    },
    {
      "cell_type": "markdown",
      "source": [
        "NUMPY: Numeric Python "
      ],
      "metadata": {
        "id": "r7E2JyoNBVY7"
      }
    },
    {
      "cell_type": "code",
      "source": [
        "import numpy \n",
        "#en el local pip instal numpy "
      ],
      "metadata": {
        "id": "XOdqLxQxDNvI"
      },
      "execution_count": null,
      "outputs": []
    },
    {
      "cell_type": "code",
      "source": [
        "numpy.__version__"
      ],
      "metadata": {
        "colab": {
          "base_uri": "https://localhost:8080/",
          "height": 35
        },
        "id": "WisSn2itDotO",
        "outputId": "2d965344-028e-4557-d633-8132d6df84db"
      },
      "execution_count": null,
      "outputs": [
        {
          "output_type": "execute_result",
          "data": {
            "text/plain": [
              "'1.21.6'"
            ],
            "application/vnd.google.colaboratory.intrinsic+json": {
              "type": "string"
            }
          },
          "metadata": {},
          "execution_count": 4
        }
      ]
    },
    {
      "cell_type": "code",
      "source": [
        "import copy as cp #importar paquetes con un alias\n",
        "cp.deepcopy\n",
        "import matplotlib.pyplot as plt\n",
        "plt.\n",
        "import numpy as np\n",
        "np."
      ],
      "metadata": {
        "id": "VlRBT9Q2FYrc",
        "colab": {
          "base_uri": "https://localhost:8080/",
          "height": 130
        },
        "outputId": "608913a2-000b-4f6f-b036-81eb2db4b33f"
      },
      "execution_count": null,
      "outputs": [
        {
          "output_type": "error",
          "ename": "SyntaxError",
          "evalue": "ignored",
          "traceback": [
            "\u001b[0;36m  File \u001b[0;32m\"<ipython-input-5-2f6877239c19>\"\u001b[0;36m, line \u001b[0;32m4\u001b[0m\n\u001b[0;31m    plt.\u001b[0m\n\u001b[0m        ^\u001b[0m\n\u001b[0;31mSyntaxError\u001b[0m\u001b[0;31m:\u001b[0m invalid syntax\n"
          ]
        }
      ]
    },
    {
      "cell_type": "markdown",
      "source": [
        "ARREGLO DE NUMPY VS PYTHON"
      ],
      "metadata": {
        "id": "85V7HmZHF1cB"
      }
    },
    {
      "cell_type": "code",
      "source": [
        "a=(2,5)\n",
        "b=(3,5)"
      ],
      "metadata": {
        "id": "KcT0axDKGL_n"
      },
      "execution_count": null,
      "outputs": []
    },
    {
      "cell_type": "code",
      "source": [
        "import numpy"
      ],
      "metadata": {
        "id": "hujGuVidF1EV"
      },
      "execution_count": null,
      "outputs": []
    },
    {
      "cell_type": "code",
      "source": [
        "aN=numpy.array(a)\n",
        "bN=numpy.array(b)"
      ],
      "metadata": {
        "id": "wMTxRnPkF-yk"
      },
      "execution_count": null,
      "outputs": []
    },
    {
      "cell_type": "code",
      "source": [
        "print(aN,bN)\n",
        "aN+bN"
      ],
      "metadata": {
        "colab": {
          "base_uri": "https://localhost:8080/"
        },
        "id": "nLD62LopHTMn",
        "outputId": "12407cc4-10fd-4e6b-f2b5-937d2ce85344"
      },
      "execution_count": null,
      "outputs": [
        {
          "output_type": "stream",
          "name": "stdout",
          "text": [
            "[2 5] [3 5]\n"
          ]
        },
        {
          "output_type": "execute_result",
          "data": {
            "text/plain": [
              "array([ 5, 10])"
            ]
          },
          "metadata": {},
          "execution_count": 28
        }
      ]
    },
    {
      "cell_type": "markdown",
      "source": [
        "EN NUMPY todos los elementos se convierten al tip mas general de dapts: str, float, int, bool"
      ],
      "metadata": {
        "id": "Lg7_VP6tGEgc"
      }
    },
    {
      "cell_type": "code",
      "source": [
        "c=numpy.array([\"2\",3,4])"
      ],
      "metadata": {
        "id": "I7P66Rv_GWfC"
      },
      "execution_count": null,
      "outputs": []
    },
    {
      "cell_type": "code",
      "source": [
        "c"
      ],
      "metadata": {
        "colab": {
          "base_uri": "https://localhost:8080/"
        },
        "id": "wyUnKIQQGfRW",
        "outputId": "c4e7db0d-1806-480a-ca75-e54b2d876515"
      },
      "execution_count": null,
      "outputs": [
        {
          "output_type": "execute_result",
          "data": {
            "text/plain": [
              "array(['2', '3', '4'], dtype='<U21')"
            ]
          },
          "metadata": {},
          "execution_count": 20
        }
      ]
    },
    {
      "cell_type": "code",
      "source": [
        "d=numpy.array([True,2,3,5])\n",
        "d"
      ],
      "metadata": {
        "colab": {
          "base_uri": "https://localhost:8080/"
        },
        "id": "MieeivD9Gk4H",
        "outputId": "f5aa41e6-f950-4608-b4f3-2427bab7afe7"
      },
      "execution_count": null,
      "outputs": [
        {
          "output_type": "execute_result",
          "data": {
            "text/plain": [
              "array([1, 2, 3, 5])"
            ]
          },
          "metadata": {},
          "execution_count": 23
        }
      ]
    },
    {
      "cell_type": "code",
      "source": [
        "d=numpy.array([True,2,3,5],dtype=int)\n",
        "d"
      ],
      "metadata": {
        "colab": {
          "base_uri": "https://localhost:8080/"
        },
        "id": "U8Og0RdvHFlB",
        "outputId": "d5d60c6c-8fdf-4dba-d6a8-0419f3c5b6e1"
      },
      "execution_count": null,
      "outputs": [
        {
          "output_type": "execute_result",
          "data": {
            "text/plain": [
              "array([1, 2, 3, 5])"
            ]
          },
          "metadata": {},
          "execution_count": 30
        }
      ]
    },
    {
      "cell_type": "markdown",
      "source": [
        "INDEXACION DE NUMPY array. "
      ],
      "metadata": {
        "id": "C5ReeORtHW9m"
      }
    },
    {
      "cell_type": "code",
      "source": [
        "e=numpy.random.uniform(0,100,(4,4))\n",
        "e"
      ],
      "metadata": {
        "colab": {
          "base_uri": "https://localhost:8080/"
        },
        "id": "-y3S5rJUHcnG",
        "outputId": "5b1ec2c0-367a-4205-81cf-91b12bb4c358"
      },
      "execution_count": null,
      "outputs": [
        {
          "output_type": "execute_result",
          "data": {
            "text/plain": [
              "array([[68.14609193, 70.73953848, 51.52670523, 32.741656  ],\n",
              "       [93.84803117, 58.47565314, 41.3039966 , 81.64699026],\n",
              "       [ 9.87840806, 23.48771789, 98.49196011, 86.09555037],\n",
              "       [51.78594322, 80.22490506, 10.59739365, 41.98311495]])"
            ]
          },
          "metadata": {},
          "execution_count": 34
        }
      ]
    },
    {
      "cell_type": "code",
      "source": [
        "e[0,3]\n",
        "e[2][2]"
      ],
      "metadata": {
        "colab": {
          "base_uri": "https://localhost:8080/"
        },
        "id": "m-hwZRBpLmuR",
        "outputId": "8e967ff6-1fa3-47cf-8d2f-b4339ca3f482"
      },
      "execution_count": null,
      "outputs": [
        {
          "output_type": "execute_result",
          "data": {
            "text/plain": [
              "98.49196011385366"
            ]
          },
          "metadata": {},
          "execution_count": 38
        }
      ]
    },
    {
      "cell_type": "markdown",
      "source": [
        "SLICING como en listas y tuplas (NUNCA se toma el ultimo)"
      ],
      "metadata": {
        "id": "TSvFmBAvL2Ed"
      }
    },
    {
      "cell_type": "code",
      "source": [
        "e[0:2,0:4] #Elementos del eje 0, Elemetos del eje1 "
      ],
      "metadata": {
        "colab": {
          "base_uri": "https://localhost:8080/"
        },
        "id": "FoZ0PtxaL1r2",
        "outputId": "acb125da-264a-4c37-8735-272acd58cb64"
      },
      "execution_count": null,
      "outputs": [
        {
          "output_type": "execute_result",
          "data": {
            "text/plain": [
              "array([[68.14609193, 70.73953848, 51.52670523, 32.741656  ],\n",
              "       [93.84803117, 58.47565314, 41.3039966 , 81.64699026]])"
            ]
          },
          "metadata": {},
          "execution_count": 51
        }
      ]
    },
    {
      "cell_type": "code",
      "source": [
        "f=numpy.random.uniform(0,100,(2,2,3))\n",
        "f"
      ],
      "metadata": {
        "colab": {
          "base_uri": "https://localhost:8080/"
        },
        "id": "zE7wTVHUTgyj",
        "outputId": "f31493dc-9e08-407e-e510-80f4b4462d8a"
      },
      "execution_count": null,
      "outputs": [
        {
          "output_type": "execute_result",
          "data": {
            "text/plain": [
              "array([[[17.93797414, 35.00360548, 47.38949483],\n",
              "        [46.61906466, 39.45746709, 95.58899193]],\n",
              "\n",
              "       [[56.6301952 , 60.04562791, 39.65663813],\n",
              "        [71.56636752, 48.62321027, 77.31603303]]])"
            ]
          },
          "metadata": {},
          "execution_count": 6
        }
      ]
    },
    {
      "cell_type": "code",
      "source": [
        "f[1,1,1]"
      ],
      "metadata": {
        "colab": {
          "base_uri": "https://localhost:8080/"
        },
        "id": "ZpNd0urPUF6w",
        "outputId": "28e27ec5-88cd-4d19-c938-fcca69003120"
      },
      "execution_count": null,
      "outputs": [
        {
          "output_type": "execute_result",
          "data": {
            "text/plain": [
              "17.4239177906908"
            ]
          },
          "metadata": {},
          "execution_count": 61
        }
      ]
    },
    {
      "cell_type": "code",
      "source": [
        "f[0:3,0:3,0:4]"
      ],
      "metadata": {
        "colab": {
          "base_uri": "https://localhost:8080/"
        },
        "id": "RsnkYqJ0U-L8",
        "outputId": "c3c119fa-c878-45aa-bae5-59e8313a77d3"
      },
      "execution_count": null,
      "outputs": [
        {
          "output_type": "execute_result",
          "data": {
            "text/plain": [
              "array([[[85.16382486, 19.27679069, 68.16732914],\n",
              "        [73.93706207,  5.51473394, 96.62932823]],\n",
              "\n",
              "       [[17.76449797, 65.32536359, 62.86879627],\n",
              "        [84.55476852, 17.42391779, 88.75090809]]])"
            ]
          },
          "metadata": {},
          "execution_count": 63
        }
      ]
    },
    {
      "cell_type": "markdown",
      "source": [
        "MUTABILIDA DE LOS ARREGLOS NUMPY (son mutables)\n",
        "\n"
      ],
      "metadata": {
        "id": "9SlPL0Q0VWls"
      }
    },
    {
      "cell_type": "code",
      "source": [
        "f[1,1,1]=17\n",
        "f"
      ],
      "metadata": {
        "colab": {
          "base_uri": "https://localhost:8080/"
        },
        "id": "3qA28SC1Va9A",
        "outputId": "b7bfa2af-1efd-4098-c894-2068eb7fd0a5"
      },
      "execution_count": null,
      "outputs": [
        {
          "output_type": "execute_result",
          "data": {
            "text/plain": [
              "array([[[85.16382486, 19.27679069, 68.16732914],\n",
              "        [73.93706207,  5.51473394, 96.62932823]],\n",
              "\n",
              "       [[17.76449797, 65.32536359, 62.86879627],\n",
              "        [84.55476852, 17.        , 88.75090809]]])"
            ]
          },
          "metadata": {},
          "execution_count": 65
        }
      ]
    },
    {
      "cell_type": "markdown",
      "source": [
        "COPY Y DEEPCOPY (los slices de arreglo tiene ubicacion propia en memoria)"
      ],
      "metadata": {
        "id": "3rE_byrmVqtS"
      }
    },
    {
      "cell_type": "code",
      "source": [
        "copiaf=f\n",
        "print(id(copiaf),id(f)) #id iguales usar metodo copy"
      ],
      "metadata": {
        "id": "asPRwghzWGNI",
        "colab": {
          "base_uri": "https://localhost:8080/"
        },
        "outputId": "6e2a7316-d37b-464d-85dc-e6bc0df218fe"
      },
      "execution_count": null,
      "outputs": [
        {
          "output_type": "stream",
          "name": "stdout",
          "text": [
            "139792632461904 139792632461904\n"
          ]
        }
      ]
    },
    {
      "cell_type": "code",
      "source": [
        "copiaf=f.copy()\n",
        "print(id(copiaf),id(f)) #soluciono id diferentes"
      ],
      "metadata": {
        "colab": {
          "base_uri": "https://localhost:8080/"
        },
        "id": "vyVw4xGaIxTI",
        "outputId": "5b429638-89fe-4d68-8a4b-59d2279ffb9f"
      },
      "execution_count": null,
      "outputs": [
        {
          "output_type": "stream",
          "name": "stdout",
          "text": [
            "139792631666800 139792632461904\n"
          ]
        }
      ]
    },
    {
      "cell_type": "code",
      "source": [
        "print(id(f[1,1,1]),id(copiaf[1,1,1])) #id iguales, los slicing o ubicaciones tiene posicion propia en la memoria"
      ],
      "metadata": {
        "colab": {
          "base_uri": "https://localhost:8080/"
        },
        "id": "g0uUu5mxI-oX",
        "outputId": "9c35220f-04d0-415f-d3a1-825d0e6df797"
      },
      "execution_count": null,
      "outputs": [
        {
          "output_type": "stream",
          "name": "stdout",
          "text": [
            "139792631798192 139792631798192\n"
          ]
        }
      ]
    },
    {
      "cell_type": "code",
      "source": [
        "id_slicing=copiaf[1,1,1].copy\n",
        "print(id(id_slicing),id(f[1,1,1])) #solucion haciendo copia de los slicings "
      ],
      "metadata": {
        "colab": {
          "base_uri": "https://localhost:8080/"
        },
        "id": "T1ujkko4JmsW",
        "outputId": "2faade3e-5091-40b1-8431-8201eba0345b"
      },
      "execution_count": null,
      "outputs": [
        {
          "output_type": "stream",
          "name": "stdout",
          "text": [
            "139792506763936 139792506403792\n"
          ]
        }
      ]
    },
    {
      "cell_type": "markdown",
      "source": [
        "Otra manera de solucionar las ubicaciones de los slicing es unsando el metodo DEEPCOPY\n",
        "\n"
      ],
      "metadata": {
        "id": "bl5-Bid9LHTn"
      }
    },
    {
      "cell_type": "code",
      "source": [
        "import copy\n",
        "copiaF=copy.deepcopy(f)\n",
        "print(id(copiaF),id(f))"
      ],
      "metadata": {
        "colab": {
          "base_uri": "https://localhost:8080/"
        },
        "id": "JqXTJ4rCKKL6",
        "outputId": "2fa529f6-a2dd-4503-dc24-4a9a3f9eeb6f"
      },
      "execution_count": null,
      "outputs": [
        {
          "output_type": "stream",
          "name": "stdout",
          "text": [
            "139792506419216 139792632461904\n"
          ]
        }
      ]
    },
    {
      "cell_type": "code",
      "source": [
        "print(id(f[1,1,1]),id(f))"
      ],
      "metadata": {
        "colab": {
          "base_uri": "https://localhost:8080/"
        },
        "id": "zhN4F7QAK9jp",
        "outputId": "ea7711b8-0195-4421-d681-b548662c7f32"
      },
      "execution_count": null,
      "outputs": [
        {
          "output_type": "stream",
          "name": "stdout",
          "text": [
            "139792508198480 139792632461904\n"
          ]
        }
      ]
    },
    {
      "cell_type": "markdown",
      "source": [
        "CONVERTIR LISTAS EN MATRICES (solo para listas de listas simetricas)"
      ],
      "metadata": {
        "id": "HwwuJmckWG1Z"
      }
    },
    {
      "cell_type": "code",
      "source": [
        "g=numpy.array([[1,2,3],[4,5,6]])\n",
        "g"
      ],
      "metadata": {
        "colab": {
          "base_uri": "https://localhost:8080/"
        },
        "id": "d5d-sylNWTTg",
        "outputId": "ea2d975e-4840-4e49-c104-c14ddd247a6f"
      },
      "execution_count": null,
      "outputs": [
        {
          "output_type": "execute_result",
          "data": {
            "text/plain": [
              "array([[1, 2, 3],\n",
              "       [4, 5, 6]])"
            ]
          },
          "metadata": {},
          "execution_count": 67
        }
      ]
    },
    {
      "cell_type": "markdown",
      "source": [
        "METODO .shape()"
      ],
      "metadata": {
        "id": "dPme69-qWsMf"
      }
    },
    {
      "cell_type": "code",
      "source": [
        "g.shape"
      ],
      "metadata": {
        "colab": {
          "base_uri": "https://localhost:8080/"
        },
        "id": "4RGrjzItWvjX",
        "outputId": "14bf1321-572c-48f9-d9a8-13a299bc203c"
      },
      "execution_count": null,
      "outputs": [
        {
          "output_type": "execute_result",
          "data": {
            "text/plain": [
              "(2, 3)"
            ]
          },
          "metadata": {},
          "execution_count": 70
        }
      ]
    },
    {
      "cell_type": "code",
      "source": [
        "f.shape"
      ],
      "metadata": {
        "colab": {
          "base_uri": "https://localhost:8080/"
        },
        "id": "n4mdv-doW7Ht",
        "outputId": "881b15d2-34c0-4bbd-e4d9-d569b0e4e1a7"
      },
      "execution_count": null,
      "outputs": [
        {
          "output_type": "execute_result",
          "data": {
            "text/plain": [
              "(2, 2, 3)"
            ]
          },
          "metadata": {},
          "execution_count": 71
        }
      ]
    },
    {
      "cell_type": "code",
      "source": [
        "print(f)"
      ],
      "metadata": {
        "colab": {
          "base_uri": "https://localhost:8080/"
        },
        "id": "HYNZIVTtXCCg",
        "outputId": "41530e80-2196-4f78-d2db-891bde649ce7"
      },
      "execution_count": null,
      "outputs": [
        {
          "output_type": "stream",
          "name": "stdout",
          "text": [
            "[[[85.16382486 19.27679069 68.16732914]\n",
            "  [73.93706207  5.51473394 96.62932823]]\n",
            "\n",
            " [[17.76449797 65.32536359 62.86879627]\n",
            "  [84.55476852 17.         88.75090809]]]\n"
          ]
        }
      ]
    },
    {
      "cell_type": "markdown",
      "source": [
        "METODO len()"
      ],
      "metadata": {
        "id": "OIfneZXCXf-X"
      }
    },
    {
      "cell_type": "code",
      "source": [
        "len(f) #entrga la dimension del eje 0"
      ],
      "metadata": {
        "colab": {
          "base_uri": "https://localhost:8080/"
        },
        "id": "CoT_CNLRXkT7",
        "outputId": "c6e70de1-1be1-4366-8248-8f49b6a7cea6"
      },
      "execution_count": null,
      "outputs": [
        {
          "output_type": "execute_result",
          "data": {
            "text/plain": [
              "2"
            ]
          },
          "metadata": {},
          "execution_count": 74
        }
      ]
    },
    {
      "cell_type": "code",
      "source": [
        "ff=f.sum(axis=0)\n",
        "print(ff,ff.shape)"
      ],
      "metadata": {
        "colab": {
          "base_uri": "https://localhost:8080/"
        },
        "id": "5m1Clk0sX0Lf",
        "outputId": "36ff31f9-5c88-4f1d-818a-86bc7f11243f"
      },
      "execution_count": null,
      "outputs": [
        {
          "output_type": "stream",
          "name": "stdout",
          "text": [
            "[[102.92832283  84.60215428 131.03612541]\n",
            " [158.49183059  22.51473394 185.38023633]] (2, 3)\n"
          ]
        }
      ]
    },
    {
      "cell_type": "code",
      "source": [
        "f[0,0]+f[1,0]"
      ],
      "metadata": {
        "colab": {
          "base_uri": "https://localhost:8080/"
        },
        "id": "OondGlClaIFr",
        "outputId": "a72d2f85-77f8-4489-fa97-046dd8dad5db"
      },
      "execution_count": null,
      "outputs": [
        {
          "output_type": "execute_result",
          "data": {
            "text/plain": [
              "array([102.92832283,  84.60215428, 131.03612541])"
            ]
          },
          "metadata": {},
          "execution_count": 86
        }
      ]
    },
    {
      "cell_type": "code",
      "source": [
        "fff=ff.sum(axis=0)\n",
        "print(fff,fff.shape)"
      ],
      "metadata": {
        "colab": {
          "base_uri": "https://localhost:8080/"
        },
        "id": "4McM4VUAZVEl",
        "outputId": "6a5fdd2a-42bb-4ec0-d97e-ae6006e65c13"
      },
      "execution_count": null,
      "outputs": [
        {
          "output_type": "stream",
          "name": "stdout",
          "text": [
            "[261.42015342 107.11688822 316.41636174] (3,)\n"
          ]
        }
      ]
    },
    {
      "cell_type": "code",
      "source": [
        "ffff=fff.sum(axis=0)\n",
        "print(ffff,ffff.shape)"
      ],
      "metadata": {
        "colab": {
          "base_uri": "https://localhost:8080/"
        },
        "id": "VAxP_ZxKZyU1",
        "outputId": "00f1d0c3-6839-4845-de44-71b1ada3de32"
      },
      "execution_count": null,
      "outputs": [
        {
          "output_type": "stream",
          "name": "stdout",
          "text": [
            "684.9534033813085 ()\n"
          ]
        }
      ]
    },
    {
      "cell_type": "markdown",
      "source": [
        "LINSPACE(INICIO,FIN,NUMERO DE DATOS)"
      ],
      "metadata": {
        "id": "vV9aQNaearWe"
      }
    },
    {
      "cell_type": "code",
      "source": [
        "h=numpy.linspace(0,10,10)\n",
        "print(h,h[-1],h[0])\n"
      ],
      "metadata": {
        "colab": {
          "base_uri": "https://localhost:8080/"
        },
        "id": "XwbhzsRqazA6",
        "outputId": "afd2796b-4f74-4a42-b587-25a5bbf02641"
      },
      "execution_count": null,
      "outputs": [
        {
          "output_type": "stream",
          "name": "stdout",
          "text": [
            "[ 0.          1.11111111  2.22222222  3.33333333  4.44444444  5.55555556\n",
            "  6.66666667  7.77777778  8.88888889 10.        ] 10.0 0.0\n"
          ]
        }
      ]
    },
    {
      "cell_type": "markdown",
      "source": [
        "METODO .reshape(dim1,dim2,.....)"
      ],
      "metadata": {
        "id": "gRCw5NvYbA2K"
      }
    },
    {
      "cell_type": "code",
      "source": [
        "print(f)\n",
        "print(f.shape)\n",
        "print(f.reshape(2,6))"
      ],
      "metadata": {
        "colab": {
          "base_uri": "https://localhost:8080/"
        },
        "id": "4yVPSJQJbJgO",
        "outputId": "2f90bfc0-c9ca-41e7-9c53-74e59f09162d"
      },
      "execution_count": null,
      "outputs": [
        {
          "output_type": "stream",
          "name": "stdout",
          "text": [
            "[[[85.16382486 19.27679069 68.16732914]\n",
            "  [73.93706207  5.51473394 96.62932823]]\n",
            "\n",
            " [[17.76449797 65.32536359 62.86879627]\n",
            "  [84.55476852 17.         88.75090809]]]\n",
            "(2, 2, 3)\n",
            "[[85.16382486 19.27679069 68.16732914 73.93706207  5.51473394 96.62932823]\n",
            " [17.76449797 65.32536359 62.86879627 84.55476852 17.         88.75090809]]\n"
          ]
        }
      ]
    },
    {
      "cell_type": "markdown",
      "source": [
        "METODO ones()-zeros()-identity()\n",
        "\n"
      ],
      "metadata": {
        "id": "2WkaPGjPcsgO"
      }
    },
    {
      "cell_type": "code",
      "source": [
        "numpy.ones((2,2))"
      ],
      "metadata": {
        "colab": {
          "base_uri": "https://localhost:8080/"
        },
        "id": "jfzqd7YocweK",
        "outputId": "9f8a2f2f-5249-49cc-b2fa-e0e159138c5d"
      },
      "execution_count": null,
      "outputs": [
        {
          "output_type": "execute_result",
          "data": {
            "text/plain": [
              "array([[1., 1.],\n",
              "       [1., 1.]])"
            ]
          },
          "metadata": {},
          "execution_count": 111
        }
      ]
    },
    {
      "cell_type": "code",
      "source": [
        "numpy.zeros((2,2))"
      ],
      "metadata": {
        "colab": {
          "base_uri": "https://localhost:8080/"
        },
        "id": "VuG11GACdGDD",
        "outputId": "f83d97ff-90d3-4d6c-baa4-c5b85a366edd"
      },
      "execution_count": null,
      "outputs": [
        {
          "output_type": "execute_result",
          "data": {
            "text/plain": [
              "array([[0., 0.],\n",
              "       [0., 0.]])"
            ]
          },
          "metadata": {},
          "execution_count": 112
        }
      ]
    },
    {
      "cell_type": "code",
      "source": [
        "numpy.identity(2)"
      ],
      "metadata": {
        "colab": {
          "base_uri": "https://localhost:8080/"
        },
        "id": "5z6rDsC5dQGa",
        "outputId": "4c86124f-c4f4-4fb8-8450-949b4b94778e"
      },
      "execution_count": null,
      "outputs": [
        {
          "output_type": "execute_result",
          "data": {
            "text/plain": [
              "array([[1., 0.],\n",
              "       [0., 1.]])"
            ]
          },
          "metadata": {},
          "execution_count": 113
        }
      ]
    },
    {
      "cell_type": "markdown",
      "source": [
        "MATRIZ TRANSPUESTA"
      ],
      "metadata": {
        "id": "l2e47OyBdkVY"
      }
    },
    {
      "cell_type": "code",
      "source": [
        "t=f.transpose() #inversion de los ejes \n",
        "print(f)\n",
        "print(t,t.shape)"
      ],
      "metadata": {
        "colab": {
          "base_uri": "https://localhost:8080/"
        },
        "id": "5JEVLHe_dns4",
        "outputId": "ed77878c-a7eb-4094-80c7-630a90c7d40b"
      },
      "execution_count": null,
      "outputs": [
        {
          "output_type": "stream",
          "name": "stdout",
          "text": [
            "[[[85.16382486 19.27679069 68.16732914]\n",
            "  [73.93706207  5.51473394 96.62932823]]\n",
            "\n",
            " [[17.76449797 65.32536359 62.86879627]\n",
            "  [84.55476852 17.         88.75090809]]]\n",
            "[[[85.16382486 17.76449797]\n",
            "  [73.93706207 84.55476852]]\n",
            "\n",
            " [[19.27679069 65.32536359]\n",
            "  [ 5.51473394 17.        ]]\n",
            "\n",
            " [[68.16732914 62.86879627]\n",
            "  [96.62932823 88.75090809]]] (3, 2, 2)\n"
          ]
        }
      ]
    },
    {
      "cell_type": "markdown",
      "source": [
        "AJUSTE POLINOMIAL"
      ],
      "metadata": {
        "id": "-mmbta5afdxJ"
      }
    },
    {
      "cell_type": "code",
      "source": [
        "x=numpy.arange(0,10) #(star,stop,step) \n",
        "x"
      ],
      "metadata": {
        "colab": {
          "base_uri": "https://localhost:8080/"
        },
        "id": "4eCR53NbfChm",
        "outputId": "da45740e-0097-4fbf-da07-9c470e644814"
      },
      "execution_count": null,
      "outputs": [
        {
          "output_type": "execute_result",
          "data": {
            "text/plain": [
              "array([0, 1, 2, 3, 4, 5, 6, 7, 8, 9])"
            ]
          },
          "metadata": {},
          "execution_count": 127
        }
      ]
    },
    {
      "cell_type": "code",
      "source": [
        "y=x**2\n",
        "y"
      ],
      "metadata": {
        "colab": {
          "base_uri": "https://localhost:8080/"
        },
        "id": "Juk5H5S5fKXP",
        "outputId": "ed7d7bf3-ea17-4cc7-efb4-04bacb2d9ba2"
      },
      "execution_count": null,
      "outputs": [
        {
          "output_type": "execute_result",
          "data": {
            "text/plain": [
              "array([ 0,  1,  4,  9, 16, 25, 36, 49, 64, 81])"
            ]
          },
          "metadata": {},
          "execution_count": 129
        }
      ]
    },
    {
      "cell_type": "code",
      "source": [
        "numpy.polyfit(x,y,2) #coeficientes (estimadores) del ajuste polonomial "
      ],
      "metadata": {
        "colab": {
          "base_uri": "https://localhost:8080/"
        },
        "id": "Benc2FexfPiA",
        "outputId": "b18043e5-10dc-4cc5-d69f-dc23c1cfa914"
      },
      "execution_count": null,
      "outputs": [
        {
          "output_type": "execute_result",
          "data": {
            "text/plain": [
              "array([ 1.00000000e+00, -5.76177365e-15,  1.53728415e-14])"
            ]
          },
          "metadata": {},
          "execution_count": 130
        }
      ]
    },
    {
      "cell_type": "code",
      "source": [
        ""
      ],
      "metadata": {
        "id": "OScgQz4gMZS8"
      },
      "execution_count": null,
      "outputs": []
    },
    {
      "cell_type": "markdown",
      "source": [
        "EJERCICIOS:\n",
        "* Sea x un arreglo de numeros aleatorios, dist unif, entre -1 y 1. Comprueben que la media es cero.\n",
        "* Resolver el sistema de ecuaciones\n",
        "![68747470733a2f2f64726976652e676f6f676c652e636f6d2f75633f69643d31766f4750677538365075336e61484a355a556c504d357155514e687062384d37.png](data:image/png;base64,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)\n",
        "* Sumar todos los numeros de un arreglo numpy devisibles por 7 pero no divisibles por 5."
      ],
      "metadata": {
        "id": "1oCMnIDwhHak"
      }
    },
    {
      "cell_type": "markdown",
      "source": [
        "1."
      ],
      "metadata": {
        "id": "zBdycYXqqlMb"
      }
    },
    {
      "cell_type": "code",
      "source": [
        "import numpy\n",
        "x=numpy.random.uniform(-1,1,100)\n",
        "y=x.mean()\n",
        "print(x,y)"
      ],
      "metadata": {
        "colab": {
          "base_uri": "https://localhost:8080/"
        },
        "id": "ZQVK2kjNq29l",
        "outputId": "ccff7779-98f3-4dcf-be1d-e148b1f5a9ef"
      },
      "execution_count": 8,
      "outputs": [
        {
          "output_type": "stream",
          "name": "stdout",
          "text": [
            "[ 0.80057881 -0.34714957  0.72053721 -0.77736606  0.24646264  0.13271118\n",
            "  0.93540597  0.85786416  0.15548958  0.08276178 -0.99966267  0.963697\n",
            " -0.03681761  0.89401404 -0.2118757  -0.83499003 -0.54200276  0.47899745\n",
            "  0.68484756  0.18481652 -0.82018103 -0.35985471 -0.57851392 -0.69454165\n",
            " -0.67519679  0.18527237  0.64429032 -0.53549787 -0.97861447  0.39635847\n",
            "  0.93288691 -0.29957475 -0.45761885  0.38432908  0.01973923 -0.00876229\n",
            " -0.64077443  0.57571028  0.4916982   0.10894543  0.88543385 -0.10212484\n",
            " -0.09460057  0.26129534 -0.75129009  0.97960677 -0.04134345 -0.5339583\n",
            "  0.66779572 -0.3379957  -0.03165344 -0.82561559  0.01248356  0.11662948\n",
            "  0.15400906  0.84653755 -0.61103241  0.87207567 -0.65766444  0.5344921\n",
            " -0.74758768 -0.55088111 -0.3945853  -0.71885822  0.39110403  0.13150381\n",
            " -0.64395979  0.0408368   0.96726185  0.73323088 -0.94894973 -0.25451287\n",
            " -0.37826134  0.16125515 -0.291622   -0.55763976 -0.83762536  0.9387873\n",
            "  0.38930154  0.15284313  0.51877555  0.71790578 -0.37702481  0.55638842\n",
            "  0.68211832 -0.11321536  0.45133587 -0.73774262 -0.96068129 -0.99992928\n",
            "  0.57305405  0.36689552  0.73299382 -0.1307128   0.73967226 -0.41376061\n",
            " -0.5677216  -0.64771805  0.23236824 -0.61410606] 0.00012035968492261295\n"
          ]
        }
      ]
    },
    {
      "cell_type": "markdown",
      "source": [
        "2."
      ],
      "metadata": {
        "id": "RY6cGkHGsTnC"
      }
    },
    {
      "cell_type": "code",
      "source": [
        "A=numpy.array([[1,-3,2],[5,6,-1],[4,-1,3]])\n",
        "B=numpy.array([[-3],[13],[8]])\n",
        "print(A,B)"
      ],
      "metadata": {
        "colab": {
          "base_uri": "https://localhost:8080/"
        },
        "id": "uC5pGlx-sVGD",
        "outputId": "9a23711f-a6f0-46d1-ffa7-97be654fd1b5"
      },
      "execution_count": 11,
      "outputs": [
        {
          "output_type": "stream",
          "name": "stdout",
          "text": [
            "[[ 1 -3  2]\n",
            " [ 5  6 -1]\n",
            " [ 4 -1  3]] [[-3]\n",
            " [13]\n",
            " [ 8]]\n"
          ]
        }
      ]
    },
    {
      "cell_type": "code",
      "source": [
        "I=numpy.linalg.inv(A)\n",
        "I"
      ],
      "metadata": {
        "colab": {
          "base_uri": "https://localhost:8080/"
        },
        "id": "lhy3ETD8tJ6d",
        "outputId": "947ba7d5-aaec-4fb8-f6da-5d4826349728"
      },
      "execution_count": 13,
      "outputs": [
        {
          "output_type": "execute_result",
          "data": {
            "text/plain": [
              "array([[ 1.0625,  0.4375, -0.5625],\n",
              "       [-1.1875, -0.3125,  0.6875],\n",
              "       [-1.8125, -0.6875,  1.3125]])"
            ]
          },
          "metadata": {},
          "execution_count": 13
        }
      ]
    },
    {
      "cell_type": "code",
      "source": [
        "#AX=B\n",
        "#X=inv(A)*B"
      ],
      "metadata": {
        "id": "gAdNT7T8tXgk"
      },
      "execution_count": null,
      "outputs": []
    },
    {
      "cell_type": "code",
      "source": [
        "X=I.dot(B)\n",
        "X"
      ],
      "metadata": {
        "colab": {
          "base_uri": "https://localhost:8080/"
        },
        "id": "Ttym0sT2tnPL",
        "outputId": "39fafc9b-b592-4014-e9f0-e6b4abe7ff9d"
      },
      "execution_count": 14,
      "outputs": [
        {
          "output_type": "execute_result",
          "data": {
            "text/plain": [
              "array([[-2.],\n",
              "       [ 5.],\n",
              "       [ 7.]])"
            ]
          },
          "metadata": {},
          "execution_count": 14
        }
      ]
    },
    {
      "cell_type": "code",
      "source": [
        "X1=I @ B #multiplicacion de matrices\n",
        "X1"
      ],
      "metadata": {
        "colab": {
          "base_uri": "https://localhost:8080/"
        },
        "id": "ev2Wm61dt0e-",
        "outputId": "0da78f1d-d2e0-456f-8d26-059c31174e13"
      },
      "execution_count": 16,
      "outputs": [
        {
          "output_type": "execute_result",
          "data": {
            "text/plain": [
              "array([[-2.],\n",
              "       [ 5.],\n",
              "       [ 7.]])"
            ]
          },
          "metadata": {},
          "execution_count": 16
        }
      ]
    },
    {
      "cell_type": "code",
      "source": [
        "X2=numpy.matmul(I,B)\n",
        "X2"
      ],
      "metadata": {
        "colab": {
          "base_uri": "https://localhost:8080/"
        },
        "id": "CGejZ3INuHmB",
        "outputId": "d5c88803-a4c7-4ce3-b7cd-83f83e481294"
      },
      "execution_count": 18,
      "outputs": [
        {
          "output_type": "execute_result",
          "data": {
            "text/plain": [
              "array([[-2.],\n",
              "       [ 5.],\n",
              "       [ 7.]])"
            ]
          },
          "metadata": {},
          "execution_count": 18
        }
      ]
    },
    {
      "cell_type": "markdown",
      "source": [
        "3."
      ],
      "metadata": {
        "id": "wqFynS4quSBH"
      }
    },
    {
      "cell_type": "code",
      "source": [
        "arreglo[(arreglo%7==0) & (arreglo%5!=0)]"
      ],
      "metadata": {
        "id": "Jj0w4SJWuUBY"
      },
      "execution_count": null,
      "outputs": []
    },
    {
      "cell_type": "markdown",
      "source": [
        "INDEXACION BOOLEANA: FILTROS-MASCARAS"
      ],
      "metadata": {
        "id": "igiPgjjRg3IW"
      }
    },
    {
      "cell_type": "code",
      "source": [
        "x=numpy.random.uniform(0,500,200)\n",
        "x"
      ],
      "metadata": {
        "colab": {
          "base_uri": "https://localhost:8080/"
        },
        "id": "g-ZFlxFEuzjF",
        "outputId": "e8269276-b0f2-4f75-99c7-aa38e3ed0e3e"
      },
      "execution_count": 27,
      "outputs": [
        {
          "output_type": "execute_result",
          "data": {
            "text/plain": [
              "array([4.07321667e+02, 2.65754753e+02, 2.21842138e+02, 1.07584688e+02,\n",
              "       3.86636383e+02, 2.27960237e+02, 1.02694535e+00, 2.77915936e+02,\n",
              "       4.02883925e+02, 6.01761395e+01, 1.14520271e+02, 2.38401534e+02,\n",
              "       2.69808383e+02, 1.08825114e+01, 3.48331536e+02, 2.24195642e+02,\n",
              "       6.00900617e-01, 4.84358229e+02, 9.01534410e+01, 2.90263234e+01,\n",
              "       2.70395557e+00, 1.29499594e+02, 4.87762738e+02, 2.10841392e+01,\n",
              "       2.55779015e+02, 1.30045557e+02, 3.89537144e+02, 2.11863236e+02,\n",
              "       1.39912906e+02, 1.62124402e+02, 2.53461684e+01, 3.60339877e+02,\n",
              "       4.06193914e+02, 4.72615995e+02, 4.60301242e+02, 2.33661824e+01,\n",
              "       6.64540256e+01, 4.94914470e+02, 3.20882353e+01, 1.31372062e+02,\n",
              "       3.09421589e+02, 2.92294399e+02, 5.42192759e+01, 4.86971384e+02,\n",
              "       4.77630214e+02, 1.30094173e+02, 7.48250751e+01, 2.76403410e+02,\n",
              "       2.74623188e+02, 4.11012875e+02, 1.13724933e+02, 3.22471259e+02,\n",
              "       1.85784256e+02, 4.13856214e+02, 3.53457535e+02, 3.39172267e+01,\n",
              "       2.91765887e+02, 3.35619245e+02, 3.91680599e+02, 4.81836193e+02,\n",
              "       1.72763992e+02, 3.41070441e+02, 1.83202149e+02, 4.26866811e+01,\n",
              "       4.34736523e+02, 2.06798254e+02, 2.30708047e+02, 2.65779800e+02,\n",
              "       2.28004836e+02, 1.50305794e+01, 1.72797067e+02, 5.77177610e+01,\n",
              "       3.80950428e+02, 1.60333774e+02, 1.73457396e+02, 3.18513146e+02,\n",
              "       2.13605782e+02, 5.72560963e+01, 1.56900000e+02, 1.31858017e+02,\n",
              "       7.81530200e+01, 4.17185514e+02, 1.79431513e+02, 3.08071676e+02,\n",
              "       7.49765922e+01, 1.31542132e+02, 4.05917902e+02, 3.33872029e+02,\n",
              "       2.32338114e+02, 1.96087931e+02, 4.32383554e+02, 3.98035924e+02,\n",
              "       2.10260453e+02, 3.12210225e+02, 1.31166400e+02, 9.73334924e+01,\n",
              "       2.68145633e+02, 5.53701496e+01, 2.80049398e+02, 8.27614822e+01,\n",
              "       4.97028601e+02, 3.50085795e+02, 2.16437476e+02, 2.12091274e+02,\n",
              "       2.57824213e+02, 3.10187489e+01, 4.68831768e+01, 1.14229525e+02,\n",
              "       5.34057057e+01, 3.87073035e+02, 4.76683309e+02, 3.32434870e+02,\n",
              "       2.45512007e+02, 6.29608488e+01, 9.53505886e+01, 4.62020761e+02,\n",
              "       3.96139677e+02, 9.37421324e+01, 3.70572763e+01, 4.09433470e+02,\n",
              "       1.83357741e+02, 2.29177984e+01, 6.15599716e+01, 2.88444946e+02,\n",
              "       4.38068771e+02, 1.09449403e+02, 3.13273256e+02, 3.56987261e+02,\n",
              "       4.74964991e+02, 3.34564544e+01, 3.93349882e+02, 4.67986351e+02,\n",
              "       3.55497508e+02, 2.44950643e+02, 9.55017228e+01, 1.07162720e+02,\n",
              "       1.45553314e+02, 3.79628649e+02, 3.33872140e+02, 3.34900451e+02,\n",
              "       2.22111459e+02, 5.51672781e+00, 3.76908397e+02, 2.11759677e+02,\n",
              "       3.61798168e+02, 4.58803737e+00, 5.68642620e+01, 1.52610859e+02,\n",
              "       2.74057966e+02, 2.63657346e+02, 3.88931468e+02, 2.12234147e+02,\n",
              "       1.54144001e+01, 6.33909860e+01, 4.75423805e+02, 2.92750788e+02,\n",
              "       9.73257557e+00, 1.92692782e+02, 3.48217479e+02, 2.76849837e+02,\n",
              "       4.49206319e+02, 1.64112512e+02, 2.30454108e+01, 1.99690685e+02,\n",
              "       4.17287448e+02, 4.11987430e+02, 1.62158687e+02, 4.15277661e+02,\n",
              "       4.47758825e+02, 4.15784005e+02, 2.93791608e+02, 4.84585647e+01,\n",
              "       3.33550851e+02, 4.61625612e+01, 3.69557153e+02, 2.45335869e+02,\n",
              "       1.88009476e+02, 9.05708731e+01, 3.22474335e+02, 5.36471347e+01,\n",
              "       3.90916736e+02, 2.52092278e+02, 2.65145173e+00, 3.71768512e+02,\n",
              "       8.00145887e+01, 1.26802078e+02, 3.50382368e+02, 7.69844704e+01,\n",
              "       2.60133184e+02, 1.11120141e+02, 4.99286178e+02, 1.81270364e+02,\n",
              "       2.51536702e+02, 3.22864312e+02, 1.02526431e+02, 1.85888351e+02,\n",
              "       1.74740688e+02, 3.79244258e-01, 4.92856179e+02, 1.73538192e+02])"
            ]
          },
          "metadata": {},
          "execution_count": 27
        }
      ]
    },
    {
      "cell_type": "markdown",
      "source": [
        "CONDICIONES SOBRE UN ARREGLO"
      ],
      "metadata": {
        "id": "Qxxw1LCavBdv"
      }
    },
    {
      "cell_type": "code",
      "source": [
        "filtro= x%5==0 #todos los multiplos de 5 en el arreglo x \n",
        "filtro"
      ],
      "metadata": {
        "colab": {
          "base_uri": "https://localhost:8080/"
        },
        "id": "Pzz3uXHlvKgq",
        "outputId": "68fda140-eaa9-4f3d-cfe7-d596b571552a"
      },
      "execution_count": 28,
      "outputs": [
        {
          "output_type": "execute_result",
          "data": {
            "text/plain": [
              "array([False, False, False, False, False, False, False, False, False,\n",
              "       False, False, False, False, False, False, False, False, False,\n",
              "       False, False, False, False, False, False, False, False, False,\n",
              "       False, False, False, False, False, False, False, False, False,\n",
              "       False, False, False, False, False, False, False, False, False,\n",
              "       False, False, False, False, False, False, False, False, False,\n",
              "       False, False, False, False, False, False, False, False, False,\n",
              "       False, False, False, False, False, False, False, False, False,\n",
              "       False, False, False, False, False, False, False, False, False,\n",
              "       False, False, False, False, False, False, False, False, False,\n",
              "       False, False, False, False, False, False, False, False, False,\n",
              "       False, False, False, False, False, False, False, False, False,\n",
              "       False, False, False, False, False, False, False, False, False,\n",
              "       False, False, False, False, False, False, False, False, False,\n",
              "       False, False, False, False, False, False, False, False, False,\n",
              "       False, False, False, False, False, False, False, False, False,\n",
              "       False, False, False, False, False, False, False, False, False,\n",
              "       False, False, False, False, False, False, False, False, False,\n",
              "       False, False, False, False, False, False, False, False, False,\n",
              "       False, False, False, False, False, False, False, False, False,\n",
              "       False, False, False, False, False, False, False, False, False,\n",
              "       False, False, False, False, False, False, False, False, False,\n",
              "       False, False])"
            ]
          },
          "metadata": {},
          "execution_count": 28
        }
      ]
    },
    {
      "cell_type": "code",
      "source": [
        "filtro1= x<100\n",
        "filtro1"
      ],
      "metadata": {
        "colab": {
          "base_uri": "https://localhost:8080/"
        },
        "id": "DinbJhTCv6q-",
        "outputId": "e7ab6def-f638-45f2-90e9-1b8f51954ab8"
      },
      "execution_count": 29,
      "outputs": [
        {
          "output_type": "execute_result",
          "data": {
            "text/plain": [
              "array([False, False, False, False, False, False,  True, False, False,\n",
              "        True, False, False, False,  True, False, False,  True, False,\n",
              "        True,  True,  True, False, False,  True, False, False, False,\n",
              "       False, False, False,  True, False, False, False, False,  True,\n",
              "        True, False,  True, False, False, False,  True, False, False,\n",
              "       False,  True, False, False, False, False, False, False, False,\n",
              "       False,  True, False, False, False, False, False, False, False,\n",
              "        True, False, False, False, False, False,  True, False,  True,\n",
              "       False, False, False, False, False,  True, False, False,  True,\n",
              "       False, False, False,  True, False, False, False, False, False,\n",
              "       False, False, False, False, False,  True, False,  True, False,\n",
              "        True, False, False, False, False, False,  True,  True, False,\n",
              "        True, False, False, False, False,  True,  True, False, False,\n",
              "        True,  True, False, False,  True,  True, False, False, False,\n",
              "       False, False, False,  True, False, False, False, False,  True,\n",
              "       False, False, False, False, False, False,  True, False, False,\n",
              "       False,  True,  True, False, False, False, False, False,  True,\n",
              "        True, False, False,  True, False, False, False, False, False,\n",
              "        True, False, False, False, False, False, False, False, False,\n",
              "        True, False,  True, False, False, False,  True, False,  True,\n",
              "       False, False,  True, False,  True, False, False,  True, False,\n",
              "       False, False, False, False, False, False, False, False,  True,\n",
              "       False, False])"
            ]
          },
          "metadata": {},
          "execution_count": 29
        }
      ]
    },
    {
      "cell_type": "code",
      "source": [
        "x[filtro1]"
      ],
      "metadata": {
        "colab": {
          "base_uri": "https://localhost:8080/"
        },
        "id": "E10Zhe25wHyy",
        "outputId": "f9ca96b7-3831-43a5-dd7f-0b5d618ed89d"
      },
      "execution_count": 30,
      "outputs": [
        {
          "output_type": "execute_result",
          "data": {
            "text/plain": [
              "array([ 1.02694535, 60.17613953, 10.88251144,  0.60090062, 90.15344097,\n",
              "       29.0263234 ,  2.70395557, 21.08413924, 25.34616844, 23.36618243,\n",
              "       66.45402563, 32.08823535, 54.21927588, 74.82507505, 33.91722668,\n",
              "       42.68668108, 15.03057943, 57.71776096, 57.25609632, 78.15302001,\n",
              "       74.97659217, 97.33349244, 55.37014963, 82.76148222, 31.01874885,\n",
              "       46.88317683, 53.4057057 , 62.96084877, 95.35058856, 93.74213244,\n",
              "       37.05727634, 22.91779843, 61.55997159, 33.45645441, 95.50172285,\n",
              "        5.51672781,  4.58803737, 56.86426203, 15.41440014, 63.390986  ,\n",
              "        9.73257557, 23.04541078, 48.4585647 , 46.16256123, 90.57087311,\n",
              "       53.64713469,  2.65145173, 80.01458869, 76.98447037,  0.37924426])"
            ]
          },
          "metadata": {},
          "execution_count": 30
        }
      ]
    },
    {
      "cell_type": "code",
      "source": [
        "x[x>300]"
      ],
      "metadata": {
        "colab": {
          "base_uri": "https://localhost:8080/"
        },
        "id": "V_wYQiKhwXWI",
        "outputId": "72df249e-f8ea-4ece-f911-c8fcb4cab234"
      },
      "execution_count": 31,
      "outputs": [
        {
          "output_type": "execute_result",
          "data": {
            "text/plain": [
              "array([407.32166679, 386.6363829 , 402.88392464, 348.33153631,\n",
              "       484.35822943, 487.76273787, 389.53714373, 360.33987672,\n",
              "       406.19391379, 472.61599508, 460.30124212, 494.91446965,\n",
              "       309.42158876, 486.97138403, 477.63021357, 411.01287459,\n",
              "       322.4712588 , 413.85621428, 353.45753491, 335.61924463,\n",
              "       391.68059864, 481.83619255, 341.07044131, 434.7365231 ,\n",
              "       380.95042831, 318.51314561, 417.18551404, 308.07167584,\n",
              "       405.91790231, 333.87202856, 432.38355426, 398.03592439,\n",
              "       312.21022522, 497.02860131, 350.08579516, 387.07303466,\n",
              "       476.68330931, 332.43486958, 462.0207611 , 396.13967728,\n",
              "       409.43346966, 438.06877102, 313.27325629, 356.98726059,\n",
              "       474.96499115, 393.34988202, 467.98635053, 355.49750798,\n",
              "       379.62864906, 333.87213963, 334.90045074, 376.90839702,\n",
              "       361.79816768, 388.9314685 , 475.42380481, 348.21747904,\n",
              "       449.20631936, 417.28744821, 411.9874297 , 415.27766116,\n",
              "       447.75882541, 415.78400459, 333.5508507 , 369.55715307,\n",
              "       322.47433501, 390.9167357 , 371.76851236, 350.38236804,\n",
              "       499.2861778 , 322.86431165, 492.85617929])"
            ]
          },
          "metadata": {},
          "execution_count": 31
        }
      ]
    },
    {
      "cell_type": "code",
      "source": [
        "#los valores entre 200 y 300 cambiarlos por 555\n",
        "filtro2= (x>=200) & (x<=300)\n",
        "x[filtro2]=555"
      ],
      "metadata": {
        "colab": {
          "base_uri": "https://localhost:8080/"
        },
        "id": "3AJluNMaxSYO",
        "outputId": "2862eccb-3666-46cf-80fe-f0a3eecbab4c"
      },
      "execution_count": 36,
      "outputs": [
        {
          "output_type": "execute_result",
          "data": {
            "text/plain": [
              "array([265.75475271, 221.84213807, 227.96023719, 277.91593633,\n",
              "       238.40153428, 269.80838342, 224.19564188, 255.77901527,\n",
              "       211.86323557, 292.29439924, 276.40340979, 274.62318794,\n",
              "       291.76588683, 206.79825449, 230.70804672, 265.77980038,\n",
              "       228.00483579, 213.60578154, 232.33811377, 210.26045322,\n",
              "       268.14563264, 280.0493984 , 216.43747621, 212.09127425,\n",
              "       257.8242125 , 245.51200653, 288.44494568, 244.95064336,\n",
              "       222.11145863, 211.75967713, 274.05796598, 263.65734602,\n",
              "       212.23414724, 292.75078762, 276.84983693, 293.7916081 ,\n",
              "       245.33586872, 252.09227813, 260.13318404, 251.5367018 ])"
            ]
          },
          "metadata": {},
          "execution_count": 36
        }
      ]
    },
    {
      "cell_type": "code",
      "source": [
        "resp=[]\n",
        "for i in x:\n",
        "  if (i>=200) and (i<=300):\n",
        "    resp.append(i)\n",
        "resp"
      ],
      "metadata": {
        "colab": {
          "base_uri": "https://localhost:8080/"
        },
        "id": "TtucV5i_0LHu",
        "outputId": "01742166-8af7-4739-d763-624e5ab1be14"
      },
      "execution_count": 38,
      "outputs": [
        {
          "output_type": "execute_result",
          "data": {
            "text/plain": [
              "[265.75475270592153,\n",
              " 221.84213807332188,\n",
              " 227.96023718706599,\n",
              " 277.91593632808446,\n",
              " 238.40153428289872,\n",
              " 269.8083834211624,\n",
              " 224.19564187619955,\n",
              " 255.7790152716241,\n",
              " 211.86323556550357,\n",
              " 292.2943992445856,\n",
              " 276.4034097906019,\n",
              " 274.6231879407368,\n",
              " 291.7658868326638,\n",
              " 206.79825448641014,\n",
              " 230.70804672495865,\n",
              " 265.77980038381446,\n",
              " 228.00483579146692,\n",
              " 213.60578154130633,\n",
              " 232.33811376961688,\n",
              " 210.26045322027682,\n",
              " 268.14563264166895,\n",
              " 280.04939840397924,\n",
              " 216.43747621463277,\n",
              " 212.09127424946328,\n",
              " 257.8242125043691,\n",
              " 245.51200653271675,\n",
              " 288.44494567733386,\n",
              " 244.95064336104932,\n",
              " 222.1114586335013,\n",
              " 211.75967713427417,\n",
              " 274.05796598083026,\n",
              " 263.6573460160209,\n",
              " 212.2341472425287,\n",
              " 292.75078762166794,\n",
              " 276.84983692713473,\n",
              " 293.79160810371553,\n",
              " 245.3358687232669,\n",
              " 252.09227813040945,\n",
              " 260.133184044644,\n",
              " 251.53670179575656]"
            ]
          },
          "metadata": {},
          "execution_count": 38
        }
      ]
    },
    {
      "cell_type": "markdown",
      "source": [
        "INSERTAR GRAFICAS"
      ],
      "metadata": {
        "id": "RykTQ4CY3gqL"
      }
    },
    {
      "cell_type": "code",
      "source": [
        "from matplotlib import pyplot"
      ],
      "metadata": {
        "id": "7EpFNkYI086y"
      },
      "execution_count": 39,
      "outputs": []
    },
    {
      "cell_type": "code",
      "source": [
        "x=numpy.linspace(0,4*numpy.pi,1000)\n",
        "y=numpy.sin(x)"
      ],
      "metadata": {
        "id": "5imPpPxo1qOB"
      },
      "execution_count": 50,
      "outputs": []
    },
    {
      "cell_type": "code",
      "source": [
        "pyplot.figure()\n",
        "y[(y<0.5) & (y>-0.5)]=0\n",
        "pyplot.plot(x,y)\n",
        "pyplot.show()"
      ],
      "metadata": {
        "colab": {
          "base_uri": "https://localhost:8080/",
          "height": 265
        },
        "id": "h-zAQgeq1h9R",
        "outputId": "d8a3ebf4-6ee6-4bea-d1ce-9a57b28307b2"
      },
      "execution_count": 52,
      "outputs": [
        {
          "output_type": "display_data",
          "data": {
            "text/plain": [
              "<Figure size 432x288 with 1 Axes>"
            ],
            "image/png": "[encoded data removed]"
          },
          "metadata": {
            "needs_background": "light"
          }
        }
      ]
    },
    {
      "cell_type": "markdown",
      "source": [
        "COMPROBAR QUE sin(x+pi/2)=cos(x)"
      ],
      "metadata": {
        "id": "8VEp4aDW3lWT"
      }
    },
    {
      "cell_type": "code",
      "source": [
        "x=numpy.linspace(-2*numpy.pi,2*numpy.pi,500)"
      ],
      "metadata": {
        "id": "9McNzq5I3-hC"
      },
      "execution_count": 53,
      "outputs": []
    },
    {
      "cell_type": "code",
      "source": [
        "y1=numpy.sin(x+numpy.pi*0.5)\n",
        "y2=numpy.cos(x)"
      ],
      "metadata": {
        "id": "6Wq1jd0V4e1j"
      },
      "execution_count": 55,
      "outputs": []
    },
    {
      "cell_type": "markdown",
      "source": [
        "METODO GRAFICO"
      ],
      "metadata": {
        "id": "z0nCBXwP4u5G"
      }
    },
    {
      "cell_type": "code",
      "source": [
        "pyplot.figure() #crear el lienzo \n",
        "pyplot.plot(x,y1,\"-r\") #graficas..\n",
        "pyplot.plot(x,y2,\"--g\")\n",
        "pyplot.show() #mostrar la grafica"
      ],
      "metadata": {
        "colab": {
          "base_uri": "https://localhost:8080/",
          "height": 265
        },
        "id": "rJnGozig4xWm",
        "outputId": "5aa840f3-5741-47ac-d22f-80b82290dc08"
      },
      "execution_count": 61,
      "outputs": [
        {
          "output_type": "display_data",
          "data": {
            "text/plain": [
              "<Figure size 432x288 with 1 Axes>"
            ],
            "image/png": "[encoded data removed]"
          },
          "metadata": {
            "needs_background": "light"
          }
        }
      ]
    },
    {
      "cell_type": "code",
      "source": [
        "y1.round(2)==y2.round(2) #round() el # de decimales con el que quiero trabajar "
      ],
      "metadata": {
        "colab": {
          "base_uri": "https://localhost:8080/"
        },
        "id": "BlPCv6_i6oKz",
        "outputId": "672d2652-c09e-48e1-9ce0-8c304cac8541"
      },
      "execution_count": 66,
      "outputs": [
        {
          "output_type": "execute_result",
          "data": {
            "text/plain": [
              "array([ True,  True,  True,  True,  True,  True,  True,  True,  True,\n",
              "        True,  True,  True,  True,  True,  True,  True,  True,  True,\n",
              "        True,  True,  True,  True,  True,  True,  True,  True,  True,\n",
              "        True,  True,  True,  True,  True,  True,  True,  True,  True,\n",
              "        True,  True,  True,  True,  True,  True,  True,  True,  True,\n",
              "        True,  True,  True,  True,  True,  True,  True,  True,  True,\n",
              "        True,  True,  True,  True,  True,  True,  True,  True,  True,\n",
              "        True,  True,  True,  True,  True,  True,  True,  True,  True,\n",
              "        True,  True,  True,  True,  True,  True,  True,  True,  True,\n",
              "        True,  True,  True,  True,  True,  True,  True,  True,  True,\n",
              "        True,  True,  True,  True,  True,  True,  True,  True,  True,\n",
              "        True,  True,  True,  True,  True,  True,  True,  True,  True,\n",
              "        True,  True,  True,  True,  True,  True,  True,  True,  True,\n",
              "        True,  True,  True,  True,  True,  True,  True,  True,  True,\n",
              "        True,  True,  True,  True,  True,  True,  True,  True,  True,\n",
              "        True,  True,  True,  True,  True,  True,  True,  True,  True,\n",
              "        True,  True,  True,  True,  True,  True,  True,  True,  True,\n",
              "        True,  True,  True,  True,  True,  True,  True,  True,  True,\n",
              "        True,  True,  True,  True,  True,  True,  True,  True,  True,\n",
              "        True,  True,  True,  True,  True,  True,  True,  True,  True,\n",
              "        True,  True,  True,  True,  True,  True,  True,  True,  True,\n",
              "        True,  True,  True,  True,  True,  True,  True,  True,  True,\n",
              "        True,  True,  True,  True,  True,  True,  True,  True,  True,\n",
              "        True,  True,  True,  True,  True,  True,  True,  True,  True,\n",
              "        True,  True,  True,  True,  True,  True,  True,  True,  True,\n",
              "        True,  True,  True,  True,  True,  True,  True,  True,  True,\n",
              "        True,  True,  True,  True,  True,  True,  True,  True,  True,\n",
              "        True,  True,  True,  True,  True,  True,  True,  True,  True,\n",
              "        True,  True,  True,  True,  True,  True,  True,  True,  True,\n",
              "        True,  True,  True,  True,  True,  True,  True,  True,  True,\n",
              "        True,  True,  True,  True,  True,  True,  True,  True,  True,\n",
              "        True,  True,  True,  True,  True,  True,  True,  True,  True,\n",
              "        True,  True,  True,  True,  True,  True,  True,  True,  True,\n",
              "        True,  True,  True,  True,  True,  True,  True,  True,  True,\n",
              "        True,  True,  True,  True,  True,  True,  True,  True,  True,\n",
              "        True,  True,  True,  True,  True,  True,  True,  True,  True,\n",
              "        True,  True,  True,  True,  True,  True,  True,  True,  True,\n",
              "        True,  True,  True,  True,  True,  True,  True,  True,  True,\n",
              "        True,  True,  True,  True,  True,  True,  True,  True,  True,\n",
              "        True,  True,  True,  True,  True,  True,  True,  True,  True,\n",
              "        True,  True,  True,  True,  True,  True,  True,  True,  True,\n",
              "        True,  True,  True,  True,  True,  True,  True,  True,  True,\n",
              "        True,  True,  True,  True,  True,  True,  True,  True,  True,\n",
              "        True,  True,  True,  True,  True,  True,  True,  True,  True,\n",
              "        True,  True,  True,  True,  True,  True,  True,  True,  True,\n",
              "        True,  True,  True,  True,  True,  True,  True,  True,  True,\n",
              "        True,  True,  True,  True,  True,  True,  True,  True,  True,\n",
              "        True,  True,  True,  True,  True,  True,  True,  True,  True,\n",
              "        True,  True,  True,  True,  True,  True,  True,  True,  True,\n",
              "        True,  True,  True,  True,  True,  True,  True,  True,  True,\n",
              "        True,  True,  True,  True,  True,  True,  True,  True,  True,\n",
              "        True,  True,  True,  True,  True,  True,  True,  True,  True,\n",
              "        True,  True,  True,  True,  True,  True,  True,  True,  True,\n",
              "        True,  True,  True,  True,  True,  True,  True,  True,  True,\n",
              "        True,  True,  True,  True,  True,  True,  True,  True,  True,\n",
              "        True,  True,  True,  True,  True])"
            ]
          },
          "metadata": {},
          "execution_count": 66
        }
      ]
    },
    {
      "cell_type": "code",
      "source": [
        "abs(y1-y2)<=1e-3"
      ],
      "metadata": {
        "colab": {
          "base_uri": "https://localhost:8080/"
        },
        "id": "z_8yDA8h5lGt",
        "outputId": "753a12f6-fb16-4962-e7da-9160949c902d"
      },
      "execution_count": 68,
      "outputs": [
        {
          "output_type": "execute_result",
          "data": {
            "text/plain": [
              "array([ True,  True,  True,  True,  True,  True,  True,  True,  True,\n",
              "        True,  True,  True,  True,  True,  True,  True,  True,  True,\n",
              "        True,  True,  True,  True,  True,  True,  True,  True,  True,\n",
              "        True,  True,  True,  True,  True,  True,  True,  True,  True,\n",
              "        True,  True,  True,  True,  True,  True,  True,  True,  True,\n",
              "        True,  True,  True,  True,  True,  True,  True,  True,  True,\n",
              "        True,  True,  True,  True,  True,  True,  True,  True,  True,\n",
              "        True,  True,  True,  True,  True,  True,  True,  True,  True,\n",
              "        True,  True,  True,  True,  True,  True,  True,  True,  True,\n",
              "        True,  True,  True,  True,  True,  True,  True,  True,  True,\n",
              "        True,  True,  True,  True,  True,  True,  True,  True,  True,\n",
              "        True,  True,  True,  True,  True,  True,  True,  True,  True,\n",
              "        True,  True,  True,  True,  True,  True,  True,  True,  True,\n",
              "        True,  True,  True,  True,  True,  True,  True,  True,  True,\n",
              "        True,  True,  True,  True,  True,  True,  True,  True,  True,\n",
              "        True,  True,  True,  True,  True,  True,  True,  True,  True,\n",
              "        True,  True,  True,  True,  True,  True,  True,  True,  True,\n",
              "        True,  True,  True,  True,  True,  True,  True,  True,  True,\n",
              "        True,  True,  True,  True,  True,  True,  True,  True,  True,\n",
              "        True,  True,  True,  True,  True,  True,  True,  True,  True,\n",
              "        True,  True,  True,  True,  True,  True,  True,  True,  True,\n",
              "        True,  True,  True,  True,  True,  True,  True,  True,  True,\n",
              "        True,  True,  True,  True,  True,  True,  True,  True,  True,\n",
              "        True,  True,  True,  True,  True,  True,  True,  True,  True,\n",
              "        True,  True,  True,  True,  True,  True,  True,  True,  True,\n",
              "        True,  True,  True,  True,  True,  True,  True,  True,  True,\n",
              "        True,  True,  True,  True,  True,  True,  True,  True,  True,\n",
              "        True,  True,  True,  True,  True,  True,  True,  True,  True,\n",
              "        True,  True,  True,  True,  True,  True,  True,  True,  True,\n",
              "        True,  True,  True,  True,  True,  True,  True,  True,  True,\n",
              "        True,  True,  True,  True,  True,  True,  True,  True,  True,\n",
              "        True,  True,  True,  True,  True,  True,  True,  True,  True,\n",
              "        True,  True,  True,  True,  True,  True,  True,  True,  True,\n",
              "        True,  True,  True,  True,  True,  True,  True,  True,  True,\n",
              "        True,  True,  True,  True,  True,  True,  True,  True,  True,\n",
              "        True,  True,  True,  True,  True,  True,  True,  True,  True,\n",
              "        True,  True,  True,  True,  True,  True,  True,  True,  True,\n",
              "        True,  True,  True,  True,  True,  True,  True,  True,  True,\n",
              "        True,  True,  True,  True,  True,  True,  True,  True,  True,\n",
              "        True,  True,  True,  True,  True,  True,  True,  True,  True,\n",
              "        True,  True,  True,  True,  True,  True,  True,  True,  True,\n",
              "        True,  True,  True,  True,  True,  True,  True,  True,  True,\n",
              "        True,  True,  True,  True,  True,  True,  True,  True,  True,\n",
              "        True,  True,  True,  True,  True,  True,  True,  True,  True,\n",
              "        True,  True,  True,  True,  True,  True,  True,  True,  True,\n",
              "        True,  True,  True,  True,  True,  True,  True,  True,  True,\n",
              "        True,  True,  True,  True,  True,  True,  True,  True,  True,\n",
              "        True,  True,  True,  True,  True,  True,  True,  True,  True,\n",
              "        True,  True,  True,  True,  True,  True,  True,  True,  True,\n",
              "        True,  True,  True,  True,  True,  True,  True,  True,  True,\n",
              "        True,  True,  True,  True,  True,  True,  True,  True,  True,\n",
              "        True,  True,  True,  True,  True,  True,  True,  True,  True,\n",
              "        True,  True,  True,  True,  True,  True,  True,  True,  True,\n",
              "        True,  True,  True,  True,  True,  True,  True,  True,  True,\n",
              "        True,  True,  True,  True,  True,  True,  True,  True,  True,\n",
              "        True,  True,  True,  True,  True])"
            ]
          },
          "metadata": {},
          "execution_count": 68
        }
      ]
    },
    {
      "cell_type": "markdown",
      "source": [
        "METODO NUMPY"
      ],
      "metadata": {
        "id": "oIHsqyWn7vNV"
      }
    },
    {
      "cell_type": "code",
      "source": [
        "numpy.allclose(y1,y2,1e-3) #¿el primer arreglo es igual al segundo con una tolerancia establecida?"
      ],
      "metadata": {
        "colab": {
          "base_uri": "https://localhost:8080/"
        },
        "id": "Vhz3snrG7utn",
        "outputId": "95033d0c-ed40-4181-88dc-325d01d34a7a"
      },
      "execution_count": 72,
      "outputs": [
        {
          "output_type": "execute_result",
          "data": {
            "text/plain": [
              "True"
            ]
          },
          "metadata": {},
          "execution_count": 72
        }
      ]
    },
    {
      "cell_type": "markdown",
      "source": [
        "DISTRIBUCION UNIFORME "
      ],
      "metadata": {
        "id": "Z-wAwO7f89Qv"
      }
    },
    {
      "cell_type": "code",
      "source": [
        "x=numpy.random.uniform(-1,1,1000)\n",
        "x.mean() #verifica si la media es cero"
      ],
      "metadata": {
        "id": "WbviVX-I9D-R"
      },
      "execution_count": null,
      "outputs": []
    },
    {
      "cell_type": "markdown",
      "source": [
        "VEREFICAR EL TCL (teorema central del limite)"
      ],
      "metadata": {
        "id": "FU6bfSOu9SUQ"
      }
    },
    {
      "cell_type": "code",
      "source": [
        "medias=[]\n",
        "numero_ensayos=10000\n",
        "for _ in range(numero_ensayos): #_ indicador vacio\n",
        "  d=numpy.random.uniform(-1,1,1000)\n",
        "  media=d.mean()\n",
        "  medias.append(media)"
      ],
      "metadata": {
        "id": "K4egI2XK9Ry2"
      },
      "execution_count": 78,
      "outputs": []
    },
    {
      "cell_type": "code",
      "source": [
        "pyplot.figure()\n",
        "pyplot.hist(medias,50) #numero de interbalos \n",
        "pyplot.show"
      ],
      "metadata": {
        "colab": {
          "base_uri": "https://localhost:8080/",
          "height": 282
        },
        "id": "o_3NlJ2T-YkU",
        "outputId": "2ec3a313-fa2d-49c2-bc9a-c0b0f0e2e8ea"
      },
      "execution_count": 79,
      "outputs": [
        {
          "output_type": "execute_result",
          "data": {
            "text/plain": [
              "<function matplotlib.pyplot.show>"
            ]
          },
          "metadata": {},
          "execution_count": 79
        },
        {
          "output_type": "display_data",
          "data": {
            "text/plain": [
              "<Figure size 432x288 with 1 Axes>"
            ],
            "image/png": "[encoded data removed]"
          },
          "metadata": {
            "needs_background": "light"
          }
        }
      ]
    },
    {
      "cell_type": "markdown",
      "source": [
        "OPCION 2"
      ],
      "metadata": {
        "id": "desv0tDkFEx0"
      }
    },
    {
      "cell_type": "code",
      "source": [
        "d2=numpy.random.uniform(-1,1,size(numero_ensayos,1000))"
      ],
      "metadata": {
        "colab": {
          "base_uri": "https://localhost:8080/",
          "height": 165
        },
        "id": "y77xFkA0FHGo",
        "outputId": "45ba2588-89cd-44be-b9e2-ca0580dcfe74"
      },
      "execution_count": 80,
      "outputs": [
        {
          "output_type": "error",
          "ename": "NameError",
          "evalue": "ignored",
          "traceback": [
            "\u001b[0;31m---------------------------------------------------------------------------\u001b[0m",
            "\u001b[0;31mNameError\u001b[0m                                 Traceback (most recent call last)",
            "\u001b[0;32m<ipython-input-80-35b456f06880>\u001b[0m in \u001b[0;36m<module>\u001b[0;34m()\u001b[0m\n\u001b[0;32m----> 1\u001b[0;31m \u001b[0md2\u001b[0m\u001b[0;34m=\u001b[0m\u001b[0mnumpy\u001b[0m\u001b[0;34m.\u001b[0m\u001b[0mrandom\u001b[0m\u001b[0;34m.\u001b[0m\u001b[0muniform\u001b[0m\u001b[0;34m(\u001b[0m\u001b[0;34m-\u001b[0m\u001b[0;36m1\u001b[0m\u001b[0;34m,\u001b[0m\u001b[0;36m1\u001b[0m\u001b[0;34m,\u001b[0m\u001b[0msize\u001b[0m\u001b[0;34m(\u001b[0m\u001b[0mnumero_ensayos\u001b[0m\u001b[0;34m,\u001b[0m\u001b[0;36m1000\u001b[0m\u001b[0;34m)\u001b[0m\u001b[0;34m)\u001b[0m\u001b[0;34m\u001b[0m\u001b[0;34m\u001b[0m\u001b[0m\n\u001b[0m",
            "\u001b[0;31mNameError\u001b[0m: name 'size' is not defined"
          ]
        }
      ]
    },
    {
      "cell_type": "markdown",
      "source": [
        "MATPLOTLIB: libreria de graficacion"
      ],
      "metadata": {
        "id": "fp6k1Q-ZJicx"
      }
    },
    {
      "cell_type": "code",
      "source": [
        "from matplotlib import pyplot as plt"
      ],
      "metadata": {
        "id": "KhObMLuWMPg2"
      },
      "execution_count": 82,
      "outputs": []
    },
    {
      "cell_type": "markdown",
      "source": [
        "COMO SE CREA Un GRAFICO EN MATPLOTLIB:\n",
        "\n",
        "*   Crear el lienzo\n",
        "*   Definir la graficas que van a parecer en un mismo lienzo\n",
        "*   (opcional) Darle caracteristicas personalizadas   \n",
        "*   Visualizar\n",
        "\n",
        "\n"
      ],
      "metadata": {
        "id": "G4qXUsfQMwDR"
      }
    },
    {
      "cell_type": "code",
      "source": [
        "import numpy as np"
      ],
      "metadata": {
        "id": "CjI-jr_KNXiT"
      },
      "execution_count": 83,
      "outputs": []
    },
    {
      "cell_type": "code",
      "source": [
        "x=np.arange(1,10+1)\n",
        "y=x**2"
      ],
      "metadata": {
        "id": "dgdSLCo-NdT-"
      },
      "execution_count": 85,
      "outputs": []
    },
    {
      "cell_type": "code",
      "source": [
        "#crear el lienzo \n",
        "plt.figure()\n",
        "#definir los graficos\n",
        "plt.plot(x,y)\n",
        "#caracteristicas adicionales \n",
        "\n",
        "#visualizar\n",
        "plt.show()"
      ],
      "metadata": {
        "colab": {
          "base_uri": "https://localhost:8080/",
          "height": 265
        },
        "id": "7WOjPi10NlD6",
        "outputId": "115ddaba-1761-441f-d792-ada26f344ed9"
      },
      "execution_count": 87,
      "outputs": [
        {
          "output_type": "display_data",
          "data": {
            "text/plain": [
              "<Figure size 432x288 with 1 Axes>"
            ],
            "image/png": "[encoded data removed]"
          },
          "metadata": {
            "needs_background": "light"
          }
        }
      ]
    },
    {
      "cell_type": "markdown",
      "source": [
        "DOS GRAFICAS"
      ],
      "metadata": {
        "id": "Vmd2d8ggPB5n"
      }
    },
    {
      "cell_type": "code",
      "source": [
        "y1=25*np.exp(-x**2)\n",
        "#crear el lienzo \n",
        "plt.figure()\n",
        "#definir los graficos\n",
        "plt.plot(x,y)\n",
        "plt.plot(x,y1)\n",
        "#caracteristicas adicionales \n",
        "\n",
        "#visualizar\n",
        "plt.show()"
      ],
      "metadata": {
        "colab": {
          "base_uri": "https://localhost:8080/",
          "height": 265
        },
        "id": "MLtg7i3ePD70",
        "outputId": "cf50a632-336e-4172-dfff-469af8c6e9b5"
      },
      "execution_count": 90,
      "outputs": [
        {
          "output_type": "display_data",
          "data": {
            "text/plain": [
              "<Figure size 432x288 with 1 Axes>"
            ],
            "image/png": "[encoded data removed]"
          },
          "metadata": {
            "needs_background": "light"
          }
        }
      ]
    },
    {
      "cell_type": "markdown",
      "source": [
        "CONFIGURACIONES MINIMAS "
      ],
      "metadata": {
        "id": "iuGLQnW9PQ63"
      }
    },
    {
      "cell_type": "code",
      "source": [
        "#crear el lienzo \n",
        "plt.figure()\n",
        "#definir los graficos\n",
        "plt.plot(x,y,label=\"$x^2$\",color=\"chartreuse\",alpha=0.5) #color=(R,G,B) #alpha(transparencia)\n",
        "plt.plot(x,y1,label=\"$25\\exp(x^2)$\",color=\"magenta\")\n",
        "#caracteristicas adicionales \n",
        "plt.grid()\n",
        "plt.legend(loc=\"best\")\n",
        "#nombres de los ejes\n",
        "plt.xlabel(\"x\",fontsize=20)\n",
        "plt.ylabel(\"y\",fontsize=20)\n",
        "#visualizar\n",
        "plt.show()"
      ],
      "metadata": {
        "colab": {
          "base_uri": "https://localhost:8080/",
          "height": 288
        },
        "id": "mHC-LhrrPg6q",
        "outputId": "4a330c11-79e7-479a-a5fa-78e265d44f9f"
      },
      "execution_count": 100,
      "outputs": [
        {
          "output_type": "display_data",
          "data": {
            "text/plain": [
              "<Figure size 432x288 with 1 Axes>"
            ],
            "image/png": "[encoded data removed]"
          },
          "metadata": {
            "needs_background": "light"
          }
        }
      ]
    },
    {
      "cell_type": "markdown",
      "source": [
        "MARCADORES "
      ],
      "metadata": {
        "id": "Bp20hyRGSGst"
      }
    },
    {
      "cell_type": "code",
      "source": [
        "#crear el lienzo \n",
        "plt.figure()\n",
        "#definir los graficos\n",
        "plt.plot(x,y,\"-\",label=\"$x^2$\",color=\"chartreuse\",alpha=0.5) #\"--\"(marcador)\"--b\"(marcador color)\n",
        "plt.plot(x,y1,marker=\"$x$\",label=\"$25\\exp(x^2)$\",color=\"magenta\") #$latex$ maracador en latex\n",
        "#caracteristicas adicionales \n",
        "plt.grid()\n",
        "plt.legend(loc=\"best\")\n",
        "#nombres de los ejes\n",
        "plt.xlabel(\"x\",fontsize=20)\n",
        "plt.ylabel(\"y\",fontsize=20)\n",
        "#visualizar\n",
        "plt.show()"
      ],
      "metadata": {
        "colab": {
          "base_uri": "https://localhost:8080/",
          "height": 288
        },
        "id": "1w15t8weSNiU",
        "outputId": "cca8930b-8d02-4788-99aa-bc7108dbf2c7"
      },
      "execution_count": 105,
      "outputs": [
        {
          "output_type": "display_data",
          "data": {
            "text/plain": [
              "<Figure size 432x288 with 1 Axes>"
            ],
            "image/png": "[encoded data removed]"
          },
          "metadata": {
            "needs_background": "light"
          }
        }
      ]
    }
  ]
}