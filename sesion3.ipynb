{
  "nbformat": 4,
  "nbformat_minor": 0,
  "metadata": {
    "colab": {
      "name": "Untitled0.ipynb",
      "provenance": [],
      "collapsed_sections": [],
      "authorship_tag": "ABX9TyNEo73XTqvh9NthCJCFz9jJ",
      "include_colab_link": true
    },
    "kernelspec": {
      "name": "python3",
      "display_name": "Python 3"
    },
    "language_info": {
      "name": "python"
    }
  },
  "cells": [
    {
      "cell_type": "markdown",
      "metadata": {
        "id": "view-in-github",
        "colab_type": "text"
      },
      "source": [
        "<a href=\"https://colab.research.google.com/github/johnjar99/curso_python-/blob/main/sesion3.ipynb\" target=\"_parent\"><img src=\"https://colab.research.google.com/assets/colab-badge.svg\" alt=\"Open In Colab\"/></a>"
      ]
    },
    {
      "cell_type": "code",
      "source": [
        "divmod(13,5)"
      ],
      "metadata": {
        "colab": {
          "base_uri": "https://localhost:8080/"
        },
        "id": "qs2OlycY-fp_",
        "outputId": "f9498b6f-e898-42ac-df98-ec3fa6197459"
      },
      "execution_count": null,
      "outputs": [
        {
          "output_type": "execute_result",
          "data": {
            "text/plain": [
              "(2, 3)"
            ]
          },
          "metadata": {},
          "execution_count": 5
        }
      ]
    },
    {
      "cell_type": "code",
      "source": [
        "entero,residuo=divmod(13,5)\n",
        "print(entero,residuo)"
      ],
      "metadata": {
        "colab": {
          "base_uri": "https://localhost:8080/"
        },
        "id": "wf48C0-w-_Dj",
        "outputId": "4b446741-756b-4a6c-853c-0623ce9a2c19"
      },
      "execution_count": null,
      "outputs": [
        {
          "output_type": "stream",
          "name": "stdout",
          "text": [
            "2 3\n"
          ]
        }
      ]
    },
    {
      "cell_type": "code",
      "source": [
        "entero+9"
      ],
      "metadata": {
        "colab": {
          "base_uri": "https://localhost:8080/"
        },
        "id": "D7tp1XncAGgc",
        "outputId": "377a46f1-e9b2-4b91-f8bd-8fb64dff1d51"
      },
      "execution_count": null,
      "outputs": [
        {
          "output_type": "execute_result",
          "data": {
            "text/plain": [
              "11"
            ]
          },
          "metadata": {},
          "execution_count": 10
        }
      ]
    },
    {
      "cell_type": "code",
      "source": [
        "0 or 0"
      ],
      "metadata": {
        "colab": {
          "base_uri": "https://localhost:8080/"
        },
        "id": "lNwG2FcEAXua",
        "outputId": "53868e2d-9922-4aa7-ace6-1f19fa5081aa"
      },
      "execution_count": null,
      "outputs": [
        {
          "output_type": "execute_result",
          "data": {
            "text/plain": [
              "0"
            ]
          },
          "metadata": {},
          "execution_count": 13
        }
      ]
    },
    {
      "cell_type": "code",
      "source": [
        "[] and 15"
      ],
      "metadata": {
        "colab": {
          "base_uri": "https://localhost:8080/"
        },
        "id": "ok27yVtlA1Bl",
        "outputId": "1aafdf3f-a69e-4df6-95af-706e26546456"
      },
      "execution_count": null,
      "outputs": [
        {
          "output_type": "execute_result",
          "data": {
            "text/plain": [
              "[]"
            ]
          },
          "metadata": {},
          "execution_count": 15
        }
      ]
    },
    {
      "cell_type": "code",
      "source": [
        "45 and 15"
      ],
      "metadata": {
        "colab": {
          "base_uri": "https://localhost:8080/"
        },
        "id": "BsVpRFmIBPGQ",
        "outputId": "79906eab-deb7-436e-8224-5285184e0d27"
      },
      "execution_count": null,
      "outputs": [
        {
          "output_type": "execute_result",
          "data": {
            "text/plain": [
              "15"
            ]
          },
          "metadata": {},
          "execution_count": 16
        }
      ]
    },
    {
      "cell_type": "code",
      "source": [
        "not 1"
      ],
      "metadata": {
        "colab": {
          "base_uri": "https://localhost:8080/"
        },
        "id": "a51uvk0WBT_m",
        "outputId": "2a207e0d-0a7a-4dd5-c4ae-c780d2417a76"
      },
      "execution_count": null,
      "outputs": [
        {
          "output_type": "execute_result",
          "data": {
            "text/plain": [
              "False"
            ]
          },
          "metadata": {},
          "execution_count": 17
        }
      ]
    },
    {
      "cell_type": "code",
      "source": [
        "5>4 and 3<5 or 4>1"
      ],
      "metadata": {
        "colab": {
          "base_uri": "https://localhost:8080/"
        },
        "id": "kNf26Ni-BdWP",
        "outputId": "1a9f4d9e-f363-4cb4-bcbd-2703a08c9097"
      },
      "execution_count": null,
      "outputs": [
        {
          "output_type": "execute_result",
          "data": {
            "text/plain": [
              "True"
            ]
          },
          "metadata": {},
          "execution_count": 18
        }
      ]
    },
    {
      "cell_type": "code",
      "source": [
        "a=12 #base de datos \n",
        "b=a #copia de respaldo \n",
        "c=12"
      ],
      "metadata": {
        "id": "bXD0uPJWEVcs"
      },
      "execution_count": null,
      "outputs": []
    },
    {
      "cell_type": "code",
      "source": [
        "print(id(a),id(b),id(c),a==c)"
      ],
      "metadata": {
        "colab": {
          "base_uri": "https://localhost:8080/"
        },
        "id": "I2IN734nEhKx",
        "outputId": "a360f6eb-0768-4b14-a28c-8770c8efad0c"
      },
      "execution_count": null,
      "outputs": [
        {
          "output_type": "stream",
          "name": "stdout",
          "text": [
            "11256416 11256416 11256416 True\n"
          ]
        }
      ]
    },
    {
      "cell_type": "code",
      "source": [
        "b=17"
      ],
      "metadata": {
        "id": "xYAweOVIEv7s"
      },
      "execution_count": null,
      "outputs": []
    },
    {
      "cell_type": "code",
      "source": [
        "a"
      ],
      "metadata": {
        "colab": {
          "base_uri": "https://localhost:8080/"
        },
        "id": "UAaU6NrMEyeV",
        "outputId": "b211976b-6d7e-4f4f-be10-48bfdba0af92"
      },
      "execution_count": null,
      "outputs": [
        {
          "output_type": "execute_result",
          "data": {
            "text/plain": [
              "12"
            ]
          },
          "metadata": {},
          "execution_count": 22
        }
      ]
    },
    {
      "cell_type": "code",
      "source": [
        "a is b\n",
        "a is c"
      ],
      "metadata": {
        "colab": {
          "base_uri": "https://localhost:8080/"
        },
        "id": "A7ELJt0-E8YU",
        "outputId": "559ff82f-c7e6-4de5-a82f-e5a59412a019"
      },
      "execution_count": null,
      "outputs": [
        {
          "output_type": "execute_result",
          "data": {
            "text/plain": [
              "True"
            ]
          },
          "metadata": {},
          "execution_count": 25
        }
      ]
    },
    {
      "cell_type": "code",
      "source": [
        "nombre=\"john\""
      ],
      "metadata": {
        "id": "ABnNzsHLFKvJ"
      },
      "execution_count": null,
      "outputs": []
    },
    {
      "cell_type": "code",
      "source": [
        "nombre[0]"
      ],
      "metadata": {
        "colab": {
          "base_uri": "https://localhost:8080/",
          "height": 35
        },
        "id": "gzjfPv0XFwf4",
        "outputId": "61f2548b-7c07-40cc-ea38-f0d3daad81b9"
      },
      "execution_count": null,
      "outputs": [
        {
          "output_type": "execute_result",
          "data": {
            "text/plain": [
              "'j'"
            ],
            "application/vnd.google.colaboratory.intrinsic+json": {
              "type": "string"
            }
          },
          "metadata": {},
          "execution_count": 37
        }
      ]
    },
    {
      "cell_type": "code",
      "source": [
        "print( nombre[0], nombre[-1])"
      ],
      "metadata": {
        "colab": {
          "base_uri": "https://localhost:8080/"
        },
        "id": "Lg615emNGMID",
        "outputId": "8e58f083-b0ca-4fab-a33f-d6d6a3fbffff"
      },
      "execution_count": null,
      "outputs": [
        {
          "output_type": "stream",
          "name": "stdout",
          "text": [
            "j n\n"
          ]
        }
      ]
    },
    {
      "cell_type": "markdown",
      "source": [
        "STRING (CADENA) INMUTABLES\n"
      ],
      "metadata": {
        "id": "yKfisSz1Hmls"
      }
    },
    {
      "cell_type": "code",
      "source": [
        "nuevo_nombre=nombre.capitalize()"
      ],
      "metadata": {
        "id": "8c1XVjJoHL_-"
      },
      "execution_count": null,
      "outputs": []
    },
    {
      "cell_type": "code",
      "source": [
        "nuevo_nombre"
      ],
      "metadata": {
        "colab": {
          "base_uri": "https://localhost:8080/",
          "height": 35
        },
        "id": "bnVRLHfMIhAV",
        "outputId": "c26f13f8-4139-4798-a41a-64253e3d0743"
      },
      "execution_count": null,
      "outputs": [
        {
          "output_type": "execute_result",
          "data": {
            "text/plain": [
              "'John'"
            ],
            "application/vnd.google.colaboratory.intrinsic+json": {
              "type": "string"
            }
          },
          "metadata": {},
          "execution_count": 42
        }
      ]
    },
    {
      "cell_type": "code",
      "source": [
        "dir(nombre)"
      ],
      "metadata": {
        "colab": {
          "base_uri": "https://localhost:8080/"
        },
        "id": "eRuJBTi8IrXP",
        "outputId": "22c72bce-9846-400d-cbc2-b87fb12a3777"
      },
      "execution_count": null,
      "outputs": [
        {
          "output_type": "execute_result",
          "data": {
            "text/plain": [
              "['__add__',\n",
              " '__class__',\n",
              " '__contains__',\n",
              " '__delattr__',\n",
              " '__dir__',\n",
              " '__doc__',\n",
              " '__eq__',\n",
              " '__format__',\n",
              " '__ge__',\n",
              " '__getattribute__',\n",
              " '__getitem__',\n",
              " '__getnewargs__',\n",
              " '__gt__',\n",
              " '__hash__',\n",
              " '__init__',\n",
              " '__init_subclass__',\n",
              " '__iter__',\n",
              " '__le__',\n",
              " '__len__',\n",
              " '__lt__',\n",
              " '__mod__',\n",
              " '__mul__',\n",
              " '__ne__',\n",
              " '__new__',\n",
              " '__reduce__',\n",
              " '__reduce_ex__',\n",
              " '__repr__',\n",
              " '__rmod__',\n",
              " '__rmul__',\n",
              " '__setattr__',\n",
              " '__sizeof__',\n",
              " '__str__',\n",
              " '__subclasshook__',\n",
              " 'capitalize',\n",
              " 'casefold',\n",
              " 'center',\n",
              " 'count',\n",
              " 'encode',\n",
              " 'endswith',\n",
              " 'expandtabs',\n",
              " 'find',\n",
              " 'format',\n",
              " 'format_map',\n",
              " 'index',\n",
              " 'isalnum',\n",
              " 'isalpha',\n",
              " 'isascii',\n",
              " 'isdecimal',\n",
              " 'isdigit',\n",
              " 'isidentifier',\n",
              " 'islower',\n",
              " 'isnumeric',\n",
              " 'isprintable',\n",
              " 'isspace',\n",
              " 'istitle',\n",
              " 'isupper',\n",
              " 'join',\n",
              " 'ljust',\n",
              " 'lower',\n",
              " 'lstrip',\n",
              " 'maketrans',\n",
              " 'partition',\n",
              " 'replace',\n",
              " 'rfind',\n",
              " 'rindex',\n",
              " 'rjust',\n",
              " 'rpartition',\n",
              " 'rsplit',\n",
              " 'rstrip',\n",
              " 'split',\n",
              " 'splitlines',\n",
              " 'startswith',\n",
              " 'strip',\n",
              " 'swapcase',\n",
              " 'title',\n",
              " 'translate',\n",
              " 'upper',\n",
              " 'zfill']"
            ]
          },
          "metadata": {},
          "execution_count": 43
        }
      ]
    },
    {
      "cell_type": "code",
      "source": [
        "nombre.zfill?"
      ],
      "metadata": {
        "id": "B16DwNKuI6cx"
      },
      "execution_count": null,
      "outputs": []
    },
    {
      "cell_type": "code",
      "source": [
        "nombre.zfill(1)"
      ],
      "metadata": {
        "colab": {
          "base_uri": "https://localhost:8080/",
          "height": 35
        },
        "id": "o08GBtIoJFKL",
        "outputId": "8c7961f1-b60b-4ec6-aa50-2c9a36770716"
      },
      "execution_count": null,
      "outputs": [
        {
          "output_type": "execute_result",
          "data": {
            "text/plain": [
              "'john'"
            ],
            "application/vnd.google.colaboratory.intrinsic+json": {
              "type": "string"
            }
          },
          "metadata": {},
          "execution_count": 47
        }
      ]
    },
    {
      "cell_type": "code",
      "source": [
        "cadena=\"abcdefg\"\n",
        "cadena.index(\"a\")"
      ],
      "metadata": {
        "colab": {
          "base_uri": "https://localhost:8080/"
        },
        "id": "ROj8k8VwJEjp",
        "outputId": "61754f01-dc49-4aff-93b4-6f1dc21ecbc8"
      },
      "execution_count": null,
      "outputs": [
        {
          "output_type": "execute_result",
          "data": {
            "text/plain": [
              "0"
            ]
          },
          "metadata": {},
          "execution_count": 48
        }
      ]
    },
    {
      "cell_type": "code",
      "source": [
        "cadena.find(\"h\")"
      ],
      "metadata": {
        "colab": {
          "base_uri": "https://localhost:8080/"
        },
        "id": "uRVRryuTKEL1",
        "outputId": "f1cae350-8034-4ad6-c1dc-c930bfe81648"
      },
      "execution_count": null,
      "outputs": [
        {
          "output_type": "execute_result",
          "data": {
            "text/plain": [
              "-1"
            ]
          },
          "metadata": {},
          "execution_count": 49
        }
      ]
    },
    {
      "cell_type": "code",
      "source": [
        "lista=list(cadena)\n",
        "lista[0]=\"J\"\n",
        "lista"
      ],
      "metadata": {
        "colab": {
          "base_uri": "https://localhost:8080/"
        },
        "id": "xOHqhhZbKZFf",
        "outputId": "e221d08c-49ba-4235-eda2-0d68a1c0d96c"
      },
      "execution_count": null,
      "outputs": [
        {
          "output_type": "execute_result",
          "data": {
            "text/plain": [
              "['J', 'b', 'c', 'd', 'e', 'f', 'g']"
            ]
          },
          "metadata": {},
          "execution_count": 53
        }
      ]
    },
    {
      "cell_type": "code",
      "source": [
        "cadena1=\"\".join(lista)\n",
        "cadena1"
      ],
      "metadata": {
        "colab": {
          "base_uri": "https://localhost:8080/",
          "height": 35
        },
        "id": "yVy5k1aIKxe-",
        "outputId": "5d6fe718-bcd4-4c33-ab1a-41509a361382"
      },
      "execution_count": null,
      "outputs": [
        {
          "output_type": "execute_result",
          "data": {
            "text/plain": [
              "'Jbcdefg'"
            ],
            "application/vnd.google.colaboratory.intrinsic+json": {
              "type": "string"
            }
          },
          "metadata": {},
          "execution_count": 55
        }
      ]
    },
    {
      "cell_type": "markdown",
      "source": [
        "CONTENEDORES"
      ],
      "metadata": {
        "id": "l3Q7JyIv5Z5W"
      }
    },
    {
      "cell_type": "code",
      "source": [
        "l=[1,2,3,4,5,6]\n",
        "l"
      ],
      "metadata": {
        "colab": {
          "base_uri": "https://localhost:8080/"
        },
        "id": "7T23VYP5115d",
        "outputId": "21cbba42-e93e-4939-eb89-41282a8940bb"
      },
      "execution_count": null,
      "outputs": [
        {
          "output_type": "execute_result",
          "data": {
            "text/plain": [
              "[1, 2, 3, 4, 5, 6]"
            ]
          },
          "metadata": {},
          "execution_count": 32
        }
      ]
    },
    {
      "cell_type": "code",
      "source": [
        "l.reverse()\n"
      ],
      "metadata": {
        "colab": {
          "base_uri": "https://localhost:8080/"
        },
        "id": "Bc8hxKBn19jJ",
        "outputId": "d54321b9-345a-4500-c463-9a0f03a7e394"
      },
      "execution_count": null,
      "outputs": [
        {
          "output_type": "execute_result",
          "data": {
            "text/plain": [
              "[6, 5, 4, 3, 2, 1]"
            ]
          },
          "metadata": {},
          "execution_count": 6
        }
      ]
    },
    {
      "cell_type": "code",
      "source": [
        "l.pop(5)\n",
        "l"
      ],
      "metadata": {
        "colab": {
          "base_uri": "https://localhost:8080/"
        },
        "id": "k9DFSn3g2KRa",
        "outputId": "24ca6d1d-23dc-4b44-d464-6897461c72df"
      },
      "execution_count": null,
      "outputs": [
        {
          "output_type": "execute_result",
          "data": {
            "text/plain": [
              "[1, 2, 3, 4, 5]"
            ]
          },
          "metadata": {},
          "execution_count": 31
        }
      ]
    },
    {
      "cell_type": "code",
      "source": [
        "l.extend(l)\n",
        "l"
      ],
      "metadata": {
        "colab": {
          "base_uri": "https://localhost:8080/"
        },
        "id": "hY9MH60D2Y_A",
        "outputId": "b35328c4-909f-464e-d2aa-16b71b3e347f"
      },
      "execution_count": null,
      "outputs": [
        {
          "output_type": "execute_result",
          "data": {
            "text/plain": [
              "[1, 2, 3, 4, 5, 6, 1, 2, 3, 4, 5, 6]"
            ]
          },
          "metadata": {},
          "execution_count": 28
        }
      ]
    },
    {
      "cell_type": "code",
      "source": [
        "l.append([77])\n",
        "l"
      ],
      "metadata": {
        "colab": {
          "base_uri": "https://localhost:8080/"
        },
        "id": "YXydqWA73VTG",
        "outputId": "30003926-9397-4709-c620-8220a76e8ecd"
      },
      "execution_count": null,
      "outputs": [
        {
          "output_type": "execute_result",
          "data": {
            "text/plain": [
              "[1, 2, 3, 4, 5, 6, 77, [77]]"
            ]
          },
          "metadata": {},
          "execution_count": 35
        }
      ]
    },
    {
      "cell_type": "code",
      "source": [
        "l[-1]"
      ],
      "metadata": {
        "colab": {
          "base_uri": "https://localhost:8080/"
        },
        "id": "IB2To8jm40vx",
        "outputId": "d8e2bd4f-017b-4817-e91c-c79ff9004304"
      },
      "execution_count": null,
      "outputs": [
        {
          "output_type": "execute_result",
          "data": {
            "text/plain": [
              "[77]"
            ]
          },
          "metadata": {},
          "execution_count": 36
        }
      ]
    },
    {
      "cell_type": "code",
      "source": [
        "l[-1][0]"
      ],
      "metadata": {
        "colab": {
          "base_uri": "https://localhost:8080/"
        },
        "id": "E7lCtDrJ5DHD",
        "outputId": "179250a6-f376-42ac-ca6e-51d3f1535b46"
      },
      "execution_count": null,
      "outputs": [
        {
          "output_type": "execute_result",
          "data": {
            "text/plain": [
              "77"
            ]
          },
          "metadata": {},
          "execution_count": 37
        }
      ]
    },
    {
      "cell_type": "code",
      "source": [
        "l[-1][0]+2"
      ],
      "metadata": {
        "colab": {
          "base_uri": "https://localhost:8080/"
        },
        "id": "Vy-OhHQ25H_-",
        "outputId": "11232e1c-1c07-47b7-84ad-6037d524173a"
      },
      "execution_count": null,
      "outputs": [
        {
          "output_type": "execute_result",
          "data": {
            "text/plain": [
              "79"
            ]
          },
          "metadata": {},
          "execution_count": 38
        }
      ]
    },
    {
      "cell_type": "markdown",
      "source": [
        "TUPLAS\n"
      ],
      "metadata": {
        "id": "2MyR6v9d5Wnd"
      }
    },
    {
      "cell_type": "code",
      "source": [
        "j=(2,3)"
      ],
      "metadata": {
        "id": "opqlyd5A5cqF"
      },
      "execution_count": null,
      "outputs": []
    },
    {
      "cell_type": "code",
      "source": [
        "dir(j)"
      ],
      "metadata": {
        "colab": {
          "base_uri": "https://localhost:8080/"
        },
        "id": "esZinfJb5jNe",
        "outputId": "36d7cbbc-1ac2-42f7-c470-37ae7f3503fe"
      },
      "execution_count": null,
      "outputs": [
        {
          "output_type": "execute_result",
          "data": {
            "text/plain": [
              "['__add__',\n",
              " '__class__',\n",
              " '__contains__',\n",
              " '__delattr__',\n",
              " '__dir__',\n",
              " '__doc__',\n",
              " '__eq__',\n",
              " '__format__',\n",
              " '__ge__',\n",
              " '__getattribute__',\n",
              " '__getitem__',\n",
              " '__getnewargs__',\n",
              " '__gt__',\n",
              " '__hash__',\n",
              " '__init__',\n",
              " '__init_subclass__',\n",
              " '__iter__',\n",
              " '__le__',\n",
              " '__len__',\n",
              " '__lt__',\n",
              " '__mul__',\n",
              " '__ne__',\n",
              " '__new__',\n",
              " '__reduce__',\n",
              " '__reduce_ex__',\n",
              " '__repr__',\n",
              " '__rmul__',\n",
              " '__setattr__',\n",
              " '__sizeof__',\n",
              " '__str__',\n",
              " '__subclasshook__',\n",
              " 'count',\n",
              " 'index']"
            ]
          },
          "metadata": {},
          "execution_count": 41
        }
      ]
    },
    {
      "cell_type": "code",
      "source": [
        "y=(12,3,3,2,4,4,\"hola\",[2,3,3,],(2.3),(2,3))"
      ],
      "metadata": {
        "id": "g5rayxKJ58aO"
      },
      "execution_count": null,
      "outputs": []
    },
    {
      "cell_type": "code",
      "source": [
        "y.count(\"hola\")"
      ],
      "metadata": {
        "colab": {
          "base_uri": "https://localhost:8080/"
        },
        "id": "mUPwsAg46ikJ",
        "outputId": "80600b56-05a9-4551-9c38-24ebee4cda83"
      },
      "execution_count": null,
      "outputs": [
        {
          "output_type": "execute_result",
          "data": {
            "text/plain": [
              "1"
            ]
          },
          "metadata": {},
          "execution_count": 47
        }
      ]
    },
    {
      "cell_type": "code",
      "source": [
        "y.index(\"hola\")"
      ],
      "metadata": {
        "colab": {
          "base_uri": "https://localhost:8080/"
        },
        "id": "ydYOwHCN6olK",
        "outputId": "73846276-9c3d-4e56-84d7-6ac88e67f119"
      },
      "execution_count": null,
      "outputs": [
        {
          "output_type": "execute_result",
          "data": {
            "text/plain": [
              "6"
            ]
          },
          "metadata": {},
          "execution_count": 48
        }
      ]
    },
    {
      "cell_type": "markdown",
      "source": [
        "index con elementos repetidos "
      ],
      "metadata": {
        "id": "bGAn3aaF7CEQ"
      }
    },
    {
      "cell_type": "code",
      "source": [
        "y.index(\"hola\",0,11)"
      ],
      "metadata": {
        "colab": {
          "base_uri": "https://localhost:8080/"
        },
        "id": "YrrkHoXv7Huc",
        "outputId": "3aead63a-5b22-48af-9912-0e2230f3c75f"
      },
      "execution_count": null,
      "outputs": [
        {
          "output_type": "execute_result",
          "data": {
            "text/plain": [
              "6"
            ]
          },
          "metadata": {},
          "execution_count": 49
        }
      ]
    },
    {
      "cell_type": "code",
      "source": [
        "Y=list(y)\n",
        "Y"
      ],
      "metadata": {
        "colab": {
          "base_uri": "https://localhost:8080/"
        },
        "id": "HIH8nmJW7eoU",
        "outputId": "8e3c5371-62c8-48ad-e8d1-f264aff35840"
      },
      "execution_count": null,
      "outputs": [
        {
          "output_type": "execute_result",
          "data": {
            "text/plain": [
              "[12, 3, 3, 2, 4, 4, 'hola', [2, 3, 3], 2.3, (2, 3)]"
            ]
          },
          "metadata": {},
          "execution_count": 52
        }
      ]
    },
    {
      "cell_type": "markdown",
      "source": [
        "sort organiza listas con criterio comun"
      ],
      "metadata": {
        "id": "F0EqVmfo7qwS"
      }
    },
    {
      "cell_type": "code",
      "source": [
        "lista1=[1,2,3]\n",
        "lista2=lista1.copy()"
      ],
      "metadata": {
        "id": "a04I-XwZ8LpN"
      },
      "execution_count": null,
      "outputs": []
    },
    {
      "cell_type": "code",
      "source": [
        "print(id(lista1),id(lista2))"
      ],
      "metadata": {
        "colab": {
          "base_uri": "https://localhost:8080/"
        },
        "id": "Yx7bQiET8pJR",
        "outputId": "410e1548-bad9-409d-9c2d-45a3015ecc7f"
      },
      "execution_count": null,
      "outputs": [
        {
          "output_type": "stream",
          "name": "stdout",
          "text": [
            "139763784078272 139763783486432\n"
          ]
        }
      ]
    },
    {
      "cell_type": "code",
      "source": [
        "lista3=[1,2,3,[4,5],(6,7)]\n",
        "import copy\n",
        "lista4=copy.deepcopy(lista3)\n",
        "print(id(lista3),id(lista4))"
      ],
      "metadata": {
        "colab": {
          "base_uri": "https://localhost:8080/"
        },
        "id": "bAIYjp4t9ZYf",
        "outputId": "9a431ff5-c157-41d0-b401-15c25df2e08c"
      },
      "execution_count": null,
      "outputs": [
        {
          "output_type": "stream",
          "name": "stdout",
          "text": [
            "139763783284928 139763783088720\n"
          ]
        }
      ]
    },
    {
      "cell_type": "markdown",
      "source": [
        "CONDICIONAL"
      ],
      "metadata": {
        "id": "G6JFciYgBjmn"
      }
    },
    {
      "cell_type": "markdown",
      "source": [
        "IF"
      ],
      "metadata": {
        "id": "QBFF7TQCFynC"
      }
    },
    {
      "cell_type": "code",
      "source": [
        "edad=12\n",
        "if edad >=18:\n",
        "  print(\"Es mayor de edad\")\n",
        "else:\n",
        "  print(\"Es menor de edad\")"
      ],
      "metadata": {
        "colab": {
          "base_uri": "https://localhost:8080/"
        },
        "id": "PE4c6QqoBcao",
        "outputId": "46aad6ff-e1d5-4ada-83c3-933a49afe755"
      },
      "execution_count": null,
      "outputs": [
        {
          "output_type": "stream",
          "name": "stdout",
          "text": [
            "Es menor de edad\n"
          ]
        }
      ]
    },
    {
      "cell_type": "code",
      "source": [
        "calificacion=[]\n",
        "if calificacion: #verdadero\n",
        "  print(\"el estudiante existe\")\n",
        "else:\n",
        "  print(\"no existe\")  "
      ],
      "metadata": {
        "colab": {
          "base_uri": "https://localhost:8080/"
        },
        "id": "t0dx9QlYFyDl",
        "outputId": "294c3f3a-a5d4-4243-b5b6-5fbeb0b61eb3"
      },
      "execution_count": null,
      "outputs": [
        {
          "output_type": "stream",
          "name": "stdout",
          "text": [
            "no existe\n"
          ]
        }
      ]
    },
    {
      "cell_type": "code",
      "source": [
        "calificacion=5\n",
        "if calificacion >=0 and calificacion <1:\n",
        "  print(\"D\")\n",
        "elif  calificacion >=1 and calificacion <2:\n",
        "  print(\"I\")\n",
        "elif calificacion >=2 and calificacion <3:  \n",
        "  print(\"A\")\n",
        "elif calificacion >=3 and calificacion <4:  \n",
        "  print(\"S\")\n",
        "elif calificacion >=4 and calificacion <=5: \n",
        "  print(\"E\")\n",
        "else:\n",
        "  print(\"calificacion incorrecta\")   \n"
      ],
      "metadata": {
        "colab": {
          "base_uri": "https://localhost:8080/"
        },
        "id": "F0ebWmP6G2T_",
        "outputId": "e302d1c6-0645-42f1-a58e-c3fb17b603fc"
      },
      "execution_count": null,
      "outputs": [
        {
          "output_type": "stream",
          "name": "stdout",
          "text": [
            "E\n"
          ]
        }
      ]
    },
    {
      "cell_type": "markdown",
      "source": [
        "FOR"
      ],
      "metadata": {
        "id": "If1vgtDYKDOW"
      }
    },
    {
      "cell_type": "code",
      "source": [
        "lista4"
      ],
      "metadata": {
        "colab": {
          "base_uri": "https://localhost:8080/"
        },
        "id": "AzG5bV9FIZdA",
        "outputId": "076acd33-5e07-46f7-f25d-74bc730f0d6e"
      },
      "execution_count": null,
      "outputs": [
        {
          "output_type": "execute_result",
          "data": {
            "text/plain": [
              "[1, 2, 3, [4, 5], (6, 7)]"
            ]
          },
          "metadata": {},
          "execution_count": 70
        }
      ]
    },
    {
      "cell_type": "code",
      "source": [
        "for i in lista4:\n",
        "  print(i)"
      ],
      "metadata": {
        "colab": {
          "base_uri": "https://localhost:8080/"
        },
        "id": "d_960ed2K4X3",
        "outputId": "da0c0e0c-b503-4532-b301-4e6d043c447c"
      },
      "execution_count": null,
      "outputs": [
        {
          "output_type": "stream",
          "name": "stdout",
          "text": [
            "1\n",
            "2\n",
            "3\n",
            "[4, 5]\n",
            "(6, 7)\n"
          ]
        }
      ]
    },
    {
      "cell_type": "code",
      "source": [
        "list(enumerate(lista4))"
      ],
      "metadata": {
        "colab": {
          "base_uri": "https://localhost:8080/"
        },
        "id": "hCVo8Pf9LbzS",
        "outputId": "4dd4e4af-535f-4ab6-fecc-c26404a070a3"
      },
      "execution_count": null,
      "outputs": [
        {
          "output_type": "execute_result",
          "data": {
            "text/plain": [
              "[(0, 1), (1, 2), (2, 3), (3, [4, 5]), (4, (6, 7))]"
            ]
          },
          "metadata": {},
          "execution_count": 75
        }
      ]
    },
    {
      "cell_type": "code",
      "source": [
        "for i in list(enumerate(lista4)):\n",
        "  print(i)"
      ],
      "metadata": {
        "colab": {
          "base_uri": "https://localhost:8080/"
        },
        "id": "coRJjWrKLoIy",
        "outputId": "7479b34e-fdd3-43aa-b04f-74ef63dd3a67"
      },
      "execution_count": null,
      "outputs": [
        {
          "output_type": "stream",
          "name": "stdout",
          "text": [
            "(0, 1)\n",
            "(1, 2)\n",
            "(2, 3)\n",
            "(3, [4, 5])\n",
            "(4, (6, 7))\n"
          ]
        }
      ]
    },
    {
      "cell_type": "code",
      "source": [
        "for i in list(enumerate(lista4)):\n",
        "  indice,elemento=i\n",
        "  print(indice)"
      ],
      "metadata": {
        "colab": {
          "base_uri": "https://localhost:8080/"
        },
        "id": "tahJTtU3L2mU",
        "outputId": "d22f2173-8556-4db6-f92d-bcefa00dd10f"
      },
      "execution_count": null,
      "outputs": [
        {
          "output_type": "stream",
          "name": "stdout",
          "text": [
            "0\n",
            "1\n",
            "2\n",
            "3\n",
            "4\n"
          ]
        }
      ]
    },
    {
      "cell_type": "code",
      "source": [
        "for i in list(enumerate(lista4)):\n",
        "  indice,elemento=i\n",
        "  print(indice)\n",
        "  if indice==3:\n",
        "    break"
      ],
      "metadata": {
        "colab": {
          "base_uri": "https://localhost:8080/"
        },
        "id": "tTCoqEq1MlWh",
        "outputId": "73a005de-e309-4f90-8866-d343be17a07c"
      },
      "execution_count": null,
      "outputs": [
        {
          "output_type": "stream",
          "name": "stdout",
          "text": [
            "0\n",
            "1\n",
            "2\n",
            "3\n"
          ]
        }
      ]
    },
    {
      "cell_type": "code",
      "source": [
        "for i in list(enumerate(lista4)):\n",
        "  indice,elemento=i\n",
        "  print(indice)\n",
        "else:\n",
        "  print(\"operacion termina\")  "
      ],
      "metadata": {
        "colab": {
          "base_uri": "https://localhost:8080/"
        },
        "id": "TWXB6qjRNAkT",
        "outputId": "60479324-cbd7-4005-8152-02c578aae155"
      },
      "execution_count": null,
      "outputs": [
        {
          "output_type": "stream",
          "name": "stdout",
          "text": [
            "0\n",
            "1\n",
            "2\n",
            "3\n",
            "4\n",
            "operacion termina\n"
          ]
        }
      ]
    },
    {
      "cell_type": "markdown",
      "source": [
        "WHILE"
      ],
      "metadata": {
        "id": "MgFgRNjNNUp2"
      }
    },
    {
      "cell_type": "code",
      "source": [
        ""
      ],
      "metadata": {
        "id": "iIdZW7nPN1OX"
      },
      "execution_count": null,
      "outputs": []
    },
    {
      "cell_type": "markdown",
      "source": [
        "RANGE"
      ],
      "metadata": {
        "id": "znsPv6lvN1rD"
      }
    },
    {
      "cell_type": "code",
      "source": [
        "for i in range(1,9,2):\n",
        "  print(i)"
      ],
      "metadata": {
        "colab": {
          "base_uri": "https://localhost:8080/"
        },
        "id": "Gy2C8jrWN3n7",
        "outputId": "c5e8b7bc-e99b-47b3-dc30-b44285491c0b"
      },
      "execution_count": null,
      "outputs": [
        {
          "output_type": "stream",
          "name": "stdout",
          "text": [
            "1\n",
            "3\n",
            "5\n",
            "7\n"
          ]
        }
      ]
    },
    {
      "cell_type": "code",
      "source": [
        "range(2,9,1)\n",
        "list(range(2,9,1))"
      ],
      "metadata": {
        "colab": {
          "base_uri": "https://localhost:8080/"
        },
        "id": "p56GeYi9OCJ2",
        "outputId": "0a7a2142-8384-43f6-c58d-a87dd3cac4b3"
      },
      "execution_count": null,
      "outputs": [
        {
          "output_type": "execute_result",
          "data": {
            "text/plain": [
              "[2, 3, 4, 5, 6, 7, 8]"
            ]
          },
          "metadata": {},
          "execution_count": 85
        }
      ]
    },
    {
      "cell_type": "markdown",
      "source": [
        "EJERCIO 1"
      ],
      "metadata": {
        "id": "cJx9O0MpOU0p"
      }
    },
    {
      "cell_type": "code",
      "source": [
        "a=int(input(\"Ingrese primer entero\"))\n",
        "b=int(input(\"Ingrese segundo entero\"))\n",
        "if a==b:\n",
        "  print(\"Si, los numeros son iguales\")\n",
        "else:\n",
        "  print(\"No, los numeros son diferentes\")  "
      ],
      "metadata": {
        "colab": {
          "base_uri": "https://localhost:8080/"
        },
        "id": "t2ZNnZPTOUYJ",
        "outputId": "687bc21b-c4b6-41c3-85f6-ba64e966e891"
      },
      "execution_count": null,
      "outputs": [
        {
          "output_type": "stream",
          "name": "stdout",
          "text": [
            "Ingrese primer entero14\n",
            "Ingrese segundo entero50\n",
            "No, los numeros son diferentes\n"
          ]
        }
      ]
    },
    {
      "cell_type": "markdown",
      "source": [
        "EJERCICIO 2"
      ],
      "metadata": {
        "id": "7grSMicnQ0_g"
      }
    },
    {
      "cell_type": "code",
      "source": [
        "a=int(input(\"Ingrese numero\"))\n",
        "if a%2==0:\n",
        "  print(\"Par\")\n",
        "else:\n",
        "  print(\"Impar\")  "
      ],
      "metadata": {
        "colab": {
          "base_uri": "https://localhost:8080/"
        },
        "id": "GCZz2RbwQ3rp",
        "outputId": "990d41aa-1336-4880-adc7-13ae27652ad7"
      },
      "execution_count": null,
      "outputs": [
        {
          "output_type": "stream",
          "name": "stdout",
          "text": [
            "Ingrese numero7\n",
            "Impar\n"
          ]
        }
      ]
    },
    {
      "cell_type": "markdown",
      "source": [
        "EJERCICIO 3"
      ],
      "metadata": {
        "id": "gfP1d87ySuqR"
      }
    },
    {
      "cell_type": "code",
      "source": [
        "a=int(input(\"Ingrese numero\"))\n",
        "if a<0:\n",
        "  print(\"El numero es negativo\")\n",
        "else:\n",
        "  print(\"El numero es positivo\")"
      ],
      "metadata": {
        "colab": {
          "base_uri": "https://localhost:8080/"
        },
        "id": "dV1o6pq2SxuG",
        "outputId": "2ffc131c-b8f2-4921-f090-0910e581c105"
      },
      "execution_count": null,
      "outputs": [
        {
          "output_type": "stream",
          "name": "stdout",
          "text": [
            "Ingrese numero-8\n",
            "El numero es negativo\n"
          ]
        }
      ]
    },
    {
      "cell_type": "markdown",
      "source": [
        "EJERCICIO 4"
      ],
      "metadata": {
        "id": "BSmb71isTnfW"
      }
    },
    {
      "cell_type": "code",
      "source": [
        "L=[1,33,52,65,123,32]\n",
        "suma=0\n",
        "for i in L:\n",
        "  suma=suma+i\n",
        "print(suma)  "
      ],
      "metadata": {
        "colab": {
          "base_uri": "https://localhost:8080/"
        },
        "id": "5k4D9tkBTqVE",
        "outputId": "49aaf63e-68bd-4b5a-cac1-67fa8ce6efec"
      },
      "execution_count": null,
      "outputs": [
        {
          "output_type": "stream",
          "name": "stdout",
          "text": [
            "306\n"
          ]
        }
      ]
    },
    {
      "cell_type": "markdown",
      "source": [
        "DESEMPAQUETAR LISTAS O TUPLAS"
      ],
      "metadata": {
        "id": "oDotmzI01Kpr"
      }
    },
    {
      "cell_type": "code",
      "source": [
        "a=(1,2,3,5,4,7)\n",
        "b=[1,2,5,4,7,8]"
      ],
      "metadata": {
        "id": "S-eyy3Gj1QP_"
      },
      "execution_count": 2,
      "outputs": []
    },
    {
      "cell_type": "code",
      "source": [
        "a,s,d,f,g,e=a"
      ],
      "metadata": {
        "id": "4AAyn9TF1rk5"
      },
      "execution_count": 3,
      "outputs": []
    },
    {
      "cell_type": "code",
      "source": [
        "a+12"
      ],
      "metadata": {
        "colab": {
          "base_uri": "https://localhost:8080/"
        },
        "id": "dqPIGpRR1w0g",
        "outputId": "64c79986-88f7-4f2f-9c2b-6f164d4f6a07"
      },
      "execution_count": 11,
      "outputs": [
        {
          "output_type": "execute_result",
          "data": {
            "text/plain": [
              "13"
            ]
          },
          "metadata": {},
          "execution_count": 11
        }
      ]
    },
    {
      "cell_type": "markdown",
      "source": [
        "CONJUTOS:SETS"
      ],
      "metadata": {
        "id": "uYX3W8262MYJ"
      }
    },
    {
      "cell_type": "code",
      "source": [
        "d={1,2,3}\n",
        "type(d)"
      ],
      "metadata": {
        "colab": {
          "base_uri": "https://localhost:8080/"
        },
        "id": "CjNRUU382P7U",
        "outputId": "be58f82e-114e-4ada-819a-165f41e26ca8"
      },
      "execution_count": 12,
      "outputs": [
        {
          "output_type": "execute_result",
          "data": {
            "text/plain": [
              "set"
            ]
          },
          "metadata": {},
          "execution_count": 12
        }
      ]
    },
    {
      "cell_type": "code",
      "source": [
        "d={}\n",
        "type(d)"
      ],
      "metadata": {
        "colab": {
          "base_uri": "https://localhost:8080/"
        },
        "id": "q26Sysnb3O6n",
        "outputId": "852596fe-9c76-43ad-b35e-8debe905d808"
      },
      "execution_count": 13,
      "outputs": [
        {
          "output_type": "execute_result",
          "data": {
            "text/plain": [
              "dict"
            ]
          },
          "metadata": {},
          "execution_count": 13
        }
      ]
    },
    {
      "cell_type": "code",
      "source": [
        "\n",
        "nombres={\"John\",\"Andres\",\"Cristiano\",\"Sergio\"}"
      ],
      "metadata": {
        "id": "4hgOJ5Bh3TEJ"
      },
      "execution_count": 36,
      "outputs": []
    },
    {
      "cell_type": "code",
      "source": [
        "print(nombres)"
      ],
      "metadata": {
        "colab": {
          "base_uri": "https://localhost:8080/"
        },
        "id": "NERuo1jj3okZ",
        "outputId": "ecaafdf8-a132-4085-f7c5-bff057e9614e"
      },
      "execution_count": 16,
      "outputs": [
        {
          "output_type": "stream",
          "name": "stdout",
          "text": [
            "{'John', 'Cristiano', 'Andres', 'Sergio'}\n"
          ]
        }
      ]
    },
    {
      "cell_type": "code",
      "source": [
        "for i in nombres:\n",
        "  print(i)"
      ],
      "metadata": {
        "colab": {
          "base_uri": "https://localhost:8080/"
        },
        "id": "hDXKPsRZ3xsF",
        "outputId": "3d889457-9c2f-4400-973c-5f4d030f7851"
      },
      "execution_count": 17,
      "outputs": [
        {
          "output_type": "stream",
          "name": "stdout",
          "text": [
            "John\n",
            "Cristiano\n",
            "Andres\n",
            "Sergio\n"
          ]
        }
      ]
    },
    {
      "cell_type": "code",
      "source": [
        "sorted(nombres)"
      ],
      "metadata": {
        "colab": {
          "base_uri": "https://localhost:8080/"
        },
        "id": "Z8oQPOXc4-JD",
        "outputId": "7e75939f-68b2-416c-a4de-233267751fc1"
      },
      "execution_count": 18,
      "outputs": [
        {
          "output_type": "execute_result",
          "data": {
            "text/plain": [
              "['Andres', 'Cristiano', 'John', 'Sergio']"
            ]
          },
          "metadata": {},
          "execution_count": 18
        }
      ]
    },
    {
      "cell_type": "code",
      "source": [
        "METODO .add()"
      ],
      "metadata": {
        "id": "EzO4QT6w5Pt1"
      },
      "execution_count": null,
      "outputs": []
    },
    {
      "cell_type": "code",
      "source": [
        "\n",
        "nombres.add(\"Sil\")\n",
        "nombres"
      ],
      "metadata": {
        "colab": {
          "base_uri": "https://localhost:8080/"
        },
        "id": "m9J76Lvr5TUd",
        "outputId": "8216df2c-8dfb-42ea-f123-8208a5a8e0a9"
      },
      "execution_count": 20,
      "outputs": [
        {
          "output_type": "execute_result",
          "data": {
            "text/plain": [
              "{'Andres', 'Cristiano', 'John', 'Sergio', 'Sil'}"
            ]
          },
          "metadata": {},
          "execution_count": 20
        }
      ]
    },
    {
      "cell_type": "markdown",
      "source": [
        "METODO .remove()"
      ],
      "metadata": {
        "id": "AOMgNqQL5dIl"
      }
    },
    {
      "cell_type": "code",
      "source": [
        "\n",
        "nombres.remove(\"John\")\n",
        "nombres"
      ],
      "metadata": {
        "colab": {
          "base_uri": "https://localhost:8080/"
        },
        "id": "MzgeleUS5Y55",
        "outputId": "918523b3-6fa7-400c-a743-a1335d10a149"
      },
      "execution_count": 25,
      "outputs": [
        {
          "output_type": "execute_result",
          "data": {
            "text/plain": [
              "{'Andres', 'Cristiano', 'Sergio', 'Sil'}"
            ]
          },
          "metadata": {},
          "execution_count": 25
        }
      ]
    },
    {
      "cell_type": "markdown",
      "source": [
        ".discard() no devuleve error si no encuntra el elemento x a remover "
      ],
      "metadata": {
        "id": "mU7XvuAN5whX"
      }
    },
    {
      "cell_type": "markdown",
      "source": [
        "METODO .pop"
      ],
      "metadata": {
        "id": "hT6u3OKB57kg"
      }
    },
    {
      "cell_type": "code",
      "source": [
        "nombres.pop()\n",
        "nombres"
      ],
      "metadata": {
        "colab": {
          "base_uri": "https://localhost:8080/"
        },
        "id": "b_M_YYzb53P1",
        "outputId": "33472424-1bcd-4d8a-fa3e-797265ce40aa"
      },
      "execution_count": 27,
      "outputs": [
        {
          "output_type": "execute_result",
          "data": {
            "text/plain": [
              "{'Andres', 'Sergio'}"
            ]
          },
          "metadata": {},
          "execution_count": 27
        }
      ]
    },
    {
      "cell_type": "markdown",
      "source": [
        "METODO .copy() deepcopy SAME"
      ],
      "metadata": {
        "id": "K4SoHVKq6HKm"
      }
    },
    {
      "cell_type": "code",
      "source": [
        "nuevo_nombres=nombres.copy()\n",
        "nuevo_nombres"
      ],
      "metadata": {
        "colab": {
          "base_uri": "https://localhost:8080/"
        },
        "id": "HNb8xRrq6Cx9",
        "outputId": "87123da1-9d21-478a-a890-b71a51a2f472"
      },
      "execution_count": 30,
      "outputs": [
        {
          "output_type": "execute_result",
          "data": {
            "text/plain": [
              "{'Andres', 'Sergio'}"
            ]
          },
          "metadata": {},
          "execution_count": 30
        }
      ]
    },
    {
      "cell_type": "markdown",
      "source": [
        "METODO .clear()"
      ],
      "metadata": {
        "id": "hDu3AzjU6lpk"
      }
    },
    {
      "cell_type": "code",
      "source": [
        "nombres.clear()\n",
        "nombres"
      ],
      "metadata": {
        "colab": {
          "base_uri": "https://localhost:8080/"
        },
        "id": "clD9Dmtc6lL5",
        "outputId": "e6abc29c-c527-4379-8ed5-7b153797cfdb"
      },
      "execution_count": 32,
      "outputs": [
        {
          "output_type": "execute_result",
          "data": {
            "text/plain": [
              "set()"
            ]
          },
          "metadata": {},
          "execution_count": 32
        }
      ]
    },
    {
      "cell_type": "markdown",
      "source": [
        "OPERACIONES Y SUS OPERADORES EN CONJUNTOS \n"
      ],
      "metadata": {
        "id": "rDaaCqd961Ie"
      }
    },
    {
      "cell_type": "markdown",
      "source": [
        "OPERADOR in\n"
      ],
      "metadata": {
        "id": "Or9myT-z65cC"
      }
    },
    {
      "cell_type": "code",
      "source": [
        "\"Andres\" in nombres"
      ],
      "metadata": {
        "colab": {
          "base_uri": "https://localhost:8080/"
        },
        "id": "PEUcJ6Zg68om",
        "outputId": "b502332f-97b9-4c39-dfe2-11922070fe31"
      },
      "execution_count": 33,
      "outputs": [
        {
          "output_type": "execute_result",
          "data": {
            "text/plain": [
              "False"
            ]
          },
          "metadata": {},
          "execution_count": 33
        }
      ]
    },
    {
      "cell_type": "markdown",
      "source": [
        "DIFERENCIA DE CONFUNJOS "
      ],
      "metadata": {
        "id": "csj616iy7GB4"
      }
    },
    {
      "cell_type": "code",
      "source": [
        "nuevo_nombres-nombres\n",
        "nuevo_nombres.difference(nombres)\n",
        "nuevo_nombres.difference_update(nombres)"
      ],
      "metadata": {
        "colab": {
          "base_uri": "https://localhost:8080/"
        },
        "id": "MGYl0NLw7J-d",
        "outputId": "11610d00-feff-4b3d-c4e3-6143378f293e"
      },
      "execution_count": 40,
      "outputs": [
        {
          "output_type": "execute_result",
          "data": {
            "text/plain": [
              "set()"
            ]
          },
          "metadata": {},
          "execution_count": 40
        }
      ]
    },
    {
      "cell_type": "markdown",
      "source": [
        "INTERSECCION"
      ],
      "metadata": {
        "id": "hyjpmk7z766V"
      }
    },
    {
      "cell_type": "code",
      "source": [
        "nuevo_nombres & nombres\n",
        "nuevo_nombres.intersection(nombres)\n",
        "nuevo_nombres.intersection_update(nombres)"
      ],
      "metadata": {
        "id": "VVIMHUCB7jBI"
      },
      "execution_count": null,
      "outputs": []
    },
    {
      "cell_type": "markdown",
      "source": [
        "UNION"
      ],
      "metadata": {
        "id": "VhOMtlCX78pz"
      }
    },
    {
      "cell_type": "code",
      "source": [
        "nuevo_nombres | nombres\n",
        "nuevo_nombres.union(nombres)"
      ],
      "metadata": {
        "id": "po2Gvz177-d8"
      },
      "execution_count": null,
      "outputs": []
    },
    {
      "cell_type": "markdown",
      "source": [
        "DIFERENCIA SIMETRICA A|B-A & B"
      ],
      "metadata": {
        "id": "qCRu7xsd8LDg"
      }
    },
    {
      "cell_type": "code",
      "source": [
        "nuevo_nombres.symmetric_difference(nombres)\n",
        "nuevo_nombres.symmetric_difference_update(nombres)"
      ],
      "metadata": {
        "id": "BewWHW9c8YCo"
      },
      "execution_count": null,
      "outputs": []
    },
    {
      "cell_type": "markdown",
      "source": [
        "ACTUALIZAR CONJUNTO agregar los elementoas que  no existen "
      ],
      "metadata": {
        "id": "4JyhkQ9U8l0h"
      }
    },
    {
      "cell_type": "code",
      "source": [
        "nuevo_nombres.update([\"John\"])\n",
        "nuevo_nombres"
      ],
      "metadata": {
        "colab": {
          "base_uri": "https://localhost:8080/"
        },
        "id": "oZAN7b_x8lTB",
        "outputId": "e7fc0d4c-66f4-48cd-99a5-1dd3ad09bf8d"
      },
      "execution_count": 42,
      "outputs": [
        {
          "output_type": "execute_result",
          "data": {
            "text/plain": [
              "{'Andres', 'Cristiano', 'John', 'Sergio'}"
            ]
          },
          "metadata": {},
          "execution_count": 42
        }
      ]
    },
    {
      "cell_type": "markdown",
      "source": [
        "OPERADORES BOLEANOS\n"
      ],
      "metadata": {
        "id": "IT5WiN-6DKqQ"
      }
    },
    {
      "cell_type": "markdown",
      "source": [
        "DISYUNTOS "
      ],
      "metadata": {
        "id": "b2Hpuh8CDMuu"
      }
    },
    {
      "cell_type": "code",
      "source": [
        "nuevo_nombres.isdisjoint(nombres)\n"
      ],
      "metadata": {
        "id": "U0toD4O_DJQJ"
      },
      "execution_count": null,
      "outputs": []
    },
    {
      "cell_type": "markdown",
      "source": [
        "SUBCONJUNTO O SUPERCONJUNTO"
      ],
      "metadata": {
        "id": "fkYq3vD1DZHY"
      }
    },
    {
      "cell_type": "code",
      "source": [
        "nuevo_nombres.issubset(nombres)\n",
        "nuevo_nombres.issuperset(nombres)"
      ],
      "metadata": {
        "id": "SrN-S62mDe-e"
      },
      "execution_count": null,
      "outputs": []
    },
    {
      "cell_type": "markdown",
      "source": [
        "DICCIONARIOS"
      ],
      "metadata": {
        "id": "ChoEOzxvDtBX"
      }
    },
    {
      "cell_type": "code",
      "source": [
        "edades={\"john\":22,\"andres\":23,\"sil\":23}\n",
        "edades"
      ],
      "metadata": {
        "colab": {
          "base_uri": "https://localhost:8080/"
        },
        "id": "M07vEdFoDsnW",
        "outputId": "16bcb743-2ffa-41df-8968-7863213aab9e"
      },
      "execution_count": 54,
      "outputs": [
        {
          "output_type": "execute_result",
          "data": {
            "text/plain": [
              "{'andres': 23, 'john': 22, 'sil': 23}"
            ]
          },
          "metadata": {},
          "execution_count": 54
        }
      ]
    },
    {
      "cell_type": "markdown",
      "source": [
        "USO DE LA CLAVE"
      ],
      "metadata": {
        "id": "RTvHyB0kEnrN"
      }
    },
    {
      "cell_type": "code",
      "source": [
        "edades[\"john\"]"
      ],
      "metadata": {
        "colab": {
          "base_uri": "https://localhost:8080/"
        },
        "id": "q0BsCcb8EqdR",
        "outputId": "c5cf8d92-7df9-4f27-ca96-0ab5c0cd35b1"
      },
      "execution_count": 55,
      "outputs": [
        {
          "output_type": "execute_result",
          "data": {
            "text/plain": [
              "22"
            ]
          },
          "metadata": {},
          "execution_count": 55
        }
      ]
    },
    {
      "cell_type": "code",
      "source": [
        "18 in edades"
      ],
      "metadata": {
        "colab": {
          "base_uri": "https://localhost:8080/"
        },
        "id": "lnr4tWqFE9Cc",
        "outputId": "836fa0aa-cdc9-41ac-d47a-eb755170c174"
      },
      "execution_count": 56,
      "outputs": [
        {
          "output_type": "execute_result",
          "data": {
            "text/plain": [
              "False"
            ]
          },
          "metadata": {},
          "execution_count": 56
        }
      ]
    },
    {
      "cell_type": "code",
      "source": [
        "\"john\" in edades"
      ],
      "metadata": {
        "colab": {
          "base_uri": "https://localhost:8080/"
        },
        "id": "mPS8ER6FGGYK",
        "outputId": "f3193605-9e4d-427e-8b4d-d0c1430bb5a0"
      },
      "execution_count": 57,
      "outputs": [
        {
          "output_type": "execute_result",
          "data": {
            "text/plain": [
              "True"
            ]
          },
          "metadata": {},
          "execution_count": 57
        }
      ]
    },
    {
      "cell_type": "code",
      "source": [
        "edades[\"john\"]+1"
      ],
      "metadata": {
        "colab": {
          "base_uri": "https://localhost:8080/"
        },
        "id": "vxeLcGd1GOLs",
        "outputId": "d82fbc8e-89f9-42fa-ce78-acb27ec8fffc"
      },
      "execution_count": 58,
      "outputs": [
        {
          "output_type": "execute_result",
          "data": {
            "text/plain": [
              "23"
            ]
          },
          "metadata": {},
          "execution_count": 58
        }
      ]
    },
    {
      "cell_type": "markdown",
      "source": [
        ".get()"
      ],
      "metadata": {
        "id": "K0eWorXpGUAt"
      }
    },
    {
      "cell_type": "code",
      "source": [
        "edades.get(\"juanis\",0)"
      ],
      "metadata": {
        "colab": {
          "base_uri": "https://localhost:8080/"
        },
        "id": "sqCIf0jgGYQQ",
        "outputId": "a8da9106-947b-47f5-a044-01793e3f2cff"
      },
      "execution_count": 69,
      "outputs": [
        {
          "output_type": "execute_result",
          "data": {
            "text/plain": [
              "0"
            ]
          },
          "metadata": {},
          "execution_count": 69
        }
      ]
    },
    {
      "cell_type": "code",
      "source": [
        "edades.get(\"john\",0)"
      ],
      "metadata": {
        "colab": {
          "base_uri": "https://localhost:8080/"
        },
        "id": "g86f8jUtG9Bz",
        "outputId": "15661e89-c951-40eb-abc1-2c92737b9796"
      },
      "execution_count": 70,
      "outputs": [
        {
          "output_type": "execute_result",
          "data": {
            "text/plain": [
              "22"
            ]
          },
          "metadata": {},
          "execution_count": 70
        }
      ]
    },
    {
      "cell_type": "markdown",
      "source": [
        ".setdefault()"
      ],
      "metadata": {
        "id": "-J8P7aKqHBrV"
      }
    },
    {
      "cell_type": "code",
      "source": [
        "edades"
      ],
      "metadata": {
        "colab": {
          "base_uri": "https://localhost:8080/"
        },
        "id": "QyWoAm1NHBT3",
        "outputId": "a4b27d5d-6b76-42ea-e8a8-3118e37c35aa"
      },
      "execution_count": 71,
      "outputs": [
        {
          "output_type": "execute_result",
          "data": {
            "text/plain": [
              "{'andres': 23, 'john': 22, 'sil': 23}"
            ]
          },
          "metadata": {},
          "execution_count": 71
        }
      ]
    },
    {
      "cell_type": "code",
      "source": [
        "edades.setdefault(\"juan\",24)\n",
        "edades"
      ],
      "metadata": {
        "colab": {
          "base_uri": "https://localhost:8080/"
        },
        "id": "U_yVfHPHHGlQ",
        "outputId": "57599efd-91c1-4a86-9af0-3cf2f3624ac0"
      },
      "execution_count": 73,
      "outputs": [
        {
          "output_type": "execute_result",
          "data": {
            "text/plain": [
              "{'andres': 23, 'john': 22, 'juan': 24, 'sil': 23}"
            ]
          },
          "metadata": {},
          "execution_count": 73
        }
      ]
    },
    {
      "cell_type": "markdown",
      "source": [
        ".items() .keys() .values()a"
      ],
      "metadata": {
        "id": "1KQjQDfHHTZB"
      }
    },
    {
      "cell_type": "code",
      "source": [
        "edades.items()"
      ],
      "metadata": {
        "colab": {
          "base_uri": "https://localhost:8080/"
        },
        "id": "0gQ8IsynHYbu",
        "outputId": "f0c2bd13-7685-4771-9747-82dbcd9af395"
      },
      "execution_count": 74,
      "outputs": [
        {
          "output_type": "execute_result",
          "data": {
            "text/plain": [
              "dict_items([('john', 22), ('andres', 23), ('sil', 23), ('juan', 24)])"
            ]
          },
          "metadata": {},
          "execution_count": 74
        }
      ]
    },
    {
      "cell_type": "code",
      "source": [
        "edades.keys()"
      ],
      "metadata": {
        "colab": {
          "base_uri": "https://localhost:8080/"
        },
        "id": "7860Ok9KHiEW",
        "outputId": "02716fa6-a1b2-4ef5-fc86-4c93c17b8587"
      },
      "execution_count": 76,
      "outputs": [
        {
          "output_type": "execute_result",
          "data": {
            "text/plain": [
              "dict_keys(['john', 'andres', 'sil', 'juan'])"
            ]
          },
          "metadata": {},
          "execution_count": 76
        }
      ]
    },
    {
      "cell_type": "code",
      "source": [
        "edades.values()"
      ],
      "metadata": {
        "colab": {
          "base_uri": "https://localhost:8080/"
        },
        "id": "TVtrGCFyHnts",
        "outputId": "89613ac2-59ba-4785-e7fe-6b486e70f53f"
      },
      "execution_count": 77,
      "outputs": [
        {
          "output_type": "execute_result",
          "data": {
            "text/plain": [
              "dict_values([22, 23, 23, 24])"
            ]
          },
          "metadata": {},
          "execution_count": 77
        }
      ]
    },
    {
      "cell_type": "code",
      "source": [
        "for nombre,edad in edades.items():\n",
        "  print(nombre,edad)"
      ],
      "metadata": {
        "colab": {
          "base_uri": "https://localhost:8080/"
        },
        "id": "ruvo7E2VHqXF",
        "outputId": "a0aa9e38-2b26-45de-9c4c-5f429e285f8f"
      },
      "execution_count": 82,
      "outputs": [
        {
          "output_type": "stream",
          "name": "stdout",
          "text": [
            "john 22\n",
            "andres 23\n",
            "sil 23\n",
            "juan 24\n"
          ]
        }
      ]
    },
    {
      "cell_type": "markdown",
      "source": [
        ".pop() .popitem()"
      ],
      "metadata": {
        "id": "nUIj59S1ICaB"
      }
    },
    {
      "cell_type": "code",
      "source": [
        "edades.pop(\"john\")"
      ],
      "metadata": {
        "colab": {
          "base_uri": "https://localhost:8080/"
        },
        "id": "0zpg48QxIJwx",
        "outputId": "ca87dfe1-da72-409f-d76e-f1ffbaeb3f51"
      },
      "execution_count": 84,
      "outputs": [
        {
          "output_type": "execute_result",
          "data": {
            "text/plain": [
              "22"
            ]
          },
          "metadata": {},
          "execution_count": 84
        }
      ]
    },
    {
      "cell_type": "code",
      "source": [
        "edades.popitem()"
      ],
      "metadata": {
        "colab": {
          "base_uri": "https://localhost:8080/"
        },
        "id": "I-tiKY6oITlt",
        "outputId": "e29f8cf5-8562-439b-829c-00737945c1e1"
      },
      "execution_count": 86,
      "outputs": [
        {
          "output_type": "execute_result",
          "data": {
            "text/plain": [
              "('juan', 24)"
            ]
          },
          "metadata": {},
          "execution_count": 86
        }
      ]
    },
    {
      "cell_type": "markdown",
      "source": [
        "EJERCICIOS"
      ],
      "metadata": {
        "id": "Z_lkcw2IJbY0"
      }
    },
    {
      "cell_type": "code",
      "source": [
        "precios={\"bananos\":300,\"manzanas\":1000,\"mangos\":800,\"piñas\":2200}"
      ],
      "metadata": {
        "id": "BqiEBP3cJdW-"
      },
      "execution_count": 87,
      "outputs": []
    },
    {
      "cell_type": "markdown",
      "source": [
        "precio de 10 bananos mas 5 manzanas mas 3 mangos \n"
      ],
      "metadata": {
        "id": "sNdhj5r-JvHv"
      }
    },
    {
      "cell_type": "code",
      "source": [
        "precios[\"bananos\"]*10+precios[\"mangos\"]*3+precios[\"manzanas\"]*5"
      ],
      "metadata": {
        "colab": {
          "base_uri": "https://localhost:8080/"
        },
        "id": "QvsNYovsJ4Va",
        "outputId": "c247140b-7cfb-4271-fa1e-fdc6edccbb79"
      },
      "execution_count": 89,
      "outputs": [
        {
          "output_type": "execute_result",
          "data": {
            "text/plain": [
              "10400"
            ]
          },
          "metadata": {},
          "execution_count": 89
        }
      ]
    },
    {
      "cell_type": "markdown",
      "source": [
        "dada frase, almacenar en u diccionario las letras y las veces que aparece la letra en la frase "
      ],
      "metadata": {
        "id": "xMEuq0xRKVS4"
      }
    },
    {
      "cell_type": "code",
      "source": [
        "frase=\"hola, damas y caballeros. Bienvenidos al curso de python\""
      ],
      "metadata": {
        "id": "JQ8fZxvvKnob"
      },
      "execution_count": 90,
      "outputs": []
    },
    {
      "cell_type": "code",
      "source": [
        "set(frase)"
      ],
      "metadata": {
        "colab": {
          "base_uri": "https://localhost:8080/"
        },
        "id": "qVp-WixlLHqK",
        "outputId": "7b8a7b1a-0d0c-48f6-ef8e-d3c7a4178223"
      },
      "execution_count": 91,
      "outputs": [
        {
          "output_type": "execute_result",
          "data": {
            "text/plain": [
              "{' ',\n",
              " ',',\n",
              " '.',\n",
              " 'B',\n",
              " 'a',\n",
              " 'b',\n",
              " 'c',\n",
              " 'd',\n",
              " 'e',\n",
              " 'h',\n",
              " 'i',\n",
              " 'l',\n",
              " 'm',\n",
              " 'n',\n",
              " 'o',\n",
              " 'p',\n",
              " 'r',\n",
              " 's',\n",
              " 't',\n",
              " 'u',\n",
              " 'v',\n",
              " 'y'}"
            ]
          },
          "metadata": {},
          "execution_count": 91
        }
      ]
    },
    {
      "cell_type": "code",
      "source": [
        "respuesta={}\n",
        "for i in set(frase):\n",
        "  respuesta[i]=frase.count(i)\n",
        "respuesta"
      ],
      "metadata": {
        "colab": {
          "base_uri": "https://localhost:8080/"
        },
        "id": "v2ADIEFQMBDu",
        "outputId": "4855d6bc-1500-4b3e-eda3-eba030bd5dd6"
      },
      "execution_count": 92,
      "outputs": [
        {
          "output_type": "execute_result",
          "data": {
            "text/plain": [
              "{' ': 8,\n",
              " ',': 1,\n",
              " '.': 1,\n",
              " 'B': 1,\n",
              " 'a': 6,\n",
              " 'b': 1,\n",
              " 'c': 2,\n",
              " 'd': 3,\n",
              " 'e': 4,\n",
              " 'h': 2,\n",
              " 'i': 2,\n",
              " 'l': 4,\n",
              " 'm': 1,\n",
              " 'n': 3,\n",
              " 'o': 5,\n",
              " 'p': 1,\n",
              " 'r': 2,\n",
              " 's': 4,\n",
              " 't': 1,\n",
              " 'u': 1,\n",
              " 'v': 1,\n",
              " 'y': 2}"
            ]
          },
          "metadata": {},
          "execution_count": 92
        }
      ]
    }
  ]
}