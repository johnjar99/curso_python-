{
  "nbformat": 4,
  "nbformat_minor": 0,
  "metadata": {
    "colab": {
      "name": "Untitled0.ipynb",
      "provenance": [],
      "collapsed_sections": [],
      "authorship_tag": "ABX9TyNVHT15MLWvmHixE3Oz92yz",
      "include_colab_link": true
    },
    "kernelspec": {
      "name": "python3",
      "display_name": "Python 3"
    },
    "language_info": {
      "name": "python"
    }
  },
  "cells": [
    {
      "cell_type": "markdown",
      "metadata": {
        "id": "view-in-github",
        "colab_type": "text"
      },
      "source": [
        "<a href=\"https://colab.research.google.com/github/johnjar99/curso_python-/blob/main/sesion5.ipynb\" target=\"_parent\"><img src=\"https://colab.research.google.com/assets/colab-badge.svg\" alt=\"Open In Colab\"/></a>"
      ]
    },
    {
      "cell_type": "code",
      "source": [
        "divmod(13,5)"
      ],
      "metadata": {
        "colab": {
          "base_uri": "https://localhost:8080/"
        },
        "id": "qs2OlycY-fp_",
        "outputId": "f9498b6f-e898-42ac-df98-ec3fa6197459"
      },
      "execution_count": null,
      "outputs": [
        {
          "output_type": "execute_result",
          "data": {
            "text/plain": [
              "(2, 3)"
            ]
          },
          "metadata": {},
          "execution_count": 5
        }
      ]
    },
    {
      "cell_type": "code",
      "source": [
        "entero,residuo=divmod(13,5)\n",
        "print(entero,residuo)"
      ],
      "metadata": {
        "colab": {
          "base_uri": "https://localhost:8080/"
        },
        "id": "wf48C0-w-_Dj",
        "outputId": "4b446741-756b-4a6c-853c-0623ce9a2c19"
      },
      "execution_count": null,
      "outputs": [
        {
          "output_type": "stream",
          "name": "stdout",
          "text": [
            "2 3\n"
          ]
        }
      ]
    },
    {
      "cell_type": "code",
      "source": [
        "entero+9"
      ],
      "metadata": {
        "colab": {
          "base_uri": "https://localhost:8080/"
        },
        "id": "D7tp1XncAGgc",
        "outputId": "377a46f1-e9b2-4b91-f8bd-8fb64dff1d51"
      },
      "execution_count": null,
      "outputs": [
        {
          "output_type": "execute_result",
          "data": {
            "text/plain": [
              "11"
            ]
          },
          "metadata": {},
          "execution_count": 10
        }
      ]
    },
    {
      "cell_type": "code",
      "source": [
        "0 or 0"
      ],
      "metadata": {
        "colab": {
          "base_uri": "https://localhost:8080/"
        },
        "id": "lNwG2FcEAXua",
        "outputId": "53868e2d-9922-4aa7-ace6-1f19fa5081aa"
      },
      "execution_count": null,
      "outputs": [
        {
          "output_type": "execute_result",
          "data": {
            "text/plain": [
              "0"
            ]
          },
          "metadata": {},
          "execution_count": 13
        }
      ]
    },
    {
      "cell_type": "code",
      "source": [
        "[] and 15"
      ],
      "metadata": {
        "colab": {
          "base_uri": "https://localhost:8080/"
        },
        "id": "ok27yVtlA1Bl",
        "outputId": "1aafdf3f-a69e-4df6-95af-706e26546456"
      },
      "execution_count": null,
      "outputs": [
        {
          "output_type": "execute_result",
          "data": {
            "text/plain": [
              "[]"
            ]
          },
          "metadata": {},
          "execution_count": 15
        }
      ]
    },
    {
      "cell_type": "code",
      "source": [
        "45 and 15"
      ],
      "metadata": {
        "colab": {
          "base_uri": "https://localhost:8080/"
        },
        "id": "BsVpRFmIBPGQ",
        "outputId": "79906eab-deb7-436e-8224-5285184e0d27"
      },
      "execution_count": null,
      "outputs": [
        {
          "output_type": "execute_result",
          "data": {
            "text/plain": [
              "15"
            ]
          },
          "metadata": {},
          "execution_count": 16
        }
      ]
    },
    {
      "cell_type": "code",
      "source": [
        "not 1"
      ],
      "metadata": {
        "colab": {
          "base_uri": "https://localhost:8080/"
        },
        "id": "a51uvk0WBT_m",
        "outputId": "2a207e0d-0a7a-4dd5-c4ae-c780d2417a76"
      },
      "execution_count": null,
      "outputs": [
        {
          "output_type": "execute_result",
          "data": {
            "text/plain": [
              "False"
            ]
          },
          "metadata": {},
          "execution_count": 17
        }
      ]
    },
    {
      "cell_type": "code",
      "source": [
        "5>4 and 3<5 or 4>1"
      ],
      "metadata": {
        "colab": {
          "base_uri": "https://localhost:8080/"
        },
        "id": "kNf26Ni-BdWP",
        "outputId": "1a9f4d9e-f363-4cb4-bcbd-2703a08c9097"
      },
      "execution_count": null,
      "outputs": [
        {
          "output_type": "execute_result",
          "data": {
            "text/plain": [
              "True"
            ]
          },
          "metadata": {},
          "execution_count": 18
        }
      ]
    },
    {
      "cell_type": "code",
      "source": [
        "a=12 #base de datos \n",
        "b=a #copia de respaldo \n",
        "c=12"
      ],
      "metadata": {
        "id": "bXD0uPJWEVcs"
      },
      "execution_count": null,
      "outputs": []
    },
    {
      "cell_type": "code",
      "source": [
        "print(id(a),id(b),id(c),a==c)"
      ],
      "metadata": {
        "colab": {
          "base_uri": "https://localhost:8080/"
        },
        "id": "I2IN734nEhKx",
        "outputId": "a360f6eb-0768-4b14-a28c-8770c8efad0c"
      },
      "execution_count": null,
      "outputs": [
        {
          "output_type": "stream",
          "name": "stdout",
          "text": [
            "11256416 11256416 11256416 True\n"
          ]
        }
      ]
    },
    {
      "cell_type": "code",
      "source": [
        "b=17"
      ],
      "metadata": {
        "id": "xYAweOVIEv7s"
      },
      "execution_count": null,
      "outputs": []
    },
    {
      "cell_type": "code",
      "source": [
        "a"
      ],
      "metadata": {
        "colab": {
          "base_uri": "https://localhost:8080/"
        },
        "id": "UAaU6NrMEyeV",
        "outputId": "b211976b-6d7e-4f4f-be10-48bfdba0af92"
      },
      "execution_count": null,
      "outputs": [
        {
          "output_type": "execute_result",
          "data": {
            "text/plain": [
              "12"
            ]
          },
          "metadata": {},
          "execution_count": 22
        }
      ]
    },
    {
      "cell_type": "code",
      "source": [
        "a is b\n",
        "a is c"
      ],
      "metadata": {
        "colab": {
          "base_uri": "https://localhost:8080/"
        },
        "id": "A7ELJt0-E8YU",
        "outputId": "559ff82f-c7e6-4de5-a82f-e5a59412a019"
      },
      "execution_count": null,
      "outputs": [
        {
          "output_type": "execute_result",
          "data": {
            "text/plain": [
              "True"
            ]
          },
          "metadata": {},
          "execution_count": 25
        }
      ]
    },
    {
      "cell_type": "code",
      "source": [
        "nombre=\"john\""
      ],
      "metadata": {
        "id": "ABnNzsHLFKvJ"
      },
      "execution_count": null,
      "outputs": []
    },
    {
      "cell_type": "code",
      "source": [
        "nombre[0]"
      ],
      "metadata": {
        "colab": {
          "base_uri": "https://localhost:8080/",
          "height": 35
        },
        "id": "gzjfPv0XFwf4",
        "outputId": "61f2548b-7c07-40cc-ea38-f0d3daad81b9"
      },
      "execution_count": null,
      "outputs": [
        {
          "output_type": "execute_result",
          "data": {
            "text/plain": [
              "'j'"
            ],
            "application/vnd.google.colaboratory.intrinsic+json": {
              "type": "string"
            }
          },
          "metadata": {},
          "execution_count": 37
        }
      ]
    },
    {
      "cell_type": "code",
      "source": [
        "print( nombre[0], nombre[-1])"
      ],
      "metadata": {
        "colab": {
          "base_uri": "https://localhost:8080/"
        },
        "id": "Lg615emNGMID",
        "outputId": "8e58f083-b0ca-4fab-a33f-d6d6a3fbffff"
      },
      "execution_count": null,
      "outputs": [
        {
          "output_type": "stream",
          "name": "stdout",
          "text": [
            "j n\n"
          ]
        }
      ]
    },
    {
      "cell_type": "markdown",
      "source": [
        "STRING (CADENA) INMUTABLES\n"
      ],
      "metadata": {
        "id": "yKfisSz1Hmls"
      }
    },
    {
      "cell_type": "code",
      "source": [
        "nuevo_nombre=nombre.capitalize()"
      ],
      "metadata": {
        "id": "8c1XVjJoHL_-"
      },
      "execution_count": null,
      "outputs": []
    },
    {
      "cell_type": "code",
      "source": [
        "nuevo_nombre"
      ],
      "metadata": {
        "colab": {
          "base_uri": "https://localhost:8080/",
          "height": 35
        },
        "id": "bnVRLHfMIhAV",
        "outputId": "c26f13f8-4139-4798-a41a-64253e3d0743"
      },
      "execution_count": null,
      "outputs": [
        {
          "output_type": "execute_result",
          "data": {
            "text/plain": [
              "'John'"
            ],
            "application/vnd.google.colaboratory.intrinsic+json": {
              "type": "string"
            }
          },
          "metadata": {},
          "execution_count": 42
        }
      ]
    },
    {
      "cell_type": "code",
      "source": [
        "dir(nombre)"
      ],
      "metadata": {
        "colab": {
          "base_uri": "https://localhost:8080/"
        },
        "id": "eRuJBTi8IrXP",
        "outputId": "22c72bce-9846-400d-cbc2-b87fb12a3777"
      },
      "execution_count": null,
      "outputs": [
        {
          "output_type": "execute_result",
          "data": {
            "text/plain": [
              "['__add__',\n",
              " '__class__',\n",
              " '__contains__',\n",
              " '__delattr__',\n",
              " '__dir__',\n",
              " '__doc__',\n",
              " '__eq__',\n",
              " '__format__',\n",
              " '__ge__',\n",
              " '__getattribute__',\n",
              " '__getitem__',\n",
              " '__getnewargs__',\n",
              " '__gt__',\n",
              " '__hash__',\n",
              " '__init__',\n",
              " '__init_subclass__',\n",
              " '__iter__',\n",
              " '__le__',\n",
              " '__len__',\n",
              " '__lt__',\n",
              " '__mod__',\n",
              " '__mul__',\n",
              " '__ne__',\n",
              " '__new__',\n",
              " '__reduce__',\n",
              " '__reduce_ex__',\n",
              " '__repr__',\n",
              " '__rmod__',\n",
              " '__rmul__',\n",
              " '__setattr__',\n",
              " '__sizeof__',\n",
              " '__str__',\n",
              " '__subclasshook__',\n",
              " 'capitalize',\n",
              " 'casefold',\n",
              " 'center',\n",
              " 'count',\n",
              " 'encode',\n",
              " 'endswith',\n",
              " 'expandtabs',\n",
              " 'find',\n",
              " 'format',\n",
              " 'format_map',\n",
              " 'index',\n",
              " 'isalnum',\n",
              " 'isalpha',\n",
              " 'isascii',\n",
              " 'isdecimal',\n",
              " 'isdigit',\n",
              " 'isidentifier',\n",
              " 'islower',\n",
              " 'isnumeric',\n",
              " 'isprintable',\n",
              " 'isspace',\n",
              " 'istitle',\n",
              " 'isupper',\n",
              " 'join',\n",
              " 'ljust',\n",
              " 'lower',\n",
              " 'lstrip',\n",
              " 'maketrans',\n",
              " 'partition',\n",
              " 'replace',\n",
              " 'rfind',\n",
              " 'rindex',\n",
              " 'rjust',\n",
              " 'rpartition',\n",
              " 'rsplit',\n",
              " 'rstrip',\n",
              " 'split',\n",
              " 'splitlines',\n",
              " 'startswith',\n",
              " 'strip',\n",
              " 'swapcase',\n",
              " 'title',\n",
              " 'translate',\n",
              " 'upper',\n",
              " 'zfill']"
            ]
          },
          "metadata": {},
          "execution_count": 43
        }
      ]
    },
    {
      "cell_type": "code",
      "source": [
        "nombre.zfill?"
      ],
      "metadata": {
        "id": "B16DwNKuI6cx"
      },
      "execution_count": null,
      "outputs": []
    },
    {
      "cell_type": "code",
      "source": [
        "nombre.zfill(1)"
      ],
      "metadata": {
        "colab": {
          "base_uri": "https://localhost:8080/",
          "height": 35
        },
        "id": "o08GBtIoJFKL",
        "outputId": "8c7961f1-b60b-4ec6-aa50-2c9a36770716"
      },
      "execution_count": null,
      "outputs": [
        {
          "output_type": "execute_result",
          "data": {
            "text/plain": [
              "'john'"
            ],
            "application/vnd.google.colaboratory.intrinsic+json": {
              "type": "string"
            }
          },
          "metadata": {},
          "execution_count": 47
        }
      ]
    },
    {
      "cell_type": "code",
      "source": [
        "cadena=\"abcdefg\"\n",
        "cadena.index(\"a\")"
      ],
      "metadata": {
        "colab": {
          "base_uri": "https://localhost:8080/"
        },
        "id": "ROj8k8VwJEjp",
        "outputId": "61754f01-dc49-4aff-93b4-6f1dc21ecbc8"
      },
      "execution_count": null,
      "outputs": [
        {
          "output_type": "execute_result",
          "data": {
            "text/plain": [
              "0"
            ]
          },
          "metadata": {},
          "execution_count": 48
        }
      ]
    },
    {
      "cell_type": "code",
      "source": [
        "cadena.find(\"h\")"
      ],
      "metadata": {
        "colab": {
          "base_uri": "https://localhost:8080/"
        },
        "id": "uRVRryuTKEL1",
        "outputId": "f1cae350-8034-4ad6-c1dc-c930bfe81648"
      },
      "execution_count": null,
      "outputs": [
        {
          "output_type": "execute_result",
          "data": {
            "text/plain": [
              "-1"
            ]
          },
          "metadata": {},
          "execution_count": 49
        }
      ]
    },
    {
      "cell_type": "code",
      "source": [
        "lista=list(cadena)\n",
        "lista[0]=\"J\"\n",
        "lista"
      ],
      "metadata": {
        "colab": {
          "base_uri": "https://localhost:8080/"
        },
        "id": "xOHqhhZbKZFf",
        "outputId": "e221d08c-49ba-4235-eda2-0d68a1c0d96c"
      },
      "execution_count": null,
      "outputs": [
        {
          "output_type": "execute_result",
          "data": {
            "text/plain": [
              "['J', 'b', 'c', 'd', 'e', 'f', 'g']"
            ]
          },
          "metadata": {},
          "execution_count": 53
        }
      ]
    },
    {
      "cell_type": "code",
      "source": [
        "cadena1=\"\".join(lista)\n",
        "cadena1"
      ],
      "metadata": {
        "colab": {
          "base_uri": "https://localhost:8080/",
          "height": 35
        },
        "id": "yVy5k1aIKxe-",
        "outputId": "5d6fe718-bcd4-4c33-ab1a-41509a361382"
      },
      "execution_count": null,
      "outputs": [
        {
          "output_type": "execute_result",
          "data": {
            "text/plain": [
              "'Jbcdefg'"
            ],
            "application/vnd.google.colaboratory.intrinsic+json": {
              "type": "string"
            }
          },
          "metadata": {},
          "execution_count": 55
        }
      ]
    },
    {
      "cell_type": "markdown",
      "source": [
        "CONTENEDORES"
      ],
      "metadata": {
        "id": "l3Q7JyIv5Z5W"
      }
    },
    {
      "cell_type": "code",
      "source": [
        "l=[1,2,3,4,5,6]\n",
        "l"
      ],
      "metadata": {
        "colab": {
          "base_uri": "https://localhost:8080/"
        },
        "id": "7T23VYP5115d",
        "outputId": "21cbba42-e93e-4939-eb89-41282a8940bb"
      },
      "execution_count": null,
      "outputs": [
        {
          "output_type": "execute_result",
          "data": {
            "text/plain": [
              "[1, 2, 3, 4, 5, 6]"
            ]
          },
          "metadata": {},
          "execution_count": 32
        }
      ]
    },
    {
      "cell_type": "code",
      "source": [
        "l.reverse()\n"
      ],
      "metadata": {
        "colab": {
          "base_uri": "https://localhost:8080/"
        },
        "id": "Bc8hxKBn19jJ",
        "outputId": "d54321b9-345a-4500-c463-9a0f03a7e394"
      },
      "execution_count": null,
      "outputs": [
        {
          "output_type": "execute_result",
          "data": {
            "text/plain": [
              "[6, 5, 4, 3, 2, 1]"
            ]
          },
          "metadata": {},
          "execution_count": 6
        }
      ]
    },
    {
      "cell_type": "code",
      "source": [
        "l.pop(5)\n",
        "l"
      ],
      "metadata": {
        "colab": {
          "base_uri": "https://localhost:8080/"
        },
        "id": "k9DFSn3g2KRa",
        "outputId": "24ca6d1d-23dc-4b44-d464-6897461c72df"
      },
      "execution_count": null,
      "outputs": [
        {
          "output_type": "execute_result",
          "data": {
            "text/plain": [
              "[1, 2, 3, 4, 5]"
            ]
          },
          "metadata": {},
          "execution_count": 31
        }
      ]
    },
    {
      "cell_type": "code",
      "source": [
        "l.extend(l)\n",
        "l"
      ],
      "metadata": {
        "colab": {
          "base_uri": "https://localhost:8080/"
        },
        "id": "hY9MH60D2Y_A",
        "outputId": "b35328c4-909f-464e-d2aa-16b71b3e347f"
      },
      "execution_count": null,
      "outputs": [
        {
          "output_type": "execute_result",
          "data": {
            "text/plain": [
              "[1, 2, 3, 4, 5, 6, 1, 2, 3, 4, 5, 6]"
            ]
          },
          "metadata": {},
          "execution_count": 28
        }
      ]
    },
    {
      "cell_type": "code",
      "source": [
        "l.append([77])\n",
        "l"
      ],
      "metadata": {
        "colab": {
          "base_uri": "https://localhost:8080/"
        },
        "id": "YXydqWA73VTG",
        "outputId": "30003926-9397-4709-c620-8220a76e8ecd"
      },
      "execution_count": null,
      "outputs": [
        {
          "output_type": "execute_result",
          "data": {
            "text/plain": [
              "[1, 2, 3, 4, 5, 6, 77, [77]]"
            ]
          },
          "metadata": {},
          "execution_count": 35
        }
      ]
    },
    {
      "cell_type": "code",
      "source": [
        "l[-1]"
      ],
      "metadata": {
        "colab": {
          "base_uri": "https://localhost:8080/"
        },
        "id": "IB2To8jm40vx",
        "outputId": "d8e2bd4f-017b-4817-e91c-c79ff9004304"
      },
      "execution_count": null,
      "outputs": [
        {
          "output_type": "execute_result",
          "data": {
            "text/plain": [
              "[77]"
            ]
          },
          "metadata": {},
          "execution_count": 36
        }
      ]
    },
    {
      "cell_type": "code",
      "source": [
        "l[-1][0]"
      ],
      "metadata": {
        "colab": {
          "base_uri": "https://localhost:8080/"
        },
        "id": "E7lCtDrJ5DHD",
        "outputId": "179250a6-f376-42ac-ca6e-51d3f1535b46"
      },
      "execution_count": null,
      "outputs": [
        {
          "output_type": "execute_result",
          "data": {
            "text/plain": [
              "77"
            ]
          },
          "metadata": {},
          "execution_count": 37
        }
      ]
    },
    {
      "cell_type": "code",
      "source": [
        "l[-1][0]+2"
      ],
      "metadata": {
        "colab": {
          "base_uri": "https://localhost:8080/"
        },
        "id": "Vy-OhHQ25H_-",
        "outputId": "11232e1c-1c07-47b7-84ad-6037d524173a"
      },
      "execution_count": null,
      "outputs": [
        {
          "output_type": "execute_result",
          "data": {
            "text/plain": [
              "79"
            ]
          },
          "metadata": {},
          "execution_count": 38
        }
      ]
    },
    {
      "cell_type": "markdown",
      "source": [
        "TUPLAS\n"
      ],
      "metadata": {
        "id": "2MyR6v9d5Wnd"
      }
    },
    {
      "cell_type": "code",
      "source": [
        "j=(2,3)"
      ],
      "metadata": {
        "id": "opqlyd5A5cqF"
      },
      "execution_count": null,
      "outputs": []
    },
    {
      "cell_type": "code",
      "source": [
        "dir(j)"
      ],
      "metadata": {
        "colab": {
          "base_uri": "https://localhost:8080/"
        },
        "id": "esZinfJb5jNe",
        "outputId": "36d7cbbc-1ac2-42f7-c470-37ae7f3503fe"
      },
      "execution_count": null,
      "outputs": [
        {
          "output_type": "execute_result",
          "data": {
            "text/plain": [
              "['__add__',\n",
              " '__class__',\n",
              " '__contains__',\n",
              " '__delattr__',\n",
              " '__dir__',\n",
              " '__doc__',\n",
              " '__eq__',\n",
              " '__format__',\n",
              " '__ge__',\n",
              " '__getattribute__',\n",
              " '__getitem__',\n",
              " '__getnewargs__',\n",
              " '__gt__',\n",
              " '__hash__',\n",
              " '__init__',\n",
              " '__init_subclass__',\n",
              " '__iter__',\n",
              " '__le__',\n",
              " '__len__',\n",
              " '__lt__',\n",
              " '__mul__',\n",
              " '__ne__',\n",
              " '__new__',\n",
              " '__reduce__',\n",
              " '__reduce_ex__',\n",
              " '__repr__',\n",
              " '__rmul__',\n",
              " '__setattr__',\n",
              " '__sizeof__',\n",
              " '__str__',\n",
              " '__subclasshook__',\n",
              " 'count',\n",
              " 'index']"
            ]
          },
          "metadata": {},
          "execution_count": 41
        }
      ]
    },
    {
      "cell_type": "code",
      "source": [
        "y=(12,3,3,2,4,4,\"hola\",[2,3,3,],(2.3),(2,3))"
      ],
      "metadata": {
        "id": "g5rayxKJ58aO"
      },
      "execution_count": null,
      "outputs": []
    },
    {
      "cell_type": "code",
      "source": [
        "y.count(\"hola\")"
      ],
      "metadata": {
        "colab": {
          "base_uri": "https://localhost:8080/"
        },
        "id": "mUPwsAg46ikJ",
        "outputId": "80600b56-05a9-4551-9c38-24ebee4cda83"
      },
      "execution_count": null,
      "outputs": [
        {
          "output_type": "execute_result",
          "data": {
            "text/plain": [
              "1"
            ]
          },
          "metadata": {},
          "execution_count": 47
        }
      ]
    },
    {
      "cell_type": "code",
      "source": [
        "y.index(\"hola\")"
      ],
      "metadata": {
        "colab": {
          "base_uri": "https://localhost:8080/"
        },
        "id": "ydYOwHCN6olK",
        "outputId": "73846276-9c3d-4e56-84d7-6ac88e67f119"
      },
      "execution_count": null,
      "outputs": [
        {
          "output_type": "execute_result",
          "data": {
            "text/plain": [
              "6"
            ]
          },
          "metadata": {},
          "execution_count": 48
        }
      ]
    },
    {
      "cell_type": "markdown",
      "source": [
        "index con elementos repetidos "
      ],
      "metadata": {
        "id": "bGAn3aaF7CEQ"
      }
    },
    {
      "cell_type": "code",
      "source": [
        "y.index(\"hola\",0,11)"
      ],
      "metadata": {
        "colab": {
          "base_uri": "https://localhost:8080/"
        },
        "id": "YrrkHoXv7Huc",
        "outputId": "3aead63a-5b22-48af-9912-0e2230f3c75f"
      },
      "execution_count": null,
      "outputs": [
        {
          "output_type": "execute_result",
          "data": {
            "text/plain": [
              "6"
            ]
          },
          "metadata": {},
          "execution_count": 49
        }
      ]
    },
    {
      "cell_type": "code",
      "source": [
        "Y=list(y)\n",
        "Y"
      ],
      "metadata": {
        "colab": {
          "base_uri": "https://localhost:8080/"
        },
        "id": "HIH8nmJW7eoU",
        "outputId": "8e3c5371-62c8-48ad-e8d1-f264aff35840"
      },
      "execution_count": null,
      "outputs": [
        {
          "output_type": "execute_result",
          "data": {
            "text/plain": [
              "[12, 3, 3, 2, 4, 4, 'hola', [2, 3, 3], 2.3, (2, 3)]"
            ]
          },
          "metadata": {},
          "execution_count": 52
        }
      ]
    },
    {
      "cell_type": "markdown",
      "source": [
        "sort organiza listas con criterio comun"
      ],
      "metadata": {
        "id": "F0EqVmfo7qwS"
      }
    },
    {
      "cell_type": "code",
      "source": [
        "lista1=[1,2,3]\n",
        "lista2=lista1.copy()"
      ],
      "metadata": {
        "id": "a04I-XwZ8LpN"
      },
      "execution_count": null,
      "outputs": []
    },
    {
      "cell_type": "code",
      "source": [
        "print(id(lista1),id(lista2))"
      ],
      "metadata": {
        "colab": {
          "base_uri": "https://localhost:8080/"
        },
        "id": "Yx7bQiET8pJR",
        "outputId": "410e1548-bad9-409d-9c2d-45a3015ecc7f"
      },
      "execution_count": null,
      "outputs": [
        {
          "output_type": "stream",
          "name": "stdout",
          "text": [
            "139763784078272 139763783486432\n"
          ]
        }
      ]
    },
    {
      "cell_type": "code",
      "source": [
        "lista3=[1,2,3,[4,5],(6,7)]\n",
        "import copy\n",
        "lista4=copy.deepcopy(lista3)\n",
        "print(id(lista3),id(lista4))"
      ],
      "metadata": {
        "colab": {
          "base_uri": "https://localhost:8080/"
        },
        "id": "bAIYjp4t9ZYf",
        "outputId": "9a431ff5-c157-41d0-b401-15c25df2e08c"
      },
      "execution_count": null,
      "outputs": [
        {
          "output_type": "stream",
          "name": "stdout",
          "text": [
            "139763783284928 139763783088720\n"
          ]
        }
      ]
    },
    {
      "cell_type": "markdown",
      "source": [
        "CONDICIONAL"
      ],
      "metadata": {
        "id": "G6JFciYgBjmn"
      }
    },
    {
      "cell_type": "markdown",
      "source": [
        "IF"
      ],
      "metadata": {
        "id": "QBFF7TQCFynC"
      }
    },
    {
      "cell_type": "code",
      "source": [
        "edad=12\n",
        "if edad >=18:\n",
        "  print(\"Es mayor de edad\")\n",
        "else:\n",
        "  print(\"Es menor de edad\")"
      ],
      "metadata": {
        "colab": {
          "base_uri": "https://localhost:8080/"
        },
        "id": "PE4c6QqoBcao",
        "outputId": "46aad6ff-e1d5-4ada-83c3-933a49afe755"
      },
      "execution_count": null,
      "outputs": [
        {
          "output_type": "stream",
          "name": "stdout",
          "text": [
            "Es menor de edad\n"
          ]
        }
      ]
    },
    {
      "cell_type": "code",
      "source": [
        "calificacion=[]\n",
        "if calificacion: #verdadero\n",
        "  print(\"el estudiante existe\")\n",
        "else:\n",
        "  print(\"no existe\")  "
      ],
      "metadata": {
        "colab": {
          "base_uri": "https://localhost:8080/"
        },
        "id": "t0dx9QlYFyDl",
        "outputId": "294c3f3a-a5d4-4243-b5b6-5fbeb0b61eb3"
      },
      "execution_count": null,
      "outputs": [
        {
          "output_type": "stream",
          "name": "stdout",
          "text": [
            "no existe\n"
          ]
        }
      ]
    },
    {
      "cell_type": "code",
      "source": [
        "calificacion=5\n",
        "if calificacion >=0 and calificacion <1:\n",
        "  print(\"D\")\n",
        "elif  calificacion >=1 and calificacion <2:\n",
        "  print(\"I\")\n",
        "elif calificacion >=2 and calificacion <3:  \n",
        "  print(\"A\")\n",
        "elif calificacion >=3 and calificacion <4:  \n",
        "  print(\"S\")\n",
        "elif calificacion >=4 and calificacion <=5: \n",
        "  print(\"E\")\n",
        "else:\n",
        "  print(\"calificacion incorrecta\")   \n"
      ],
      "metadata": {
        "colab": {
          "base_uri": "https://localhost:8080/"
        },
        "id": "F0ebWmP6G2T_",
        "outputId": "e302d1c6-0645-42f1-a58e-c3fb17b603fc"
      },
      "execution_count": null,
      "outputs": [
        {
          "output_type": "stream",
          "name": "stdout",
          "text": [
            "E\n"
          ]
        }
      ]
    },
    {
      "cell_type": "markdown",
      "source": [
        "FOR"
      ],
      "metadata": {
        "id": "If1vgtDYKDOW"
      }
    },
    {
      "cell_type": "code",
      "source": [
        "lista4"
      ],
      "metadata": {
        "colab": {
          "base_uri": "https://localhost:8080/"
        },
        "id": "AzG5bV9FIZdA",
        "outputId": "076acd33-5e07-46f7-f25d-74bc730f0d6e"
      },
      "execution_count": null,
      "outputs": [
        {
          "output_type": "execute_result",
          "data": {
            "text/plain": [
              "[1, 2, 3, [4, 5], (6, 7)]"
            ]
          },
          "metadata": {},
          "execution_count": 70
        }
      ]
    },
    {
      "cell_type": "code",
      "source": [
        "for i in lista4:\n",
        "  print(i)"
      ],
      "metadata": {
        "colab": {
          "base_uri": "https://localhost:8080/"
        },
        "id": "d_960ed2K4X3",
        "outputId": "da0c0e0c-b503-4532-b301-4e6d043c447c"
      },
      "execution_count": null,
      "outputs": [
        {
          "output_type": "stream",
          "name": "stdout",
          "text": [
            "1\n",
            "2\n",
            "3\n",
            "[4, 5]\n",
            "(6, 7)\n"
          ]
        }
      ]
    },
    {
      "cell_type": "code",
      "source": [
        "list(enumerate(lista4))"
      ],
      "metadata": {
        "colab": {
          "base_uri": "https://localhost:8080/"
        },
        "id": "hCVo8Pf9LbzS",
        "outputId": "4dd4e4af-535f-4ab6-fecc-c26404a070a3"
      },
      "execution_count": null,
      "outputs": [
        {
          "output_type": "execute_result",
          "data": {
            "text/plain": [
              "[(0, 1), (1, 2), (2, 3), (3, [4, 5]), (4, (6, 7))]"
            ]
          },
          "metadata": {},
          "execution_count": 75
        }
      ]
    },
    {
      "cell_type": "code",
      "source": [
        "for i in list(enumerate(lista4)):\n",
        "  print(i)"
      ],
      "metadata": {
        "colab": {
          "base_uri": "https://localhost:8080/"
        },
        "id": "coRJjWrKLoIy",
        "outputId": "7479b34e-fdd3-43aa-b04f-74ef63dd3a67"
      },
      "execution_count": null,
      "outputs": [
        {
          "output_type": "stream",
          "name": "stdout",
          "text": [
            "(0, 1)\n",
            "(1, 2)\n",
            "(2, 3)\n",
            "(3, [4, 5])\n",
            "(4, (6, 7))\n"
          ]
        }
      ]
    },
    {
      "cell_type": "code",
      "source": [
        "for i in list(enumerate(lista4)):\n",
        "  indice,elemento=i\n",
        "  print(indice)"
      ],
      "metadata": {
        "colab": {
          "base_uri": "https://localhost:8080/"
        },
        "id": "tahJTtU3L2mU",
        "outputId": "d22f2173-8556-4db6-f92d-bcefa00dd10f"
      },
      "execution_count": null,
      "outputs": [
        {
          "output_type": "stream",
          "name": "stdout",
          "text": [
            "0\n",
            "1\n",
            "2\n",
            "3\n",
            "4\n"
          ]
        }
      ]
    },
    {
      "cell_type": "code",
      "source": [
        "for i in list(enumerate(lista4)):\n",
        "  indice,elemento=i\n",
        "  print(indice)\n",
        "  if indice==3:\n",
        "    break"
      ],
      "metadata": {
        "colab": {
          "base_uri": "https://localhost:8080/"
        },
        "id": "tTCoqEq1MlWh",
        "outputId": "73a005de-e309-4f90-8866-d343be17a07c"
      },
      "execution_count": null,
      "outputs": [
        {
          "output_type": "stream",
          "name": "stdout",
          "text": [
            "0\n",
            "1\n",
            "2\n",
            "3\n"
          ]
        }
      ]
    },
    {
      "cell_type": "code",
      "source": [
        "for i in list(enumerate(lista4)):\n",
        "  indice,elemento=i\n",
        "  print(indice)\n",
        "else:\n",
        "  print(\"operacion termina\")  "
      ],
      "metadata": {
        "colab": {
          "base_uri": "https://localhost:8080/"
        },
        "id": "TWXB6qjRNAkT",
        "outputId": "60479324-cbd7-4005-8152-02c578aae155"
      },
      "execution_count": null,
      "outputs": [
        {
          "output_type": "stream",
          "name": "stdout",
          "text": [
            "0\n",
            "1\n",
            "2\n",
            "3\n",
            "4\n",
            "operacion termina\n"
          ]
        }
      ]
    },
    {
      "cell_type": "markdown",
      "source": [
        "WHILE"
      ],
      "metadata": {
        "id": "MgFgRNjNNUp2"
      }
    },
    {
      "cell_type": "code",
      "source": [
        ""
      ],
      "metadata": {
        "id": "iIdZW7nPN1OX"
      },
      "execution_count": null,
      "outputs": []
    },
    {
      "cell_type": "markdown",
      "source": [
        "RANGE"
      ],
      "metadata": {
        "id": "znsPv6lvN1rD"
      }
    },
    {
      "cell_type": "code",
      "source": [
        "for i in range(1,9,2):\n",
        "  print(i)"
      ],
      "metadata": {
        "colab": {
          "base_uri": "https://localhost:8080/"
        },
        "id": "Gy2C8jrWN3n7",
        "outputId": "c5e8b7bc-e99b-47b3-dc30-b44285491c0b"
      },
      "execution_count": null,
      "outputs": [
        {
          "output_type": "stream",
          "name": "stdout",
          "text": [
            "1\n",
            "3\n",
            "5\n",
            "7\n"
          ]
        }
      ]
    },
    {
      "cell_type": "code",
      "source": [
        "range(2,9,1)\n",
        "list(range(2,9,1))"
      ],
      "metadata": {
        "colab": {
          "base_uri": "https://localhost:8080/"
        },
        "id": "p56GeYi9OCJ2",
        "outputId": "0a7a2142-8384-43f6-c58d-a87dd3cac4b3"
      },
      "execution_count": null,
      "outputs": [
        {
          "output_type": "execute_result",
          "data": {
            "text/plain": [
              "[2, 3, 4, 5, 6, 7, 8]"
            ]
          },
          "metadata": {},
          "execution_count": 85
        }
      ]
    },
    {
      "cell_type": "markdown",
      "source": [
        "EJERCIO 1"
      ],
      "metadata": {
        "id": "cJx9O0MpOU0p"
      }
    },
    {
      "cell_type": "code",
      "source": [
        "a=int(input(\"Ingrese primer entero\"))\n",
        "b=int(input(\"Ingrese segundo entero\"))\n",
        "if a==b:\n",
        "  print(\"Si, los numeros son iguales\")\n",
        "else:\n",
        "  print(\"No, los numeros son diferentes\")  "
      ],
      "metadata": {
        "colab": {
          "base_uri": "https://localhost:8080/"
        },
        "id": "t2ZNnZPTOUYJ",
        "outputId": "687bc21b-c4b6-41c3-85f6-ba64e966e891"
      },
      "execution_count": null,
      "outputs": [
        {
          "output_type": "stream",
          "name": "stdout",
          "text": [
            "Ingrese primer entero14\n",
            "Ingrese segundo entero50\n",
            "No, los numeros son diferentes\n"
          ]
        }
      ]
    },
    {
      "cell_type": "markdown",
      "source": [
        "EJERCICIO 2"
      ],
      "metadata": {
        "id": "7grSMicnQ0_g"
      }
    },
    {
      "cell_type": "code",
      "source": [
        "a=int(input(\"Ingrese numero\"))\n",
        "if a%2==0:\n",
        "  print(\"Par\")\n",
        "else:\n",
        "  print(\"Impar\")  "
      ],
      "metadata": {
        "colab": {
          "base_uri": "https://localhost:8080/"
        },
        "id": "GCZz2RbwQ3rp",
        "outputId": "990d41aa-1336-4880-adc7-13ae27652ad7"
      },
      "execution_count": null,
      "outputs": [
        {
          "output_type": "stream",
          "name": "stdout",
          "text": [
            "Ingrese numero7\n",
            "Impar\n"
          ]
        }
      ]
    },
    {
      "cell_type": "markdown",
      "source": [
        "EJERCICIO 3"
      ],
      "metadata": {
        "id": "gfP1d87ySuqR"
      }
    },
    {
      "cell_type": "code",
      "source": [
        "a=int(input(\"Ingrese numero\"))\n",
        "if a<0:\n",
        "  print(\"El numero es negativo\")\n",
        "else:\n",
        "  print(\"El numero es positivo\")"
      ],
      "metadata": {
        "colab": {
          "base_uri": "https://localhost:8080/"
        },
        "id": "dV1o6pq2SxuG",
        "outputId": "2ffc131c-b8f2-4921-f090-0910e581c105"
      },
      "execution_count": null,
      "outputs": [
        {
          "output_type": "stream",
          "name": "stdout",
          "text": [
            "Ingrese numero-8\n",
            "El numero es negativo\n"
          ]
        }
      ]
    },
    {
      "cell_type": "markdown",
      "source": [
        "EJERCICIO 4"
      ],
      "metadata": {
        "id": "BSmb71isTnfW"
      }
    },
    {
      "cell_type": "code",
      "source": [
        "L=[1,33,52,65,123,32]\n",
        "suma=0\n",
        "for i in L:\n",
        "  suma=suma+i\n",
        "print(suma)  "
      ],
      "metadata": {
        "colab": {
          "base_uri": "https://localhost:8080/"
        },
        "id": "5k4D9tkBTqVE",
        "outputId": "49aaf63e-68bd-4b5a-cac1-67fa8ce6efec"
      },
      "execution_count": null,
      "outputs": [
        {
          "output_type": "stream",
          "name": "stdout",
          "text": [
            "306\n"
          ]
        }
      ]
    },
    {
      "cell_type": "markdown",
      "source": [
        "EJERCICIOS"
      ],
      "metadata": {
        "id": "hsYQ71i0QR5o"
      }
    },
    {
      "cell_type": "markdown",
      "source": [
        "1. Programa que encuentre todos los numeros que son divisiblen entre 7 pero no son multiplos de 5 ente 2000 y 3200 ambos numeros incluidos "
      ],
      "metadata": {
        "id": "p9xC3lb8QU0I"
      }
    },
    {
      "cell_type": "code",
      "source": [
        "linf=2000\n",
        "lsup=3200\n",
        "k=0\n",
        "for i in range(linf,lsup+1,1):\n",
        "  if i%7==0 and i%5:\n",
        "    k+=1\n",
        "print(\"el total de números encontrados es: -> \",k)"
      ],
      "metadata": {
        "colab": {
          "base_uri": "https://localhost:8080/"
        },
        "id": "tlTThdaJQrpu",
        "outputId": "beb9a210-d8f2-4bea-dc86-3366924d4078"
      },
      "execution_count": null,
      "outputs": [
        {
          "output_type": "stream",
          "name": "stdout",
          "text": [
            "el total de números encontrados es: ->  138\n"
          ]
        }
      ]
    },
    {
      "cell_type": "markdown",
      "source": [
        "2.Escriba un programa que calcule si N es un numero primo "
      ],
      "metadata": {
        "id": "4VrcppbkTOq_"
      }
    },
    {
      "cell_type": "code",
      "source": [
        "N=1\n",
        "f=0 #flag-> bandera, señal\n",
        "for i in range(2,N):# No necesito N exacto, ni el 1\n",
        "  if N%i==0:\n",
        "    print(\"El número no es primo\")\n",
        "    f=1\n",
        "    break\n",
        "if f==0:# ==1 (verdadero!)\n",
        "  print('El número es primo')"
      ],
      "metadata": {
        "colab": {
          "base_uri": "https://localhost:8080/"
        },
        "id": "XOahKx0ATWJN",
        "outputId": "9c03d346-2d99-42c5-e076-f1fa9c1778d9"
      },
      "execution_count": null,
      "outputs": [
        {
          "output_type": "stream",
          "name": "stdout",
          "text": [
            "El número es primo\n"
          ]
        }
      ]
    },
    {
      "cell_type": "markdown",
      "source": [
        "3.Escriba un programa que calcule la suma de tos los elementos de una lista"
      ],
      "metadata": {
        "id": "Q-Ly6y2tUFZC"
      }
    },
    {
      "cell_type": "code",
      "source": [
        "lista=[1,2,3,4,5,6,7,8,9]\n",
        "suma_lista=sum(lista)\n",
        "suma_lista"
      ],
      "metadata": {
        "colab": {
          "base_uri": "https://localhost:8080/"
        },
        "id": "4Y9cOEO1UQCG",
        "outputId": "8b35e44b-22d7-42bb-f193-94fddb888650"
      },
      "execution_count": null,
      "outputs": [
        {
          "output_type": "execute_result",
          "data": {
            "text/plain": [
              "45"
            ]
          },
          "metadata": {},
          "execution_count": 12
        }
      ]
    },
    {
      "cell_type": "markdown",
      "source": [
        "4. Escriba un programa que cuente cuantos numeros son multiplos 2 de una lista "
      ],
      "metadata": {
        "id": "ZQ-donJhUwrT"
      }
    },
    {
      "cell_type": "code",
      "source": [
        "lista=[5,4,8,7,6,9,5,23]\n",
        "k=0\n",
        "for i in lista:\n",
        "  if i%2==0:\n",
        "    k=k+1\n",
        "print(k)    "
      ],
      "metadata": {
        "colab": {
          "base_uri": "https://localhost:8080/"
        },
        "id": "srvS7SkYU9iw",
        "outputId": "3778f6e6-4f1e-4a2b-bf2f-097959c31d4d"
      },
      "execution_count": null,
      "outputs": [
        {
          "output_type": "stream",
          "name": "stdout",
          "text": [
            "3\n"
          ]
        }
      ]
    },
    {
      "cell_type": "markdown",
      "source": [
        "5. Escriba un programa qu einvierta una cadena de texto"
      ],
      "metadata": {
        "id": "R7Lxs25IV7o7"
      }
    },
    {
      "cell_type": "code",
      "source": [
        "cadena= \"John\"\n",
        "list_cadena=list(cadena)\n",
        "list_cadena\n",
        "list_cadena.reverse()\n",
        "' '.join([str(elem) for elem in list_cadena])"
      ],
      "metadata": {
        "colab": {
          "base_uri": "https://localhost:8080/",
          "height": 35
        },
        "id": "v70EBxnHWFJe",
        "outputId": "0876c7a2-4133-4bc8-a436-6b4f2a49eaae"
      },
      "execution_count": null,
      "outputs": [
        {
          "output_type": "execute_result",
          "data": {
            "text/plain": [
              "'n h o J'"
            ],
            "application/vnd.google.colaboratory.intrinsic+json": {
              "type": "string"
            }
          },
          "metadata": {},
          "execution_count": 34
        }
      ]
    },
    {
      "cell_type": "markdown",
      "source": [
        "6. Escriba un programa que cuente cuantas veces aparece la letra \"a\" en una palabra"
      ],
      "metadata": {
        "id": "arML-4LlYWQk"
      }
    },
    {
      "cell_type": "code",
      "source": [
        "a=\"caracteristica\"\n",
        "a.count(\"a\")"
      ],
      "metadata": {
        "colab": {
          "base_uri": "https://localhost:8080/"
        },
        "id": "fGY9Nq-bYfE4",
        "outputId": "f55641e5-ae17-44b4-af76-1e1956e7ff0f"
      },
      "execution_count": null,
      "outputs": [
        {
          "output_type": "execute_result",
          "data": {
            "text/plain": [
              "3"
            ]
          },
          "metadata": {},
          "execution_count": 36
        }
      ]
    },
    {
      "cell_type": "markdown",
      "source": [
        "7.Escriba un programa que decida si dos contenedores son iguales "
      ],
      "metadata": {
        "id": "m7yfVu7mZJSc"
      }
    },
    {
      "cell_type": "code",
      "source": [
        "contenedor1= [4,5,5,(7,8),\"hola\"]\n",
        "contenedor2= [4,5,8 ,7,\"hola\"]\n",
        "if contenedor1==contenedor2:\n",
        "  print(\"los contenedores son iguales\")\n",
        "else:\n",
        "  print(\"los contenedores son diferentes\")"
      ],
      "metadata": {
        "colab": {
          "base_uri": "https://localhost:8080/"
        },
        "id": "-BXR2fdxZSOQ",
        "outputId": "31b737b3-bd18-4b56-a1ca-35ec42da8004"
      },
      "execution_count": null,
      "outputs": [
        {
          "output_type": "stream",
          "name": "stdout",
          "text": [
            "los contenedores son diferentes\n"
          ]
        }
      ]
    },
    {
      "cell_type": "markdown",
      "source": [
        "8. Escriba un programa que calcule el factorial de un numero "
      ],
      "metadata": {
        "id": "_33fPthCZ6yw"
      }
    },
    {
      "cell_type": "code",
      "source": [
        "a=int(input())\n",
        "fact=1\n",
        "if a==0:\n",
        "  fact=1\n",
        "else:\n",
        "  for i in range(2,a+1):\n",
        "    fact=fact*i\n",
        "print(fact)\n"
      ],
      "metadata": {
        "colab": {
          "base_uri": "https://localhost:8080/"
        },
        "id": "oZkT7z2paBV9",
        "outputId": "fb3ced53-0899-46e5-8f53-d8ded1bae914"
      },
      "execution_count": null,
      "outputs": [
        {
          "output_type": "stream",
          "name": "stdout",
          "text": [
            "1\n",
            "1\n"
          ]
        }
      ]
    },
    {
      "cell_type": "markdown",
      "source": [
        "9. Escriba un programa que dado dos numeros eleve el primero al segundo"
      ],
      "metadata": {
        "id": "C8GrswcQhgtc"
      }
    },
    {
      "cell_type": "code",
      "source": [
        "def a_potencia_b(a,b):\n",
        "  return a**b"
      ],
      "metadata": {
        "id": "KZjVIa3WhoHO"
      },
      "execution_count": 2,
      "outputs": []
    },
    {
      "cell_type": "code",
      "source": [
        "a_potencia_b(2,3)"
      ],
      "metadata": {
        "colab": {
          "base_uri": "https://localhost:8080/"
        },
        "id": "wDHluIW-7Qm5",
        "outputId": "30ab3b44-0219-4981-d816-8046d6c26730"
      },
      "execution_count": 3,
      "outputs": [
        {
          "output_type": "execute_result",
          "data": {
            "text/plain": [
              "8"
            ]
          },
          "metadata": {},
          "execution_count": 3
        }
      ]
    },
    {
      "cell_type": "markdown",
      "source": [
        "10. Escriba un programa que decida si un elemento se encuentra en un contenedor "
      ],
      "metadata": {
        "id": "XwCJjpyGjTq0"
      }
    },
    {
      "cell_type": "code",
      "source": [
        "a=int(input(\"elemento en el contenedor:\"))\n",
        "contenedor=int(input(\"elementos del contenedor:\"))\n",
        "contenedor_final=[]\n",
        "for i in range(contenedor):\n",
        "  contenedor_final.append(int(input()))\n",
        "\n",
        "if a in contenedor_final:\n",
        "  print(a, \"esta en el contenedor \")\n",
        "else:\n",
        "  print(a, \"no esta en el contenedor\")  "
      ],
      "metadata": {
        "colab": {
          "base_uri": "https://localhost:8080/"
        },
        "id": "Bd3Yw66bj9Zc",
        "outputId": "b59458f7-4804-4e79-b7f9-90c4fa7a72dc"
      },
      "execution_count": null,
      "outputs": [
        {
          "output_type": "stream",
          "name": "stdout",
          "text": [
            "elemento en el contenedor:4\n",
            "elementos del contenedor:2\n",
            "1\n",
            "2\n",
            "4 no esta en el contenedor\n"
          ]
        }
      ]
    },
    {
      "cell_type": "markdown",
      "source": [
        "DESEMPAQUETAR LISTAS O TUPLAS"
      ],
      "metadata": {
        "id": "oDotmzI01Kpr"
      }
    },
    {
      "cell_type": "code",
      "source": [
        "a=(1,2,3,5,4,7)\n",
        "b=[1,2,5,4,7,8]"
      ],
      "metadata": {
        "id": "S-eyy3Gj1QP_"
      },
      "execution_count": null,
      "outputs": []
    },
    {
      "cell_type": "code",
      "source": [
        "a,s,d,f,g,e=a"
      ],
      "metadata": {
        "id": "4AAyn9TF1rk5"
      },
      "execution_count": null,
      "outputs": []
    },
    {
      "cell_type": "code",
      "source": [
        "a+12"
      ],
      "metadata": {
        "colab": {
          "base_uri": "https://localhost:8080/"
        },
        "id": "dqPIGpRR1w0g",
        "outputId": "64c79986-88f7-4f2f-9c2b-6f164d4f6a07"
      },
      "execution_count": null,
      "outputs": [
        {
          "output_type": "execute_result",
          "data": {
            "text/plain": [
              "13"
            ]
          },
          "metadata": {},
          "execution_count": 11
        }
      ]
    },
    {
      "cell_type": "markdown",
      "source": [
        "CONJUTOS:SETS"
      ],
      "metadata": {
        "id": "uYX3W8262MYJ"
      }
    },
    {
      "cell_type": "code",
      "source": [
        "d={1,2,3}\n",
        "type(d)"
      ],
      "metadata": {
        "colab": {
          "base_uri": "https://localhost:8080/"
        },
        "id": "CjNRUU382P7U",
        "outputId": "be58f82e-114e-4ada-819a-165f41e26ca8"
      },
      "execution_count": null,
      "outputs": [
        {
          "output_type": "execute_result",
          "data": {
            "text/plain": [
              "set"
            ]
          },
          "metadata": {},
          "execution_count": 12
        }
      ]
    },
    {
      "cell_type": "code",
      "source": [
        "d={}\n",
        "type(d)"
      ],
      "metadata": {
        "colab": {
          "base_uri": "https://localhost:8080/"
        },
        "id": "q26Sysnb3O6n",
        "outputId": "852596fe-9c76-43ad-b35e-8debe905d808"
      },
      "execution_count": null,
      "outputs": [
        {
          "output_type": "execute_result",
          "data": {
            "text/plain": [
              "dict"
            ]
          },
          "metadata": {},
          "execution_count": 13
        }
      ]
    },
    {
      "cell_type": "code",
      "source": [
        "\n",
        "nombres={\"John\",\"Andres\",\"Cristiano\",\"Sergio\"}"
      ],
      "metadata": {
        "id": "4hgOJ5Bh3TEJ"
      },
      "execution_count": null,
      "outputs": []
    },
    {
      "cell_type": "code",
      "source": [
        "print(nombres)"
      ],
      "metadata": {
        "colab": {
          "base_uri": "https://localhost:8080/"
        },
        "id": "NERuo1jj3okZ",
        "outputId": "ecaafdf8-a132-4085-f7c5-bff057e9614e"
      },
      "execution_count": null,
      "outputs": [
        {
          "output_type": "stream",
          "name": "stdout",
          "text": [
            "{'John', 'Cristiano', 'Andres', 'Sergio'}\n"
          ]
        }
      ]
    },
    {
      "cell_type": "code",
      "source": [
        "for i in nombres:\n",
        "  print(i)"
      ],
      "metadata": {
        "colab": {
          "base_uri": "https://localhost:8080/"
        },
        "id": "hDXKPsRZ3xsF",
        "outputId": "3d889457-9c2f-4400-973c-5f4d030f7851"
      },
      "execution_count": null,
      "outputs": [
        {
          "output_type": "stream",
          "name": "stdout",
          "text": [
            "John\n",
            "Cristiano\n",
            "Andres\n",
            "Sergio\n"
          ]
        }
      ]
    },
    {
      "cell_type": "code",
      "source": [
        "sorted(nombres)"
      ],
      "metadata": {
        "colab": {
          "base_uri": "https://localhost:8080/"
        },
        "id": "Z8oQPOXc4-JD",
        "outputId": "7e75939f-68b2-416c-a4de-233267751fc1"
      },
      "execution_count": null,
      "outputs": [
        {
          "output_type": "execute_result",
          "data": {
            "text/plain": [
              "['Andres', 'Cristiano', 'John', 'Sergio']"
            ]
          },
          "metadata": {},
          "execution_count": 18
        }
      ]
    },
    {
      "cell_type": "code",
      "source": [
        "METODO .add()"
      ],
      "metadata": {
        "id": "EzO4QT6w5Pt1"
      },
      "execution_count": null,
      "outputs": []
    },
    {
      "cell_type": "code",
      "source": [
        "\n",
        "nombres.add(\"Sil\")\n",
        "nombres"
      ],
      "metadata": {
        "colab": {
          "base_uri": "https://localhost:8080/"
        },
        "id": "m9J76Lvr5TUd",
        "outputId": "8216df2c-8dfb-42ea-f123-8208a5a8e0a9"
      },
      "execution_count": null,
      "outputs": [
        {
          "output_type": "execute_result",
          "data": {
            "text/plain": [
              "{'Andres', 'Cristiano', 'John', 'Sergio', 'Sil'}"
            ]
          },
          "metadata": {},
          "execution_count": 20
        }
      ]
    },
    {
      "cell_type": "markdown",
      "source": [
        "METODO .remove()"
      ],
      "metadata": {
        "id": "AOMgNqQL5dIl"
      }
    },
    {
      "cell_type": "code",
      "source": [
        "\n",
        "nombres.remove(\"John\")\n",
        "nombres"
      ],
      "metadata": {
        "colab": {
          "base_uri": "https://localhost:8080/"
        },
        "id": "MzgeleUS5Y55",
        "outputId": "918523b3-6fa7-400c-a743-a1335d10a149"
      },
      "execution_count": null,
      "outputs": [
        {
          "output_type": "execute_result",
          "data": {
            "text/plain": [
              "{'Andres', 'Cristiano', 'Sergio', 'Sil'}"
            ]
          },
          "metadata": {},
          "execution_count": 25
        }
      ]
    },
    {
      "cell_type": "markdown",
      "source": [
        ".discard() no devuleve error si no encuntra el elemento x a remover "
      ],
      "metadata": {
        "id": "mU7XvuAN5whX"
      }
    },
    {
      "cell_type": "markdown",
      "source": [
        "METODO .pop"
      ],
      "metadata": {
        "id": "hT6u3OKB57kg"
      }
    },
    {
      "cell_type": "code",
      "source": [
        "nombres.pop()\n",
        "nombres"
      ],
      "metadata": {
        "colab": {
          "base_uri": "https://localhost:8080/"
        },
        "id": "b_M_YYzb53P1",
        "outputId": "33472424-1bcd-4d8a-fa3e-797265ce40aa"
      },
      "execution_count": null,
      "outputs": [
        {
          "output_type": "execute_result",
          "data": {
            "text/plain": [
              "{'Andres', 'Sergio'}"
            ]
          },
          "metadata": {},
          "execution_count": 27
        }
      ]
    },
    {
      "cell_type": "markdown",
      "source": [
        "METODO .copy() deepcopy SAME"
      ],
      "metadata": {
        "id": "K4SoHVKq6HKm"
      }
    },
    {
      "cell_type": "code",
      "source": [
        "nuevo_nombres=nombres.copy()\n",
        "nuevo_nombres"
      ],
      "metadata": {
        "colab": {
          "base_uri": "https://localhost:8080/"
        },
        "id": "HNb8xRrq6Cx9",
        "outputId": "87123da1-9d21-478a-a890-b71a51a2f472"
      },
      "execution_count": null,
      "outputs": [
        {
          "output_type": "execute_result",
          "data": {
            "text/plain": [
              "{'Andres', 'Sergio'}"
            ]
          },
          "metadata": {},
          "execution_count": 30
        }
      ]
    },
    {
      "cell_type": "markdown",
      "source": [
        "METODO .clear()"
      ],
      "metadata": {
        "id": "hDu3AzjU6lpk"
      }
    },
    {
      "cell_type": "code",
      "source": [
        "nombres.clear()\n",
        "nombres"
      ],
      "metadata": {
        "colab": {
          "base_uri": "https://localhost:8080/"
        },
        "id": "clD9Dmtc6lL5",
        "outputId": "e6abc29c-c527-4379-8ed5-7b153797cfdb"
      },
      "execution_count": null,
      "outputs": [
        {
          "output_type": "execute_result",
          "data": {
            "text/plain": [
              "set()"
            ]
          },
          "metadata": {},
          "execution_count": 32
        }
      ]
    },
    {
      "cell_type": "markdown",
      "source": [
        "OPERACIONES Y SUS OPERADORES EN CONJUNTOS \n"
      ],
      "metadata": {
        "id": "rDaaCqd961Ie"
      }
    },
    {
      "cell_type": "markdown",
      "source": [
        "OPERADOR in\n"
      ],
      "metadata": {
        "id": "Or9myT-z65cC"
      }
    },
    {
      "cell_type": "code",
      "source": [
        "\"Andres\" in nombres"
      ],
      "metadata": {
        "colab": {
          "base_uri": "https://localhost:8080/"
        },
        "id": "PEUcJ6Zg68om",
        "outputId": "b502332f-97b9-4c39-dfe2-11922070fe31"
      },
      "execution_count": null,
      "outputs": [
        {
          "output_type": "execute_result",
          "data": {
            "text/plain": [
              "False"
            ]
          },
          "metadata": {},
          "execution_count": 33
        }
      ]
    },
    {
      "cell_type": "markdown",
      "source": [
        "DIFERENCIA DE CONFUNJOS "
      ],
      "metadata": {
        "id": "csj616iy7GB4"
      }
    },
    {
      "cell_type": "code",
      "source": [
        "nuevo_nombres-nombres\n",
        "nuevo_nombres.difference(nombres)\n",
        "nuevo_nombres.difference_update(nombres)"
      ],
      "metadata": {
        "colab": {
          "base_uri": "https://localhost:8080/"
        },
        "id": "MGYl0NLw7J-d",
        "outputId": "11610d00-feff-4b3d-c4e3-6143378f293e"
      },
      "execution_count": null,
      "outputs": [
        {
          "output_type": "execute_result",
          "data": {
            "text/plain": [
              "set()"
            ]
          },
          "metadata": {},
          "execution_count": 40
        }
      ]
    },
    {
      "cell_type": "markdown",
      "source": [
        "INTERSECCION"
      ],
      "metadata": {
        "id": "hyjpmk7z766V"
      }
    },
    {
      "cell_type": "code",
      "source": [
        "nuevo_nombres & nombres\n",
        "nuevo_nombres.intersection(nombres)\n",
        "nuevo_nombres.intersection_update(nombres)"
      ],
      "metadata": {
        "id": "VVIMHUCB7jBI"
      },
      "execution_count": null,
      "outputs": []
    },
    {
      "cell_type": "markdown",
      "source": [
        "UNION"
      ],
      "metadata": {
        "id": "VhOMtlCX78pz"
      }
    },
    {
      "cell_type": "code",
      "source": [
        "nuevo_nombres | nombres\n",
        "nuevo_nombres.union(nombres)"
      ],
      "metadata": {
        "id": "po2Gvz177-d8"
      },
      "execution_count": null,
      "outputs": []
    },
    {
      "cell_type": "markdown",
      "source": [
        "DIFERENCIA SIMETRICA A|B-A & B"
      ],
      "metadata": {
        "id": "qCRu7xsd8LDg"
      }
    },
    {
      "cell_type": "code",
      "source": [
        "nuevo_nombres.symmetric_difference(nombres)\n",
        "nuevo_nombres.symmetric_difference_update(nombres)"
      ],
      "metadata": {
        "id": "BewWHW9c8YCo"
      },
      "execution_count": null,
      "outputs": []
    },
    {
      "cell_type": "markdown",
      "source": [
        "ACTUALIZAR CONJUNTO agregar los elementoas que  no existen "
      ],
      "metadata": {
        "id": "4JyhkQ9U8l0h"
      }
    },
    {
      "cell_type": "code",
      "source": [
        "nuevo_nombres.update([\"John\"])\n",
        "nuevo_nombres"
      ],
      "metadata": {
        "colab": {
          "base_uri": "https://localhost:8080/"
        },
        "id": "oZAN7b_x8lTB",
        "outputId": "e7fc0d4c-66f4-48cd-99a5-1dd3ad09bf8d"
      },
      "execution_count": null,
      "outputs": [
        {
          "output_type": "execute_result",
          "data": {
            "text/plain": [
              "{'Andres', 'Cristiano', 'John', 'Sergio'}"
            ]
          },
          "metadata": {},
          "execution_count": 42
        }
      ]
    },
    {
      "cell_type": "markdown",
      "source": [
        "OPERADORES BOLEANOS\n"
      ],
      "metadata": {
        "id": "IT5WiN-6DKqQ"
      }
    },
    {
      "cell_type": "markdown",
      "source": [
        "DISYUNTOS "
      ],
      "metadata": {
        "id": "b2Hpuh8CDMuu"
      }
    },
    {
      "cell_type": "code",
      "source": [
        "nuevo_nombres.isdisjoint(nombres)\n"
      ],
      "metadata": {
        "id": "U0toD4O_DJQJ"
      },
      "execution_count": null,
      "outputs": []
    },
    {
      "cell_type": "markdown",
      "source": [
        "SUBCONJUNTO O SUPERCONJUNTO"
      ],
      "metadata": {
        "id": "fkYq3vD1DZHY"
      }
    },
    {
      "cell_type": "code",
      "source": [
        "nuevo_nombres.issubset(nombres)\n",
        "nuevo_nombres.issuperset(nombres)"
      ],
      "metadata": {
        "id": "SrN-S62mDe-e"
      },
      "execution_count": null,
      "outputs": []
    },
    {
      "cell_type": "markdown",
      "source": [
        "DICCIONARIOS"
      ],
      "metadata": {
        "id": "ChoEOzxvDtBX"
      }
    },
    {
      "cell_type": "code",
      "source": [
        "edades={\"john\":22,\"andres\":23,\"sil\":23}\n",
        "edades"
      ],
      "metadata": {
        "colab": {
          "base_uri": "https://localhost:8080/"
        },
        "id": "M07vEdFoDsnW",
        "outputId": "16bcb743-2ffa-41df-8968-7863213aab9e"
      },
      "execution_count": null,
      "outputs": [
        {
          "output_type": "execute_result",
          "data": {
            "text/plain": [
              "{'andres': 23, 'john': 22, 'sil': 23}"
            ]
          },
          "metadata": {},
          "execution_count": 54
        }
      ]
    },
    {
      "cell_type": "markdown",
      "source": [
        "USO DE LA CLAVE"
      ],
      "metadata": {
        "id": "RTvHyB0kEnrN"
      }
    },
    {
      "cell_type": "code",
      "source": [
        "edades[\"john\"]"
      ],
      "metadata": {
        "colab": {
          "base_uri": "https://localhost:8080/"
        },
        "id": "q0BsCcb8EqdR",
        "outputId": "c5cf8d92-7df9-4f27-ca96-0ab5c0cd35b1"
      },
      "execution_count": null,
      "outputs": [
        {
          "output_type": "execute_result",
          "data": {
            "text/plain": [
              "22"
            ]
          },
          "metadata": {},
          "execution_count": 55
        }
      ]
    },
    {
      "cell_type": "code",
      "source": [
        "18 in edades"
      ],
      "metadata": {
        "colab": {
          "base_uri": "https://localhost:8080/"
        },
        "id": "lnr4tWqFE9Cc",
        "outputId": "836fa0aa-cdc9-41ac-d47a-eb755170c174"
      },
      "execution_count": null,
      "outputs": [
        {
          "output_type": "execute_result",
          "data": {
            "text/plain": [
              "False"
            ]
          },
          "metadata": {},
          "execution_count": 56
        }
      ]
    },
    {
      "cell_type": "code",
      "source": [
        "\"john\" in edades"
      ],
      "metadata": {
        "colab": {
          "base_uri": "https://localhost:8080/"
        },
        "id": "mPS8ER6FGGYK",
        "outputId": "f3193605-9e4d-427e-8b4d-d0c1430bb5a0"
      },
      "execution_count": null,
      "outputs": [
        {
          "output_type": "execute_result",
          "data": {
            "text/plain": [
              "True"
            ]
          },
          "metadata": {},
          "execution_count": 57
        }
      ]
    },
    {
      "cell_type": "code",
      "source": [
        "edades[\"john\"]+1"
      ],
      "metadata": {
        "colab": {
          "base_uri": "https://localhost:8080/"
        },
        "id": "vxeLcGd1GOLs",
        "outputId": "d82fbc8e-89f9-42fa-ce78-acb27ec8fffc"
      },
      "execution_count": null,
      "outputs": [
        {
          "output_type": "execute_result",
          "data": {
            "text/plain": [
              "23"
            ]
          },
          "metadata": {},
          "execution_count": 58
        }
      ]
    },
    {
      "cell_type": "markdown",
      "source": [
        ".get()"
      ],
      "metadata": {
        "id": "K0eWorXpGUAt"
      }
    },
    {
      "cell_type": "code",
      "source": [
        "edades.get(\"juanis\",0)"
      ],
      "metadata": {
        "colab": {
          "base_uri": "https://localhost:8080/"
        },
        "id": "sqCIf0jgGYQQ",
        "outputId": "a8da9106-947b-47f5-a044-01793e3f2cff"
      },
      "execution_count": null,
      "outputs": [
        {
          "output_type": "execute_result",
          "data": {
            "text/plain": [
              "0"
            ]
          },
          "metadata": {},
          "execution_count": 69
        }
      ]
    },
    {
      "cell_type": "code",
      "source": [
        "edades.get(\"john\",0)"
      ],
      "metadata": {
        "colab": {
          "base_uri": "https://localhost:8080/"
        },
        "id": "g86f8jUtG9Bz",
        "outputId": "15661e89-c951-40eb-abc1-2c92737b9796"
      },
      "execution_count": null,
      "outputs": [
        {
          "output_type": "execute_result",
          "data": {
            "text/plain": [
              "22"
            ]
          },
          "metadata": {},
          "execution_count": 70
        }
      ]
    },
    {
      "cell_type": "markdown",
      "source": [
        ".setdefault()"
      ],
      "metadata": {
        "id": "-J8P7aKqHBrV"
      }
    },
    {
      "cell_type": "code",
      "source": [
        "edades"
      ],
      "metadata": {
        "colab": {
          "base_uri": "https://localhost:8080/"
        },
        "id": "QyWoAm1NHBT3",
        "outputId": "a4b27d5d-6b76-42ea-e8a8-3118e37c35aa"
      },
      "execution_count": null,
      "outputs": [
        {
          "output_type": "execute_result",
          "data": {
            "text/plain": [
              "{'andres': 23, 'john': 22, 'sil': 23}"
            ]
          },
          "metadata": {},
          "execution_count": 71
        }
      ]
    },
    {
      "cell_type": "code",
      "source": [
        "edades.setdefault(\"juan\",24)\n",
        "edades"
      ],
      "metadata": {
        "colab": {
          "base_uri": "https://localhost:8080/"
        },
        "id": "U_yVfHPHHGlQ",
        "outputId": "57599efd-91c1-4a86-9af0-3cf2f3624ac0"
      },
      "execution_count": null,
      "outputs": [
        {
          "output_type": "execute_result",
          "data": {
            "text/plain": [
              "{'andres': 23, 'john': 22, 'juan': 24, 'sil': 23}"
            ]
          },
          "metadata": {},
          "execution_count": 73
        }
      ]
    },
    {
      "cell_type": "markdown",
      "source": [
        ".items() .keys() .values()a"
      ],
      "metadata": {
        "id": "1KQjQDfHHTZB"
      }
    },
    {
      "cell_type": "code",
      "source": [
        "edades.items()"
      ],
      "metadata": {
        "colab": {
          "base_uri": "https://localhost:8080/"
        },
        "id": "0gQ8IsynHYbu",
        "outputId": "f0c2bd13-7685-4771-9747-82dbcd9af395"
      },
      "execution_count": null,
      "outputs": [
        {
          "output_type": "execute_result",
          "data": {
            "text/plain": [
              "dict_items([('john', 22), ('andres', 23), ('sil', 23), ('juan', 24)])"
            ]
          },
          "metadata": {},
          "execution_count": 74
        }
      ]
    },
    {
      "cell_type": "code",
      "source": [
        "edades.keys()"
      ],
      "metadata": {
        "colab": {
          "base_uri": "https://localhost:8080/"
        },
        "id": "7860Ok9KHiEW",
        "outputId": "02716fa6-a1b2-4ef5-fc86-4c93c17b8587"
      },
      "execution_count": null,
      "outputs": [
        {
          "output_type": "execute_result",
          "data": {
            "text/plain": [
              "dict_keys(['john', 'andres', 'sil', 'juan'])"
            ]
          },
          "metadata": {},
          "execution_count": 76
        }
      ]
    },
    {
      "cell_type": "code",
      "source": [
        "edades.values()"
      ],
      "metadata": {
        "colab": {
          "base_uri": "https://localhost:8080/"
        },
        "id": "TVtrGCFyHnts",
        "outputId": "89613ac2-59ba-4785-e7fe-6b486e70f53f"
      },
      "execution_count": null,
      "outputs": [
        {
          "output_type": "execute_result",
          "data": {
            "text/plain": [
              "dict_values([22, 23, 23, 24])"
            ]
          },
          "metadata": {},
          "execution_count": 77
        }
      ]
    },
    {
      "cell_type": "code",
      "source": [
        "for nombre,edad in edades.items():\n",
        "  print(nombre,edad)"
      ],
      "metadata": {
        "colab": {
          "base_uri": "https://localhost:8080/"
        },
        "id": "ruvo7E2VHqXF",
        "outputId": "a0aa9e38-2b26-45de-9c4c-5f429e285f8f"
      },
      "execution_count": null,
      "outputs": [
        {
          "output_type": "stream",
          "name": "stdout",
          "text": [
            "john 22\n",
            "andres 23\n",
            "sil 23\n",
            "juan 24\n"
          ]
        }
      ]
    },
    {
      "cell_type": "markdown",
      "source": [
        ".pop() .popitem()"
      ],
      "metadata": {
        "id": "nUIj59S1ICaB"
      }
    },
    {
      "cell_type": "code",
      "source": [
        "edades.pop(\"john\")"
      ],
      "metadata": {
        "colab": {
          "base_uri": "https://localhost:8080/"
        },
        "id": "0zpg48QxIJwx",
        "outputId": "ca87dfe1-da72-409f-d76e-f1ffbaeb3f51"
      },
      "execution_count": null,
      "outputs": [
        {
          "output_type": "execute_result",
          "data": {
            "text/plain": [
              "22"
            ]
          },
          "metadata": {},
          "execution_count": 84
        }
      ]
    },
    {
      "cell_type": "code",
      "source": [
        "edades.popitem()"
      ],
      "metadata": {
        "colab": {
          "base_uri": "https://localhost:8080/"
        },
        "id": "I-tiKY6oITlt",
        "outputId": "e29f8cf5-8562-439b-829c-00737945c1e1"
      },
      "execution_count": null,
      "outputs": [
        {
          "output_type": "execute_result",
          "data": {
            "text/plain": [
              "('juan', 24)"
            ]
          },
          "metadata": {},
          "execution_count": 86
        }
      ]
    },
    {
      "cell_type": "markdown",
      "source": [
        "EJERCICIOS"
      ],
      "metadata": {
        "id": "Z_lkcw2IJbY0"
      }
    },
    {
      "cell_type": "code",
      "source": [
        "precios={\"bananos\":300,\"manzanas\":1000,\"mangos\":800,\"piñas\":2200}"
      ],
      "metadata": {
        "id": "BqiEBP3cJdW-"
      },
      "execution_count": null,
      "outputs": []
    },
    {
      "cell_type": "markdown",
      "source": [
        "precio de 10 bananos mas 5 manzanas mas 3 mangos \n"
      ],
      "metadata": {
        "id": "sNdhj5r-JvHv"
      }
    },
    {
      "cell_type": "code",
      "source": [
        "precios[\"bananos\"]*10+precios[\"mangos\"]*3+precios[\"manzanas\"]*5"
      ],
      "metadata": {
        "colab": {
          "base_uri": "https://localhost:8080/"
        },
        "id": "QvsNYovsJ4Va",
        "outputId": "c247140b-7cfb-4271-fa1e-fdc6edccbb79"
      },
      "execution_count": null,
      "outputs": [
        {
          "output_type": "execute_result",
          "data": {
            "text/plain": [
              "10400"
            ]
          },
          "metadata": {},
          "execution_count": 89
        }
      ]
    },
    {
      "cell_type": "markdown",
      "source": [
        "dada frase, almacenar en u diccionario las letras y las veces que aparece la letra en la frase "
      ],
      "metadata": {
        "id": "xMEuq0xRKVS4"
      }
    },
    {
      "cell_type": "code",
      "source": [
        "frase=\"hola, damas y caballeros. Bienvenidos al curso de python\""
      ],
      "metadata": {
        "id": "JQ8fZxvvKnob"
      },
      "execution_count": null,
      "outputs": []
    },
    {
      "cell_type": "code",
      "source": [
        "set(frase)"
      ],
      "metadata": {
        "colab": {
          "base_uri": "https://localhost:8080/"
        },
        "id": "qVp-WixlLHqK",
        "outputId": "7b8a7b1a-0d0c-48f6-ef8e-d3c7a4178223"
      },
      "execution_count": null,
      "outputs": [
        {
          "output_type": "execute_result",
          "data": {
            "text/plain": [
              "{' ',\n",
              " ',',\n",
              " '.',\n",
              " 'B',\n",
              " 'a',\n",
              " 'b',\n",
              " 'c',\n",
              " 'd',\n",
              " 'e',\n",
              " 'h',\n",
              " 'i',\n",
              " 'l',\n",
              " 'm',\n",
              " 'n',\n",
              " 'o',\n",
              " 'p',\n",
              " 'r',\n",
              " 's',\n",
              " 't',\n",
              " 'u',\n",
              " 'v',\n",
              " 'y'}"
            ]
          },
          "metadata": {},
          "execution_count": 91
        }
      ]
    },
    {
      "cell_type": "code",
      "source": [
        "respuesta={}\n",
        "for i in set(frase):\n",
        "  respuesta[i]=frase.count(i)\n",
        "respuesta"
      ],
      "metadata": {
        "colab": {
          "base_uri": "https://localhost:8080/"
        },
        "id": "v2ADIEFQMBDu",
        "outputId": "4855d6bc-1500-4b3e-eda3-eba030bd5dd6"
      },
      "execution_count": null,
      "outputs": [
        {
          "output_type": "execute_result",
          "data": {
            "text/plain": [
              "{' ': 8,\n",
              " ',': 1,\n",
              " '.': 1,\n",
              " 'B': 1,\n",
              " 'a': 6,\n",
              " 'b': 1,\n",
              " 'c': 2,\n",
              " 'd': 3,\n",
              " 'e': 4,\n",
              " 'h': 2,\n",
              " 'i': 2,\n",
              " 'l': 4,\n",
              " 'm': 1,\n",
              " 'n': 3,\n",
              " 'o': 5,\n",
              " 'p': 1,\n",
              " 'r': 2,\n",
              " 's': 4,\n",
              " 't': 1,\n",
              " 'u': 1,\n",
              " 'v': 1,\n",
              " 'y': 2}"
            ]
          },
          "metadata": {},
          "execution_count": 92
        }
      ]
    },
    {
      "cell_type": "markdown",
      "source": [
        "EJERCICIOS"
      ],
      "metadata": {
        "id": "UkyaPUr6xYKR"
      }
    },
    {
      "cell_type": "markdown",
      "source": [
        "1."
      ],
      "metadata": {
        "id": "bEVDzxQoyMfJ"
      }
    },
    {
      "cell_type": "code",
      "source": [
        "grades = {'juan':(5.0, 5.0,4.9,4.0), 'david': (1.0,3.0,4.5,5.0), 'jose':(2.0,1.0,3.5,5.0), 'daniela':(0.0,5.0,5.0,5.0) }\n",
        "dic= dict()\n",
        "for nombre, notas in grades.items():\n",
        "  dic[nombre]=round(sum(notas)/len(grades.items()),2)\n",
        "print(dic) "
      ],
      "metadata": {
        "id": "xQEK9EaAyQTb"
      },
      "execution_count": null,
      "outputs": []
    },
    {
      "cell_type": "markdown",
      "source": [
        "2."
      ],
      "metadata": {
        "id": "w8fcBp1XyqmZ"
      }
    },
    {
      "cell_type": "code",
      "source": [
        "grades = {'juan':[5.0, 5.0,4.9,4.0], 'david': [1.0,3.0,4.5,5.0], 'jose':[2.0,1.0,3.5,5.0], 'daniela':[0.0,5.0,5.0,5.0] }\n",
        "grades\n",
        "dic= dict()\n",
        "for nombre, notas in grades.items():\n",
        "  notas.sort(reverse=True)\n",
        "  dic[nombre]=round(sum(notas[0:3])/len(notas[0:3]),2)\n",
        "print(dic)"
      ],
      "metadata": {
        "colab": {
          "base_uri": "https://localhost:8080/"
        },
        "id": "kaKQpQjpyrzJ",
        "outputId": "b0499f25-e896-4b96-9fd4-c6b307a8c537"
      },
      "execution_count": null,
      "outputs": [
        {
          "output_type": "stream",
          "name": "stdout",
          "text": [
            "{'juan': 4.97, 'david': 4.17, 'jose': 3.5, 'daniela': 5.0}\n"
          ]
        }
      ]
    },
    {
      "cell_type": "markdown",
      "source": [
        "3."
      ],
      "metadata": {
        "id": "Jrry7zq70WkD"
      }
    },
    {
      "cell_type": "code",
      "source": [
        "d={}\n",
        "for i in range(0,5+1):\n",
        "  n=input(\"nombre\")\n",
        "  e=int(input(\"edad\"))\n",
        "  d[n]=e\n",
        "d"
      ],
      "metadata": {
        "colab": {
          "base_uri": "https://localhost:8080/"
        },
        "id": "CsFGTFgX0X_B",
        "outputId": "fe15533b-ed0b-4cb1-8cf2-ad0537e12058"
      },
      "execution_count": null,
      "outputs": [
        {
          "name": "stdout",
          "output_type": "stream",
          "text": [
            "nombrejohn\n",
            "edad23\n",
            "nombresil\n",
            "edad21\n",
            "nombreandres\n",
            "edad25\n",
            "nombrecarlos\n",
            "edad7\n",
            "nombresamu\n",
            "edad5\n",
            "nombreisa\n",
            "edad9\n"
          ]
        },
        {
          "output_type": "execute_result",
          "data": {
            "text/plain": [
              "{'andres': 25, 'carlos': 7, 'isa': 9, 'john': 23, 'samu': 5, 'sil': 21}"
            ]
          },
          "metadata": {},
          "execution_count": 72
        }
      ]
    },
    {
      "cell_type": "markdown",
      "source": [
        "Programa que una dos diccionarios "
      ],
      "metadata": {
        "id": "TC9kn02e13JZ"
      }
    },
    {
      "cell_type": "code",
      "source": [
        "a={\"dd\":3,\"ee\":4}\n",
        "b={\"aa\":5,\"ff\":6}\n",
        "a.update(b)\n",
        "a"
      ],
      "metadata": {
        "colab": {
          "base_uri": "https://localhost:8080/"
        },
        "id": "dd3Rm5EV16IB",
        "outputId": "7ae90857-4668-452f-9459-f5d812d826b4"
      },
      "execution_count": null,
      "outputs": [
        {
          "output_type": "execute_result",
          "data": {
            "text/plain": [
              "{'aa': 5, 'dd': 3, 'ee': 4, 'ff': 6}"
            ]
          },
          "metadata": {},
          "execution_count": 69
        }
      ]
    },
    {
      "cell_type": "markdown",
      "source": [
        "Programa para saber si una key(clave) esta en un diccionario "
      ],
      "metadata": {
        "id": "GL9_Vf6n2fWz"
      }
    },
    {
      "cell_type": "code",
      "source": [
        "clave=\"dd\"\n",
        "clave in a"
      ],
      "metadata": {
        "colab": {
          "base_uri": "https://localhost:8080/"
        },
        "id": "UPtndOs22plt",
        "outputId": "5381b538-fbf2-48fa-e139-240b1579bdb7"
      },
      "execution_count": null,
      "outputs": [
        {
          "output_type": "execute_result",
          "data": {
            "text/plain": [
              "True"
            ]
          },
          "metadata": {},
          "execution_count": 71
        }
      ]
    },
    {
      "cell_type": "markdown",
      "source": [
        "Programa que genere un diccionaro cuya clave sea un numero y el valor sea su cuadrado "
      ],
      "metadata": {
        "id": "e9R5pP1c27bo"
      }
    },
    {
      "cell_type": "code",
      "source": [
        "n=12\n",
        "diccionario={}\n",
        "for i in range(1,n+1):\n",
        "  diccionario[i]=i**2\n",
        "diccionario"
      ],
      "metadata": {
        "colab": {
          "base_uri": "https://localhost:8080/"
        },
        "id": "2LPQK6bf3w8j",
        "outputId": "a4c6f82c-e473-414b-c4d7-75a8ac1cfe6f"
      },
      "execution_count": null,
      "outputs": [
        {
          "output_type": "execute_result",
          "data": {
            "text/plain": [
              "{1: 1,\n",
              " 2: 4,\n",
              " 3: 9,\n",
              " 4: 16,\n",
              " 5: 25,\n",
              " 6: 36,\n",
              " 7: 49,\n",
              " 8: 64,\n",
              " 9: 81,\n",
              " 10: 100,\n",
              " 11: 121,\n",
              " 12: 144}"
            ]
          },
          "metadata": {},
          "execution_count": 73
        }
      ]
    },
    {
      "cell_type": "markdown",
      "source": [
        "Programa que mape dos listas en un diccionario"
      ],
      "metadata": {
        "id": "xXaYxecF4s6Y"
      }
    },
    {
      "cell_type": "code",
      "source": [
        "l1=[1,2,3,4,5]\n",
        "l2=[2,8,9,7,4]\n",
        "diccionario[\"l1\"]=l1\n",
        "diccionario[\"l1\"]=l2"
      ],
      "metadata": {
        "id": "5KT_7H1W4U93"
      },
      "execution_count": null,
      "outputs": []
    },
    {
      "cell_type": "code",
      "source": [
        "diccionario"
      ],
      "metadata": {
        "colab": {
          "base_uri": "https://localhost:8080/"
        },
        "id": "K19Dq16j4m7C",
        "outputId": "332c8b19-a1b6-459f-d981-3337e15a6bb2"
      },
      "execution_count": null,
      "outputs": [
        {
          "output_type": "execute_result",
          "data": {
            "text/plain": [
              "{1: 1,\n",
              " 10: 100,\n",
              " 11: 121,\n",
              " 12: 144,\n",
              " 2: 4,\n",
              " 3: 9,\n",
              " 4: 16,\n",
              " 5: 25,\n",
              " 6: 36,\n",
              " 7: 49,\n",
              " 8: 64,\n",
              " 9: 81,\n",
              " 'l1': [2, 8, 9, 7, 4]}"
            ]
          },
          "metadata": {},
          "execution_count": 76
        }
      ]
    },
    {
      "cell_type": "markdown",
      "source": [
        "Programa que obtenga el maximo value de un diccionario y su respectivo key "
      ],
      "metadata": {
        "id": "F5R4Yzim4yNT"
      }
    },
    {
      "cell_type": "code",
      "source": [
        "a={\"aa\":3,\"bb\":4,\"cc\":5}\n",
        "x=max(a.values())\n",
        "for i,v in a.items():\n",
        "  if v==x:\n",
        "    print(i)\n",
        "    break"
      ],
      "metadata": {
        "colab": {
          "base_uri": "https://localhost:8080/"
        },
        "id": "bv4KjdiW5A7_",
        "outputId": "55d878db-7c77-4c91-8889-90dc92a64818"
      },
      "execution_count": null,
      "outputs": [
        {
          "output_type": "stream",
          "name": "stdout",
          "text": [
            "cc\n"
          ]
        }
      ]
    },
    {
      "cell_type": "markdown",
      "source": [
        "FUNCIONES"
      ],
      "metadata": {
        "id": "sg3AyvYH7UJf"
      }
    },
    {
      "cell_type": "code",
      "source": [
        "def imprimir_mesa():\n",
        "  print(\"hola mundo \")"
      ],
      "metadata": {
        "id": "j9_a6wqi7Vfi"
      },
      "execution_count": null,
      "outputs": []
    },
    {
      "cell_type": "code",
      "source": [
        "imprimir_mesa()"
      ],
      "metadata": {
        "colab": {
          "base_uri": "https://localhost:8080/"
        },
        "id": "JEhAWO-h7cRP",
        "outputId": "f3587af7-2173-4bf4-dd9b-fc0fa26eb9f2"
      },
      "execution_count": null,
      "outputs": [
        {
          "output_type": "stream",
          "name": "stdout",
          "text": [
            "hola mundo \n"
          ]
        }
      ]
    },
    {
      "cell_type": "markdown",
      "source": [
        "argumentos"
      ],
      "metadata": {
        "id": "Mg446-ei7vYT"
      }
    },
    {
      "cell_type": "code",
      "source": [
        "def suma(a,b):\n",
        "  return a+b"
      ],
      "metadata": {
        "id": "emZZjoTW73Ej"
      },
      "execution_count": null,
      "outputs": []
    },
    {
      "cell_type": "code",
      "source": [
        "suma(1,2)"
      ],
      "metadata": {
        "colab": {
          "base_uri": "https://localhost:8080/"
        },
        "id": "2CJShSD_79tT",
        "outputId": "d4cf1f65-f565-4462-b460-69b108117912"
      },
      "execution_count": null,
      "outputs": [
        {
          "output_type": "execute_result",
          "data": {
            "text/plain": [
              "3"
            ]
          },
          "metadata": {},
          "execution_count": 91
        }
      ]
    },
    {
      "cell_type": "code",
      "source": [
        "def numero_par(x):\n",
        "  return x%2==0"
      ],
      "metadata": {
        "id": "BdRHEdDO8Bvi"
      },
      "execution_count": null,
      "outputs": []
    },
    {
      "cell_type": "code",
      "source": [
        "numero_par(5)"
      ],
      "metadata": {
        "colab": {
          "base_uri": "https://localhost:8080/"
        },
        "id": "ylA07DlL8IXG",
        "outputId": "3bdb5a65-d11e-4085-8e25-07e228f28b1a"
      },
      "execution_count": null,
      "outputs": [
        {
          "output_type": "execute_result",
          "data": {
            "text/plain": [
              "False"
            ]
          },
          "metadata": {},
          "execution_count": 95
        }
      ]
    },
    {
      "cell_type": "code",
      "source": [
        "def cuadrado_raiz(x):\n",
        "  return x**2,x**0.5"
      ],
      "metadata": {
        "id": "JWNCuYhh8Ox7"
      },
      "execution_count": null,
      "outputs": []
    },
    {
      "cell_type": "code",
      "source": [
        "cuadrado_raiz(5)"
      ],
      "metadata": {
        "colab": {
          "base_uri": "https://localhost:8080/"
        },
        "id": "zfXxmoc28Vo_",
        "outputId": "2fd32a2d-771d-4fa9-ddaf-d709fac36c18"
      },
      "execution_count": null,
      "outputs": [
        {
          "output_type": "execute_result",
          "data": {
            "text/plain": [
              "(25, 2.23606797749979)"
            ]
          },
          "metadata": {},
          "execution_count": 97
        }
      ]
    },
    {
      "cell_type": "markdown",
      "source": [
        "DEFINIR ARGUMENTOS DE UNA FUNCION Y ARGUMENTOs POR DEFECTO"
      ],
      "metadata": {
        "id": "vSIgZs2m8che"
      }
    },
    {
      "cell_type": "code",
      "source": [
        "def potencia(numero,exponente=2):\n",
        "  return numero**exponente"
      ],
      "metadata": {
        "id": "zS-eePlH8hQv"
      },
      "execution_count": null,
      "outputs": []
    },
    {
      "cell_type": "code",
      "source": [
        "potencia(4)"
      ],
      "metadata": {
        "colab": {
          "base_uri": "https://localhost:8080/"
        },
        "id": "Z53HkU978ntp",
        "outputId": "08c2d211-0b27-4d50-8bcd-3726eb99fb71"
      },
      "execution_count": null,
      "outputs": [
        {
          "output_type": "execute_result",
          "data": {
            "text/plain": [
              "16"
            ]
          },
          "metadata": {},
          "execution_count": 100
        }
      ]
    },
    {
      "cell_type": "code",
      "source": [
        "potencia(exponente=2,numero=3)"
      ],
      "metadata": {
        "colab": {
          "base_uri": "https://localhost:8080/"
        },
        "id": "8LbSEVAj8u0m",
        "outputId": "6a3a0ade-0a1e-41b5-a843-67512d068103"
      },
      "execution_count": null,
      "outputs": [
        {
          "output_type": "execute_result",
          "data": {
            "text/plain": [
              "9"
            ]
          },
          "metadata": {},
          "execution_count": 101
        }
      ]
    },
    {
      "cell_type": "markdown",
      "source": [
        "FUNCIONES CON CUALQUEIR NUMERO DE ARUGUMENTOS "
      ],
      "metadata": {
        "id": "LeXa_PiP9RJK"
      }
    },
    {
      "cell_type": "code",
      "source": [
        "def sumar1(*sumandos):\n",
        "  suma1=0\n",
        "  for i in sumandos:\n",
        "    suma1=suma1+i\n",
        "  return suma1"
      ],
      "metadata": {
        "id": "aCSrn8j29U9q"
      },
      "execution_count": null,
      "outputs": []
    },
    {
      "cell_type": "code",
      "source": [
        "sumar1(1,2,3,4,5,6,7,8,9,10,11,12,13,14,15,16,17,18,19,20)"
      ],
      "metadata": {
        "colab": {
          "base_uri": "https://localhost:8080/"
        },
        "id": "TI5kaUYj9uBa",
        "outputId": "a4e89a94-318a-4b4a-9be4-4e7265d002bf"
      },
      "execution_count": null,
      "outputs": [
        {
          "output_type": "execute_result",
          "data": {
            "text/plain": [
              "210"
            ]
          },
          "metadata": {},
          "execution_count": 122
        }
      ]
    },
    {
      "cell_type": "markdown",
      "source": [
        "RESTRICCION A LOS ARGUMENTOS se obliga a escribir el nmbre"
      ],
      "metadata": {
        "id": "C05IQKzb98Vz"
      }
    },
    {
      "cell_type": "code",
      "source": [
        "def potencia1(*,numero,exponente):\n",
        "  return numero**exponente"
      ],
      "metadata": {
        "id": "haEXGMd8-Dfp"
      },
      "execution_count": null,
      "outputs": []
    },
    {
      "cell_type": "code",
      "source": [
        "potencia1(numero=1,exponente=2)"
      ],
      "metadata": {
        "colab": {
          "base_uri": "https://localhost:8080/"
        },
        "id": "9dMQpQ19-MeJ",
        "outputId": "7e29b1c0-b175-4913-b0e4-b314b64a548f"
      },
      "execution_count": null,
      "outputs": [
        {
          "output_type": "execute_result",
          "data": {
            "text/plain": [
              "1"
            ]
          },
          "metadata": {},
          "execution_count": 157
        }
      ]
    },
    {
      "cell_type": "markdown",
      "source": [
        "PARAMETROS ADICCIONALES ingresa los argumentos en un diccionario\n",
        "\n"
      ],
      "metadata": {
        "id": "XxLG2vhJ-1vF"
      }
    },
    {
      "cell_type": "code",
      "source": [
        "def colores(**kwargs):\n",
        "  print(kwargs)"
      ],
      "metadata": {
        "id": "6ReG6F2E-5f6"
      },
      "execution_count": null,
      "outputs": []
    },
    {
      "cell_type": "code",
      "source": [
        "colores(a=5,rojo=\"john\")"
      ],
      "metadata": {
        "colab": {
          "base_uri": "https://localhost:8080/"
        },
        "id": "-3i_Xfou_gxb",
        "outputId": "9219cee0-25ea-4e48-b42e-fa96a915c381"
      },
      "execution_count": null,
      "outputs": [
        {
          "output_type": "stream",
          "name": "stdout",
          "text": [
            "{'a': 5, 'rojo': 'john'}\n"
          ]
        }
      ]
    },
    {
      "cell_type": "code",
      "source": [
        "import math\n",
        "def area_cuadrado(a):\n",
        "  return a*a\n",
        "def area_trian(b,a):\n",
        "  return b*a/2\n",
        "def area_circ(r):\n",
        "  return math.pi*r**2"
      ],
      "metadata": {
        "id": "hZBDiYiGAZNK"
      },
      "execution_count": null,
      "outputs": []
    },
    {
      "cell_type": "code",
      "source": [
        "def area_figura(nombre,**parametros_caract):\n",
        "  if nombre==\"cuadrado\":\n",
        "    return area_cuadrado(**parametros_caract)\n",
        "  elif nombre==\"triangulo\":\n",
        "    return area_trian(**parametros_caract)\n",
        "  elif nombre==\"circulo\":\n",
        "    return area_circ(**parametros_caract)"
      ],
      "metadata": {
        "id": "PIFF2Hm8Ao_e"
      },
      "execution_count": null,
      "outputs": []
    },
    {
      "cell_type": "code",
      "source": [
        "area_figura(\"cuadrado\",a=5)"
      ],
      "metadata": {
        "colab": {
          "base_uri": "https://localhost:8080/"
        },
        "id": "OXiCjJMJBUHI",
        "outputId": "30c5dbce-88fe-4595-c56c-e4e45733ba13"
      },
      "execution_count": null,
      "outputs": [
        {
          "output_type": "execute_result",
          "data": {
            "text/plain": [
              "25"
            ]
          },
          "metadata": {},
          "execution_count": 125
        }
      ]
    },
    {
      "cell_type": "code",
      "source": [
        "area_figura(\"circulo\",r=5)"
      ],
      "metadata": {
        "colab": {
          "base_uri": "https://localhost:8080/"
        },
        "id": "ZmAzcS_BBgQY",
        "outputId": "68a969f0-1afc-4447-caba-e06940f38c62"
      },
      "execution_count": null,
      "outputs": [
        {
          "output_type": "execute_result",
          "data": {
            "text/plain": [
              "78.53981633974483"
            ]
          },
          "metadata": {},
          "execution_count": 126
        }
      ]
    },
    {
      "cell_type": "code",
      "source": [
        "area_figura(\"triangulo\",b=5,a=7)"
      ],
      "metadata": {
        "colab": {
          "base_uri": "https://localhost:8080/"
        },
        "id": "5gCx_ah7B2NN",
        "outputId": "69eaa250-b382-41d5-e000-678464706259"
      },
      "execution_count": null,
      "outputs": [
        {
          "output_type": "execute_result",
          "data": {
            "text/plain": [
              "17.5"
            ]
          },
          "metadata": {},
          "execution_count": 131
        }
      ]
    },
    {
      "cell_type": "code",
      "source": [
        "def area_figura(nombre,**parametros_caract):\n",
        "  if nombre==\"cuadrado\":\n",
        "    return print(parametros_caract)\n",
        "  elif nombre==\"triangulo\":\n",
        "    return print(parametros_caract)\n",
        "  elif nombre==\"circulo\":\n",
        "    return print(parametros_caract)"
      ],
      "metadata": {
        "id": "rqwTB7wYCSt1"
      },
      "execution_count": null,
      "outputs": []
    },
    {
      "cell_type": "code",
      "source": [
        "area_figura(\"circulo\",r=2)"
      ],
      "metadata": {
        "colab": {
          "base_uri": "https://localhost:8080/"
        },
        "id": "ZQBoaW36CaSn",
        "outputId": "c88dd748-babf-4966-fe42-24919e162b0f"
      },
      "execution_count": null,
      "outputs": [
        {
          "output_type": "stream",
          "name": "stdout",
          "text": [
            "{'r': 2}\n"
          ]
        }
      ]
    },
    {
      "cell_type": "code",
      "source": [
        "area_figura(\"triangulo\",a=2,b=7)"
      ],
      "metadata": {
        "colab": {
          "base_uri": "https://localhost:8080/"
        },
        "id": "cv4ltuD1C2IC",
        "outputId": "b629e363-f602-414a-b365-ab80645f543e"
      },
      "execution_count": null,
      "outputs": [
        {
          "output_type": "stream",
          "name": "stdout",
          "text": [
            "{'a': 2, 'b': 7}\n"
          ]
        }
      ]
    },
    {
      "cell_type": "code",
      "source": [
        "area_figura(\"cuadrado\",a=5)"
      ],
      "metadata": {
        "colab": {
          "base_uri": "https://localhost:8080/"
        },
        "id": "lZgq0ZETDCeS",
        "outputId": "14d5451b-9753-4c09-f297-8f29796848ef"
      },
      "execution_count": null,
      "outputs": [
        {
          "output_type": "stream",
          "name": "stdout",
          "text": [
            "{'a': 5}\n"
          ]
        }
      ]
    },
    {
      "cell_type": "markdown",
      "source": [
        "FUNCIONES QUE RECIBEN FUNCIONES COMO ARGUMENTOS: MAPPER mapper in built es map()"
      ],
      "metadata": {
        "id": "q1wGHsGVKBWL"
      }
    },
    {
      "cell_type": "code",
      "source": [
        "def potencia_lista(funcion,lista):\n",
        "  salida=[]\n",
        "  for i in lista:\n",
        "    salida.append(funcion(i))\n",
        "  return salida"
      ],
      "metadata": {
        "id": "U8N8Rc63KJQn"
      },
      "execution_count": null,
      "outputs": []
    },
    {
      "cell_type": "code",
      "source": [
        "a=[1,2,3,4,5]\n",
        "potencia_lista(raiz_cuadrada,a)"
      ],
      "metadata": {
        "colab": {
          "base_uri": "https://localhost:8080/"
        },
        "id": "lkTDhELvKioU",
        "outputId": "d5a2392f-c6a0-427b-9149-a50e8e9e2ff9"
      },
      "execution_count": null,
      "outputs": [
        {
          "output_type": "execute_result",
          "data": {
            "text/plain": [
              "[1.0, 1.4142135623730951, 1.7320508075688772, 2.0, 2.23606797749979]"
            ]
          },
          "metadata": {},
          "execution_count": 149
        }
      ]
    },
    {
      "cell_type": "code",
      "source": [
        "list(map(math.sqrt,a))"
      ],
      "metadata": {
        "colab": {
          "base_uri": "https://localhost:8080/"
        },
        "id": "s2NmOGXrKxcX",
        "outputId": "2673c637-4c54-4eed-b984-9ce5ffccccdb"
      },
      "execution_count": null,
      "outputs": [
        {
          "output_type": "execute_result",
          "data": {
            "text/plain": [
              "[1.0, 1.4142135623730951, 1.7320508075688772, 2.0, 2.23606797749979]"
            ]
          },
          "metadata": {},
          "execution_count": 146
        }
      ]
    },
    {
      "cell_type": "markdown",
      "source": [
        "FUNCIOON LAMBDA anonima, es una linea de textp, sin palabra clave(def)"
      ],
      "metadata": {
        "id": "i7MqJf_WLOJE"
      }
    },
    {
      "cell_type": "code",
      "source": [
        "raiz_cuadrada=lambda x:x**0.5"
      ],
      "metadata": {
        "id": "N786FPj_Lb39"
      },
      "execution_count": null,
      "outputs": []
    },
    {
      "cell_type": "code",
      "source": [
        "list(map(raiz_cuadrada,a))"
      ],
      "metadata": {
        "colab": {
          "base_uri": "https://localhost:8080/"
        },
        "id": "dsDi801XLmlk",
        "outputId": "3b11b01e-1f66-4ce6-fcf9-6568567393ce"
      },
      "execution_count": null,
      "outputs": [
        {
          "output_type": "execute_result",
          "data": {
            "text/plain": [
              "[1.0, 1.4142135623730951, 1.7320508075688772, 2.0, 2.23606797749979]"
            ]
          },
          "metadata": {},
          "execution_count": 148
        }
      ]
    },
    {
      "cell_type": "code",
      "source": [
        "potencia_lambda= lambda *,n,expo:n**expo\n",
        "potencia_lambda(expo=2,n=2)"
      ],
      "metadata": {
        "colab": {
          "base_uri": "https://localhost:8080/"
        },
        "id": "F0bqFgzmLxmQ",
        "outputId": "fd5256f6-6237-4fc5-a030-ab3d31093d65"
      },
      "execution_count": null,
      "outputs": [
        {
          "output_type": "execute_result",
          "data": {
            "text/plain": [
              "4"
            ]
          },
          "metadata": {},
          "execution_count": 150
        }
      ]
    },
    {
      "cell_type": "code",
      "source": [
        "imprimir_num= lambda *num:print(num)\n",
        "print(\"es una tupla!\")\n",
        "imprimir_num(2,3,4,5,8)"
      ],
      "metadata": {
        "colab": {
          "base_uri": "https://localhost:8080/"
        },
        "id": "2epJo6yPM5Np",
        "outputId": "ddd1e0f8-8ac6-4ded-e926-066a66cf215e"
      },
      "execution_count": null,
      "outputs": [
        {
          "output_type": "stream",
          "name": "stdout",
          "text": [
            "es una tupla!\n",
            "(2, 3, 4, 5, 8)\n"
          ]
        }
      ]
    },
    {
      "cell_type": "code",
      "source": [
        "imprimir_num= lambda **num:print(num)\n",
        "print(\"es un diccionario!\")\n",
        "imprimir_num(a=3,b=4,c=5)"
      ],
      "metadata": {
        "colab": {
          "base_uri": "https://localhost:8080/"
        },
        "id": "IMS54ilxL_uU",
        "outputId": "6c556e70-3ffa-4597-d19e-3f9e078306d4"
      },
      "execution_count": null,
      "outputs": [
        {
          "output_type": "stream",
          "name": "stdout",
          "text": [
            "es un diccionario!\n",
            "{'a': 3, 'b': 4, 'c': 5}\n"
          ]
        }
      ]
    },
    {
      "cell_type": "markdown",
      "source": [
        "FUNCION filter()"
      ],
      "metadata": {
        "id": "EJWGZc2ZMX-i"
      }
    },
    {
      "cell_type": "code",
      "source": [
        "filter()\n",
        "#recibe una funcion y un iterable\n",
        "#devuleve los items del iterable en que la funcion es true"
      ],
      "metadata": {
        "id": "8dTmxLpJMbtP"
      },
      "execution_count": null,
      "outputs": []
    },
    {
      "cell_type": "code",
      "source": [
        "list(filter(lambda x:x%2==0,range(11)))"
      ],
      "metadata": {
        "colab": {
          "base_uri": "https://localhost:8080/"
        },
        "id": "aWoqFEzFODgR",
        "outputId": "d954c25a-17f4-4a4e-bde8-013bb9a72b02"
      },
      "execution_count": null,
      "outputs": [
        {
          "output_type": "execute_result",
          "data": {
            "text/plain": [
              "[0, 2, 4, 6, 8, 10]"
            ]
          },
          "metadata": {},
          "execution_count": 156
        }
      ]
    },
    {
      "cell_type": "code",
      "source": [
        "a\n",
        "list(filter(lambda x:x%2==0,a))"
      ],
      "metadata": {
        "colab": {
          "base_uri": "https://localhost:8080/"
        },
        "id": "i6sM8WcGO9yl",
        "outputId": "3b061073-bc90-4e5d-df1d-90662028d4bf"
      },
      "execution_count": null,
      "outputs": [
        {
          "output_type": "execute_result",
          "data": {
            "text/plain": [
              "[2, 4]"
            ]
          },
          "metadata": {},
          "execution_count": 161
        }
      ]
    },
    {
      "cell_type": "markdown",
      "source": [
        "CREAR E IMPORTAR UN MODULO DE FUNCIONES"
      ],
      "metadata": {
        "id": "hcDBeuS_QYOP"
      }
    },
    {
      "cell_type": "code",
      "source": [
        "import copy\n",
        "copy.deepcopy\n",
        "import math\n",
        "math.pi \n",
        "#importar "
      ],
      "metadata": {
        "id": "QB98wulvQb1p"
      },
      "execution_count": null,
      "outputs": []
    },
    {
      "cell_type": "code",
      "source": [
        "import funciones\n",
        "funciones.mm(5)\n",
        "funciones.GG(5)"
      ],
      "metadata": {
        "colab": {
          "base_uri": "https://localhost:8080/"
        },
        "id": "LcvVgxXxRAtb",
        "outputId": "4f031267-1944-4d70-a461-6467347c8831"
      },
      "execution_count": null,
      "outputs": [
        {
          "output_type": "execute_result",
          "data": {
            "text/plain": [
              "10"
            ]
          },
          "metadata": {},
          "execution_count": 164
        }
      ]
    },
    {
      "cell_type": "markdown",
      "source": [
        "EJERCICIOS"
      ],
      "metadata": {
        "id": "pZHjiM2kSZNH"
      }
    },
    {
      "cell_type": "markdown",
      "source": [
        "UNA FUNCION QUE CALCULE EL PROMEDIO DE CUALQUIER N NUMEROS"
      ],
      "metadata": {
        "id": "cLoyY_PaSbja"
      }
    },
    {
      "cell_type": "code",
      "source": [
        "def promedio_N(*numeros):\n",
        "  return sum(numeros)/len(numeros)"
      ],
      "metadata": {
        "id": "l23KCGMlSmy5"
      },
      "execution_count": null,
      "outputs": []
    },
    {
      "cell_type": "code",
      "source": [
        "promedio_N(1,2,3,4,5,6,7,8,9)"
      ],
      "metadata": {
        "colab": {
          "base_uri": "https://localhost:8080/"
        },
        "id": "719htt2hTaOs",
        "outputId": "674db803-f03a-4b04-9b51-5f10fdc7edd5"
      },
      "execution_count": null,
      "outputs": [
        {
          "output_type": "execute_result",
          "data": {
            "text/plain": [
              "5.0"
            ]
          },
          "metadata": {},
          "execution_count": 166
        }
      ]
    },
    {
      "cell_type": "code",
      "source": [
        "promedio_N= lambda *numeros:sum(numeros)/len(numeros)\n",
        "promedio_N(1,2,3,4,5,6,7,8,9)"
      ],
      "metadata": {
        "colab": {
          "base_uri": "https://localhost:8080/"
        },
        "id": "k8tLhaSnTpu0",
        "outputId": "8b7057e0-fe3d-439c-e644-cef24f9cb4ba"
      },
      "execution_count": null,
      "outputs": [
        {
          "output_type": "execute_result",
          "data": {
            "text/plain": [
              "5.0"
            ]
          },
          "metadata": {},
          "execution_count": 168
        }
      ]
    },
    {
      "cell_type": "markdown",
      "source": [
        "FUNCION QUE VERIFICAR QUE UN STR ES O NO UN PALINDROMO"
      ],
      "metadata": {
        "id": "SkLCbJd7T1E7"
      }
    },
    {
      "cell_type": "code",
      "source": [
        "l=\"taco cat\"\n",
        "l1=list(l.replace(\" \",\"\").lower())\n",
        "g=list(reversed(l.replace(\" \",\"\").lower()))\n",
        "print(list(l),l1,g)\n",
        "if l1==g:\n",
        "  print(\"es un palindromo\")\n",
        "else:\n",
        "  print(\"no es un palindromo\")\n",
        "#l[-1:len(l)-1:-1] #lista[inicio:fin-1:paso]"
      ],
      "metadata": {
        "colab": {
          "base_uri": "https://localhost:8080/"
        },
        "id": "VUWVAScpUFh3",
        "outputId": "42f39e93-2952-468f-f590-994391886d36"
      },
      "execution_count": null,
      "outputs": [
        {
          "output_type": "stream",
          "name": "stdout",
          "text": [
            "['t', 'a', 'c', 'o', ' ', 'c', 'a', 't'] ['t', 'a', 'c', 'o', 'c', 'a', 't'] ['t', 'a', 'c', 'o', 'c', 'a', 't']\n",
            "es un palindromo\n"
          ]
        }
      ]
    },
    {
      "cell_type": "code",
      "source": [
        "def palindromo(cadena):\n",
        "  n_cadena=cadena.replace(\" \",\"\").lower()\n",
        "  cadena2=\"\"\n",
        "  for i in range(len(n_cadena)):\n",
        "    cadena2=cadena2+n_cadena[-i-1]\n",
        "  return cadena2==n_cadena"
      ],
      "metadata": {
        "id": "lGhy47ZIWYEl"
      },
      "execution_count": null,
      "outputs": []
    },
    {
      "cell_type": "code",
      "source": [
        "palindromo(\"taco cat\")"
      ],
      "metadata": {
        "colab": {
          "base_uri": "https://localhost:8080/"
        },
        "id": "iQtISEBgXkLh",
        "outputId": "e4d7756a-7bf5-4734-a38e-cf3ffd29e2a9"
      },
      "execution_count": null,
      "outputs": [
        {
          "output_type": "execute_result",
          "data": {
            "text/plain": [
              "True"
            ]
          },
          "metadata": {},
          "execution_count": 227
        }
      ]
    },
    {
      "cell_type": "code",
      "source": [
        "cadena.lower?"
      ],
      "metadata": {
        "id": "mLEoDAHgnM6S"
      },
      "execution_count": null,
      "outputs": []
    },
    {
      "cell_type": "markdown",
      "source": [
        "EJERCICIOS"
      ],
      "metadata": {
        "id": "5fKFkMmN7vcR"
      }
    },
    {
      "cell_type": "markdown",
      "source": [
        "Escriba una funcion que encuentre el minumo de tres numeros "
      ],
      "metadata": {
        "id": "RpLZqmf17xvH"
      }
    },
    {
      "cell_type": "code",
      "source": [
        "def minimo(a,b,c):\n",
        "  return min(a,b,c)"
      ],
      "metadata": {
        "id": "IOb3Ztav72NO"
      },
      "execution_count": 4,
      "outputs": []
    },
    {
      "cell_type": "code",
      "source": [
        "minimo(5,5,5)"
      ],
      "metadata": {
        "colab": {
          "base_uri": "https://localhost:8080/"
        },
        "id": "ARW3pF9E7-3Z",
        "outputId": "0550981c-4df7-4cfd-a12d-3418ced043f2"
      },
      "execution_count": 6,
      "outputs": [
        {
          "output_type": "execute_result",
          "data": {
            "text/plain": [
              "5"
            ]
          },
          "metadata": {},
          "execution_count": 6
        }
      ]
    },
    {
      "cell_type": "markdown",
      "source": [
        "Escriba una funcion que calcule el factorial de un numero (entero positivo)"
      ],
      "metadata": {
        "id": "WTAjmPB-8teb"
      }
    },
    {
      "cell_type": "code",
      "source": [
        "def Factorial(n):\n",
        "  f=1\n",
        "  for i in range(2,n+1):\n",
        "    f=f*i\n",
        "  return f  "
      ],
      "metadata": {
        "id": "702H8Wbe86Mt"
      },
      "execution_count": 9,
      "outputs": []
    },
    {
      "cell_type": "code",
      "source": [
        "Factorial(4)"
      ],
      "metadata": {
        "colab": {
          "base_uri": "https://localhost:8080/"
        },
        "id": "T_tnwCYt9MOO",
        "outputId": "636b5eaf-579a-48b0-9999-3ea3e67bc808"
      },
      "execution_count": 11,
      "outputs": [
        {
          "output_type": "execute_result",
          "data": {
            "text/plain": [
              "24"
            ]
          },
          "metadata": {},
          "execution_count": 11
        }
      ]
    },
    {
      "cell_type": "markdown",
      "source": [
        "Escriba una fucion que identifique si un numero se encuentra o no en un rango dado "
      ],
      "metadata": {
        "id": "3hROJU0I9dcX"
      }
    },
    {
      "cell_type": "code",
      "source": [
        "def numero_rango(n,inf,sup):\n",
        "  if n>=inf and n<=sup:\n",
        "    return \"esta en el rango\"\n",
        "  else:\n",
        "    return \"no esta en el rango\"  "
      ],
      "metadata": {
        "id": "CtgYgArj9jvt"
      },
      "execution_count": 2,
      "outputs": []
    },
    {
      "cell_type": "code",
      "source": [
        "numero_rango(6,55,88)"
      ],
      "metadata": {
        "colab": {
          "base_uri": "https://localhost:8080/",
          "height": 35
        },
        "id": "YfskuYVU-aPs",
        "outputId": "2c113799-98be-4df8-8687-a3d5d9862eb5"
      },
      "execution_count": 3,
      "outputs": [
        {
          "output_type": "execute_result",
          "data": {
            "text/plain": [
              "'no esta en el rango'"
            ],
            "application/vnd.google.colaboratory.intrinsic+json": {
              "type": "string"
            }
          },
          "metadata": {},
          "execution_count": 3
        }
      ]
    },
    {
      "cell_type": "markdown",
      "source": [
        "Funcion que cuente cuantas Mayus y minus hay en un STR"
      ],
      "metadata": {
        "id": "fKKOset5-fv1"
      }
    },
    {
      "cell_type": "code",
      "source": [
        "intro_nombre=\"Hola mundo mi nombre es John\"\n",
        "def mayus_minus(cadena):\n",
        "  mayus=0\n",
        "  minus=0\n",
        "  for i in cadena:\n",
        "    if i.isalpha():\n",
        "      if i.islower():\n",
        "        minus=minus+1\n",
        "      else:\n",
        "        mayus=mayus+1\n",
        "  return mayus,minus"
      ],
      "metadata": {
        "id": "XXUzq5_b-k9g"
      },
      "execution_count": 10,
      "outputs": []
    },
    {
      "cell_type": "code",
      "source": [
        "mayus_minus(intro_nombre)"
      ],
      "metadata": {
        "colab": {
          "base_uri": "https://localhost:8080/"
        },
        "id": "Ecc8t-A4ASFk",
        "outputId": "21a781e3-3f1e-40a1-a86b-c9d81e48f14a"
      },
      "execution_count": 11,
      "outputs": [
        {
          "output_type": "execute_result",
          "data": {
            "text/plain": [
              "(2, 21)"
            ]
          },
          "metadata": {},
          "execution_count": 11
        }
      ]
    },
    {
      "cell_type": "markdown",
      "source": [
        "funcion que reciba una lista y devuleva una lista con los elementos unicos de la lista"
      ],
      "metadata": {
        "id": "Y6zWQZ8IAtxD"
      }
    },
    {
      "cell_type": "code",
      "source": [
        "def unicos(lista):\n",
        "  return list(set(lista))"
      ],
      "metadata": {
        "id": "jpe_tpugA0qk"
      },
      "execution_count": 12,
      "outputs": []
    },
    {
      "cell_type": "code",
      "source": [
        "unicos(intro_nombre)"
      ],
      "metadata": {
        "colab": {
          "base_uri": "https://localhost:8080/"
        },
        "id": "B0ygKa_zBDrZ",
        "outputId": "8733a150-5523-4115-a756-1a8684ea3213"
      },
      "execution_count": 13,
      "outputs": [
        {
          "output_type": "execute_result",
          "data": {
            "text/plain": [
              "['h',\n",
              " 'n',\n",
              " 's',\n",
              " 'J',\n",
              " 'a',\n",
              " 'd',\n",
              " ' ',\n",
              " 'm',\n",
              " 'o',\n",
              " 'u',\n",
              " 'b',\n",
              " 'e',\n",
              " 'r',\n",
              " 'i',\n",
              " 'l',\n",
              " 'H']"
            ]
          },
          "metadata": {},
          "execution_count": 13
        }
      ]
    },
    {
      "cell_type": "markdown",
      "source": [
        "NUMPY: Numeric Python "
      ],
      "metadata": {
        "id": "r7E2JyoNBVY7"
      }
    },
    {
      "cell_type": "code",
      "source": [
        "import numpy \n",
        "#en el local pip instal numpy "
      ],
      "metadata": {
        "id": "XOdqLxQxDNvI"
      },
      "execution_count": 14,
      "outputs": []
    },
    {
      "cell_type": "code",
      "source": [
        "numpy.__version__"
      ],
      "metadata": {
        "colab": {
          "base_uri": "https://localhost:8080/",
          "height": 35
        },
        "id": "WisSn2itDotO",
        "outputId": "3c11b76c-9b25-442a-a49d-b2926c5bb71a"
      },
      "execution_count": 15,
      "outputs": [
        {
          "output_type": "execute_result",
          "data": {
            "text/plain": [
              "'1.21.6'"
            ],
            "application/vnd.google.colaboratory.intrinsic+json": {
              "type": "string"
            }
          },
          "metadata": {},
          "execution_count": 15
        }
      ]
    },
    {
      "cell_type": "code",
      "source": [
        "import copy as cp #importar paquetes con un alias\n",
        "cp.deepcopy\n",
        "import matplotlib.pyplot as plt\n",
        "plt.\n",
        "import numpy as np\n",
        "np."
      ],
      "metadata": {
        "id": "VlRBT9Q2FYrc"
      },
      "execution_count": null,
      "outputs": []
    },
    {
      "cell_type": "markdown",
      "source": [
        "ARREGLO DE NUMPY VS PYTHON"
      ],
      "metadata": {
        "id": "85V7HmZHF1cB"
      }
    },
    {
      "cell_type": "code",
      "source": [
        "a=(2,5)\n",
        "b=(3,5)"
      ],
      "metadata": {
        "id": "KcT0axDKGL_n"
      },
      "execution_count": 17,
      "outputs": []
    },
    {
      "cell_type": "code",
      "source": [
        "import numpy"
      ],
      "metadata": {
        "id": "hujGuVidF1EV"
      },
      "execution_count": 16,
      "outputs": []
    },
    {
      "cell_type": "code",
      "source": [
        "aN=numpy.array(a)\n",
        "bN=numpy.array(b)"
      ],
      "metadata": {
        "id": "wMTxRnPkF-yk"
      },
      "execution_count": 25,
      "outputs": []
    },
    {
      "cell_type": "code",
      "source": [
        "print(aN,bN)\n",
        "aN+bN"
      ],
      "metadata": {
        "colab": {
          "base_uri": "https://localhost:8080/"
        },
        "id": "nLD62LopHTMn",
        "outputId": "12407cc4-10fd-4e6b-f2b5-937d2ce85344"
      },
      "execution_count": 28,
      "outputs": [
        {
          "output_type": "stream",
          "name": "stdout",
          "text": [
            "[2 5] [3 5]\n"
          ]
        },
        {
          "output_type": "execute_result",
          "data": {
            "text/plain": [
              "array([ 5, 10])"
            ]
          },
          "metadata": {},
          "execution_count": 28
        }
      ]
    },
    {
      "cell_type": "markdown",
      "source": [
        "EN NUMPY todos los elementos se convierten al tip mas general de dapts: str, float, int, bool"
      ],
      "metadata": {
        "id": "Lg7_VP6tGEgc"
      }
    },
    {
      "cell_type": "code",
      "source": [
        "c=numpy.array([\"2\",3,4])"
      ],
      "metadata": {
        "id": "I7P66Rv_GWfC"
      },
      "execution_count": 19,
      "outputs": []
    },
    {
      "cell_type": "code",
      "source": [
        "c"
      ],
      "metadata": {
        "colab": {
          "base_uri": "https://localhost:8080/"
        },
        "id": "wyUnKIQQGfRW",
        "outputId": "c4e7db0d-1806-480a-ca75-e54b2d876515"
      },
      "execution_count": 20,
      "outputs": [
        {
          "output_type": "execute_result",
          "data": {
            "text/plain": [
              "array(['2', '3', '4'], dtype='<U21')"
            ]
          },
          "metadata": {},
          "execution_count": 20
        }
      ]
    },
    {
      "cell_type": "code",
      "source": [
        "d=numpy.array([True,2,3,5])\n",
        "d"
      ],
      "metadata": {
        "colab": {
          "base_uri": "https://localhost:8080/"
        },
        "id": "MieeivD9Gk4H",
        "outputId": "f5aa41e6-f950-4608-b4f3-2427bab7afe7"
      },
      "execution_count": 23,
      "outputs": [
        {
          "output_type": "execute_result",
          "data": {
            "text/plain": [
              "array([1, 2, 3, 5])"
            ]
          },
          "metadata": {},
          "execution_count": 23
        }
      ]
    },
    {
      "cell_type": "code",
      "source": [
        "d=numpy.array([True,2,3,5],dtype=int)\n",
        "d"
      ],
      "metadata": {
        "colab": {
          "base_uri": "https://localhost:8080/"
        },
        "id": "U8Og0RdvHFlB",
        "outputId": "d5d60c6c-8fdf-4dba-d6a8-0419f3c5b6e1"
      },
      "execution_count": 30,
      "outputs": [
        {
          "output_type": "execute_result",
          "data": {
            "text/plain": [
              "array([1, 2, 3, 5])"
            ]
          },
          "metadata": {},
          "execution_count": 30
        }
      ]
    },
    {
      "cell_type": "markdown",
      "source": [
        "INDEXACION DE NUMPY array. "
      ],
      "metadata": {
        "id": "C5ReeORtHW9m"
      }
    },
    {
      "cell_type": "code",
      "source": [
        "e=numpy.random.uniform(0,100,(4,4))\n",
        "e"
      ],
      "metadata": {
        "colab": {
          "base_uri": "https://localhost:8080/"
        },
        "id": "-y3S5rJUHcnG",
        "outputId": "5b1ec2c0-367a-4205-81cf-91b12bb4c358"
      },
      "execution_count": 34,
      "outputs": [
        {
          "output_type": "execute_result",
          "data": {
            "text/plain": [
              "array([[68.14609193, 70.73953848, 51.52670523, 32.741656  ],\n",
              "       [93.84803117, 58.47565314, 41.3039966 , 81.64699026],\n",
              "       [ 9.87840806, 23.48771789, 98.49196011, 86.09555037],\n",
              "       [51.78594322, 80.22490506, 10.59739365, 41.98311495]])"
            ]
          },
          "metadata": {},
          "execution_count": 34
        }
      ]
    },
    {
      "cell_type": "code",
      "source": [
        "e[0,3]\n",
        "e[2][2]"
      ],
      "metadata": {
        "colab": {
          "base_uri": "https://localhost:8080/"
        },
        "id": "m-hwZRBpLmuR",
        "outputId": "8e967ff6-1fa3-47cf-8d2f-b4339ca3f482"
      },
      "execution_count": 38,
      "outputs": [
        {
          "output_type": "execute_result",
          "data": {
            "text/plain": [
              "98.49196011385366"
            ]
          },
          "metadata": {},
          "execution_count": 38
        }
      ]
    },
    {
      "cell_type": "markdown",
      "source": [
        "SLICING como en listas y tuplas (NUNCA se toma el ultimo)"
      ],
      "metadata": {
        "id": "TSvFmBAvL2Ed"
      }
    },
    {
      "cell_type": "code",
      "source": [
        "e[0:2,0:4] #Elementos del eje 0, Elemetos del eje1 "
      ],
      "metadata": {
        "colab": {
          "base_uri": "https://localhost:8080/"
        },
        "id": "FoZ0PtxaL1r2",
        "outputId": "acb125da-264a-4c37-8735-272acd58cb64"
      },
      "execution_count": 51,
      "outputs": [
        {
          "output_type": "execute_result",
          "data": {
            "text/plain": [
              "array([[68.14609193, 70.73953848, 51.52670523, 32.741656  ],\n",
              "       [93.84803117, 58.47565314, 41.3039966 , 81.64699026]])"
            ]
          },
          "metadata": {},
          "execution_count": 51
        }
      ]
    },
    {
      "cell_type": "code",
      "source": [
        "f=numpy.random.uniform(0,100,(2,2,3))\n",
        "f"
      ],
      "metadata": {
        "colab": {
          "base_uri": "https://localhost:8080/"
        },
        "id": "zE7wTVHUTgyj",
        "outputId": "1854f0f7-dc1e-4bec-abba-82ad8e64f9c2"
      },
      "execution_count": 53,
      "outputs": [
        {
          "output_type": "execute_result",
          "data": {
            "text/plain": [
              "array([[[85.16382486, 19.27679069, 68.16732914],\n",
              "        [73.93706207,  5.51473394, 96.62932823]],\n",
              "\n",
              "       [[17.76449797, 65.32536359, 62.86879627],\n",
              "        [84.55476852, 17.42391779, 88.75090809]]])"
            ]
          },
          "metadata": {},
          "execution_count": 53
        }
      ]
    },
    {
      "cell_type": "code",
      "source": [
        "f[1,1,1]"
      ],
      "metadata": {
        "colab": {
          "base_uri": "https://localhost:8080/"
        },
        "id": "ZpNd0urPUF6w",
        "outputId": "28e27ec5-88cd-4d19-c938-fcca69003120"
      },
      "execution_count": 61,
      "outputs": [
        {
          "output_type": "execute_result",
          "data": {
            "text/plain": [
              "17.4239177906908"
            ]
          },
          "metadata": {},
          "execution_count": 61
        }
      ]
    },
    {
      "cell_type": "code",
      "source": [
        "f[0:3,0:3,0:4]"
      ],
      "metadata": {
        "colab": {
          "base_uri": "https://localhost:8080/"
        },
        "id": "RsnkYqJ0U-L8",
        "outputId": "c3c119fa-c878-45aa-bae5-59e8313a77d3"
      },
      "execution_count": 63,
      "outputs": [
        {
          "output_type": "execute_result",
          "data": {
            "text/plain": [
              "array([[[85.16382486, 19.27679069, 68.16732914],\n",
              "        [73.93706207,  5.51473394, 96.62932823]],\n",
              "\n",
              "       [[17.76449797, 65.32536359, 62.86879627],\n",
              "        [84.55476852, 17.42391779, 88.75090809]]])"
            ]
          },
          "metadata": {},
          "execution_count": 63
        }
      ]
    },
    {
      "cell_type": "markdown",
      "source": [
        "MUTABILIDA DE LOS ARREGLOS NUMPY (son mutables)\n",
        "\n"
      ],
      "metadata": {
        "id": "9SlPL0Q0VWls"
      }
    },
    {
      "cell_type": "code",
      "source": [
        "f[1,1,1]=17\n",
        "f"
      ],
      "metadata": {
        "colab": {
          "base_uri": "https://localhost:8080/"
        },
        "id": "3qA28SC1Va9A",
        "outputId": "b7bfa2af-1efd-4098-c894-2068eb7fd0a5"
      },
      "execution_count": 65,
      "outputs": [
        {
          "output_type": "execute_result",
          "data": {
            "text/plain": [
              "array([[[85.16382486, 19.27679069, 68.16732914],\n",
              "        [73.93706207,  5.51473394, 96.62932823]],\n",
              "\n",
              "       [[17.76449797, 65.32536359, 62.86879627],\n",
              "        [84.55476852, 17.        , 88.75090809]]])"
            ]
          },
          "metadata": {},
          "execution_count": 65
        }
      ]
    },
    {
      "cell_type": "markdown",
      "source": [
        "COPY Y DEEPCOPY (los slices de arreglo tiene ubicacion propia en memoria)"
      ],
      "metadata": {
        "id": "3rE_byrmVqtS"
      }
    },
    {
      "cell_type": "code",
      "source": [
        ""
      ],
      "metadata": {
        "id": "asPRwghzWGNI"
      },
      "execution_count": null,
      "outputs": []
    },
    {
      "cell_type": "markdown",
      "source": [
        "CONVERTIR LISTAS EN MATRICES (solo para listas de listas simetricas)"
      ],
      "metadata": {
        "id": "HwwuJmckWG1Z"
      }
    },
    {
      "cell_type": "code",
      "source": [
        "g=numpy.array([[1,2,3],[4,5,6]])\n",
        "g"
      ],
      "metadata": {
        "colab": {
          "base_uri": "https://localhost:8080/"
        },
        "id": "d5d-sylNWTTg",
        "outputId": "ea2d975e-4840-4e49-c104-c14ddd247a6f"
      },
      "execution_count": 67,
      "outputs": [
        {
          "output_type": "execute_result",
          "data": {
            "text/plain": [
              "array([[1, 2, 3],\n",
              "       [4, 5, 6]])"
            ]
          },
          "metadata": {},
          "execution_count": 67
        }
      ]
    },
    {
      "cell_type": "markdown",
      "source": [
        "METODO .shape()"
      ],
      "metadata": {
        "id": "dPme69-qWsMf"
      }
    },
    {
      "cell_type": "code",
      "source": [
        "g.shape"
      ],
      "metadata": {
        "colab": {
          "base_uri": "https://localhost:8080/"
        },
        "id": "4RGrjzItWvjX",
        "outputId": "14bf1321-572c-48f9-d9a8-13a299bc203c"
      },
      "execution_count": 70,
      "outputs": [
        {
          "output_type": "execute_result",
          "data": {
            "text/plain": [
              "(2, 3)"
            ]
          },
          "metadata": {},
          "execution_count": 70
        }
      ]
    },
    {
      "cell_type": "code",
      "source": [
        "f.shape"
      ],
      "metadata": {
        "colab": {
          "base_uri": "https://localhost:8080/"
        },
        "id": "n4mdv-doW7Ht",
        "outputId": "881b15d2-34c0-4bbd-e4d9-d569b0e4e1a7"
      },
      "execution_count": 71,
      "outputs": [
        {
          "output_type": "execute_result",
          "data": {
            "text/plain": [
              "(2, 2, 3)"
            ]
          },
          "metadata": {},
          "execution_count": 71
        }
      ]
    },
    {
      "cell_type": "code",
      "source": [
        "print(f)"
      ],
      "metadata": {
        "colab": {
          "base_uri": "https://localhost:8080/"
        },
        "id": "HYNZIVTtXCCg",
        "outputId": "41530e80-2196-4f78-d2db-891bde649ce7"
      },
      "execution_count": 73,
      "outputs": [
        {
          "output_type": "stream",
          "name": "stdout",
          "text": [
            "[[[85.16382486 19.27679069 68.16732914]\n",
            "  [73.93706207  5.51473394 96.62932823]]\n",
            "\n",
            " [[17.76449797 65.32536359 62.86879627]\n",
            "  [84.55476852 17.         88.75090809]]]\n"
          ]
        }
      ]
    },
    {
      "cell_type": "markdown",
      "source": [
        "METODO len()"
      ],
      "metadata": {
        "id": "OIfneZXCXf-X"
      }
    },
    {
      "cell_type": "code",
      "source": [
        "len(f) #entrga la dimension del eje 0"
      ],
      "metadata": {
        "colab": {
          "base_uri": "https://localhost:8080/"
        },
        "id": "CoT_CNLRXkT7",
        "outputId": "c6e70de1-1be1-4366-8248-8f49b6a7cea6"
      },
      "execution_count": 74,
      "outputs": [
        {
          "output_type": "execute_result",
          "data": {
            "text/plain": [
              "2"
            ]
          },
          "metadata": {},
          "execution_count": 74
        }
      ]
    },
    {
      "cell_type": "code",
      "source": [
        "ff=f.sum(axis=0)\n",
        "print(ff,ff.shape)"
      ],
      "metadata": {
        "colab": {
          "base_uri": "https://localhost:8080/"
        },
        "id": "5m1Clk0sX0Lf",
        "outputId": "36ff31f9-5c88-4f1d-818a-86bc7f11243f"
      },
      "execution_count": 80,
      "outputs": [
        {
          "output_type": "stream",
          "name": "stdout",
          "text": [
            "[[102.92832283  84.60215428 131.03612541]\n",
            " [158.49183059  22.51473394 185.38023633]] (2, 3)\n"
          ]
        }
      ]
    },
    {
      "cell_type": "code",
      "source": [
        "f[0,0]+f[1,0]"
      ],
      "metadata": {
        "colab": {
          "base_uri": "https://localhost:8080/"
        },
        "id": "OondGlClaIFr",
        "outputId": "a72d2f85-77f8-4489-fa97-046dd8dad5db"
      },
      "execution_count": 86,
      "outputs": [
        {
          "output_type": "execute_result",
          "data": {
            "text/plain": [
              "array([102.92832283,  84.60215428, 131.03612541])"
            ]
          },
          "metadata": {},
          "execution_count": 86
        }
      ]
    },
    {
      "cell_type": "code",
      "source": [
        "fff=ff.sum(axis=0)\n",
        "print(fff,fff.shape)"
      ],
      "metadata": {
        "colab": {
          "base_uri": "https://localhost:8080/"
        },
        "id": "4McM4VUAZVEl",
        "outputId": "6a5fdd2a-42bb-4ec0-d97e-ae6006e65c13"
      },
      "execution_count": 79,
      "outputs": [
        {
          "output_type": "stream",
          "name": "stdout",
          "text": [
            "[261.42015342 107.11688822 316.41636174] (3,)\n"
          ]
        }
      ]
    },
    {
      "cell_type": "code",
      "source": [
        "ffff=fff.sum(axis=0)\n",
        "print(ffff,ffff.shape)"
      ],
      "metadata": {
        "colab": {
          "base_uri": "https://localhost:8080/"
        },
        "id": "VAxP_ZxKZyU1",
        "outputId": "00f1d0c3-6839-4845-de44-71b1ada3de32"
      },
      "execution_count": 82,
      "outputs": [
        {
          "output_type": "stream",
          "name": "stdout",
          "text": [
            "684.9534033813085 ()\n"
          ]
        }
      ]
    },
    {
      "cell_type": "markdown",
      "source": [
        "LINSPACE(INICIO,FIN,NUMERO DE DATOS)"
      ],
      "metadata": {
        "id": "vV9aQNaearWe"
      }
    },
    {
      "cell_type": "code",
      "source": [
        "h=numpy.linspace(0,10,10)\n",
        "print(h,h[-1],h[0])\n"
      ],
      "metadata": {
        "colab": {
          "base_uri": "https://localhost:8080/"
        },
        "id": "XwbhzsRqazA6",
        "outputId": "afd2796b-4f74-4a42-b587-25a5bbf02641"
      },
      "execution_count": 91,
      "outputs": [
        {
          "output_type": "stream",
          "name": "stdout",
          "text": [
            "[ 0.          1.11111111  2.22222222  3.33333333  4.44444444  5.55555556\n",
            "  6.66666667  7.77777778  8.88888889 10.        ] 10.0 0.0\n"
          ]
        }
      ]
    },
    {
      "cell_type": "markdown",
      "source": [
        "METODO .reshape(dim1,dim2,.....)"
      ],
      "metadata": {
        "id": "gRCw5NvYbA2K"
      }
    },
    {
      "cell_type": "code",
      "source": [
        "print(f)\n",
        "print(f.shape)\n",
        "print(f.reshape(2,6))"
      ],
      "metadata": {
        "colab": {
          "base_uri": "https://localhost:8080/"
        },
        "id": "4yVPSJQJbJgO",
        "outputId": "2f90bfc0-c9ca-41e7-9c53-74e59f09162d"
      },
      "execution_count": 105,
      "outputs": [
        {
          "output_type": "stream",
          "name": "stdout",
          "text": [
            "[[[85.16382486 19.27679069 68.16732914]\n",
            "  [73.93706207  5.51473394 96.62932823]]\n",
            "\n",
            " [[17.76449797 65.32536359 62.86879627]\n",
            "  [84.55476852 17.         88.75090809]]]\n",
            "(2, 2, 3)\n",
            "[[85.16382486 19.27679069 68.16732914 73.93706207  5.51473394 96.62932823]\n",
            " [17.76449797 65.32536359 62.86879627 84.55476852 17.         88.75090809]]\n"
          ]
        }
      ]
    },
    {
      "cell_type": "markdown",
      "source": [
        "METODO ones()-zeros()-identity()\n",
        "\n"
      ],
      "metadata": {
        "id": "2WkaPGjPcsgO"
      }
    },
    {
      "cell_type": "code",
      "source": [
        "numpy.ones((2,2))"
      ],
      "metadata": {
        "colab": {
          "base_uri": "https://localhost:8080/"
        },
        "id": "jfzqd7YocweK",
        "outputId": "9f8a2f2f-5249-49cc-b2fa-e0e159138c5d"
      },
      "execution_count": 111,
      "outputs": [
        {
          "output_type": "execute_result",
          "data": {
            "text/plain": [
              "array([[1., 1.],\n",
              "       [1., 1.]])"
            ]
          },
          "metadata": {},
          "execution_count": 111
        }
      ]
    },
    {
      "cell_type": "code",
      "source": [
        "numpy.zeros((2,2))"
      ],
      "metadata": {
        "colab": {
          "base_uri": "https://localhost:8080/"
        },
        "id": "VuG11GACdGDD",
        "outputId": "f83d97ff-90d3-4d6c-baa4-c5b85a366edd"
      },
      "execution_count": 112,
      "outputs": [
        {
          "output_type": "execute_result",
          "data": {
            "text/plain": [
              "array([[0., 0.],\n",
              "       [0., 0.]])"
            ]
          },
          "metadata": {},
          "execution_count": 112
        }
      ]
    },
    {
      "cell_type": "code",
      "source": [
        "numpy.identity(2)"
      ],
      "metadata": {
        "colab": {
          "base_uri": "https://localhost:8080/"
        },
        "id": "5z6rDsC5dQGa",
        "outputId": "4c86124f-c4f4-4fb8-8450-949b4b94778e"
      },
      "execution_count": 113,
      "outputs": [
        {
          "output_type": "execute_result",
          "data": {
            "text/plain": [
              "array([[1., 0.],\n",
              "       [0., 1.]])"
            ]
          },
          "metadata": {},
          "execution_count": 113
        }
      ]
    },
    {
      "cell_type": "markdown",
      "source": [
        "MATRIZ TRANSPUESTA"
      ],
      "metadata": {
        "id": "l2e47OyBdkVY"
      }
    },
    {
      "cell_type": "code",
      "source": [
        "t=f.transpose() #inversion de los ejes \n",
        "print(f)\n",
        "print(t,t.shape)"
      ],
      "metadata": {
        "colab": {
          "base_uri": "https://localhost:8080/"
        },
        "id": "5JEVLHe_dns4",
        "outputId": "ed77878c-a7eb-4094-80c7-630a90c7d40b"
      },
      "execution_count": 117,
      "outputs": [
        {
          "output_type": "stream",
          "name": "stdout",
          "text": [
            "[[[85.16382486 19.27679069 68.16732914]\n",
            "  [73.93706207  5.51473394 96.62932823]]\n",
            "\n",
            " [[17.76449797 65.32536359 62.86879627]\n",
            "  [84.55476852 17.         88.75090809]]]\n",
            "[[[85.16382486 17.76449797]\n",
            "  [73.93706207 84.55476852]]\n",
            "\n",
            " [[19.27679069 65.32536359]\n",
            "  [ 5.51473394 17.        ]]\n",
            "\n",
            " [[68.16732914 62.86879627]\n",
            "  [96.62932823 88.75090809]]] (3, 2, 2)\n"
          ]
        }
      ]
    },
    {
      "cell_type": "code",
      "source": [
        "tt=f.transpose(2,2,3)"
      ],
      "metadata": {
        "colab": {
          "base_uri": "https://localhost:8080/",
          "height": 165
        },
        "id": "-Tpr_J05enC-",
        "outputId": "5a118a60-f825-4496-8c6a-a841b9981d5a"
      },
      "execution_count": 125,
      "outputs": [
        {
          "output_type": "error",
          "ename": "ValueError",
          "evalue": "ignored",
          "traceback": [
            "\u001b[0;31m---------------------------------------------------------------------------\u001b[0m",
            "\u001b[0;31mValueError\u001b[0m                                Traceback (most recent call last)",
            "\u001b[0;32m<ipython-input-125-c9005b953f62>\u001b[0m in \u001b[0;36m<module>\u001b[0;34m()\u001b[0m\n\u001b[0;32m----> 1\u001b[0;31m \u001b[0mtt\u001b[0m\u001b[0;34m=\u001b[0m\u001b[0mf\u001b[0m\u001b[0;34m.\u001b[0m\u001b[0mtranspose\u001b[0m\u001b[0;34m(\u001b[0m\u001b[0;36m2\u001b[0m\u001b[0;34m,\u001b[0m\u001b[0;36m2\u001b[0m\u001b[0;34m,\u001b[0m\u001b[0;36m3\u001b[0m\u001b[0;34m)\u001b[0m\u001b[0;34m\u001b[0m\u001b[0;34m\u001b[0m\u001b[0m\n\u001b[0m",
            "\u001b[0;31mValueError\u001b[0m: repeated axis in transpose"
          ]
        }
      ]
    },
    {
      "cell_type": "markdown",
      "source": [
        "AJUSTE POLINOMIAL"
      ],
      "metadata": {
        "id": "-mmbta5afdxJ"
      }
    },
    {
      "cell_type": "code",
      "source": [
        "x=numpy.arange(0,10) #(star,stop,step) \n",
        "x"
      ],
      "metadata": {
        "colab": {
          "base_uri": "https://localhost:8080/"
        },
        "id": "4eCR53NbfChm",
        "outputId": "da45740e-0097-4fbf-da07-9c470e644814"
      },
      "execution_count": 127,
      "outputs": [
        {
          "output_type": "execute_result",
          "data": {
            "text/plain": [
              "array([0, 1, 2, 3, 4, 5, 6, 7, 8, 9])"
            ]
          },
          "metadata": {},
          "execution_count": 127
        }
      ]
    },
    {
      "cell_type": "code",
      "source": [
        "y=x**2\n",
        "y"
      ],
      "metadata": {
        "colab": {
          "base_uri": "https://localhost:8080/"
        },
        "id": "Juk5H5S5fKXP",
        "outputId": "ed7d7bf3-ea17-4cc7-efb4-04bacb2d9ba2"
      },
      "execution_count": 129,
      "outputs": [
        {
          "output_type": "execute_result",
          "data": {
            "text/plain": [
              "array([ 0,  1,  4,  9, 16, 25, 36, 49, 64, 81])"
            ]
          },
          "metadata": {},
          "execution_count": 129
        }
      ]
    },
    {
      "cell_type": "code",
      "source": [
        "numpy.polyfit(x,y,2) #coeficientes (estimadores) del ajuste polonomial "
      ],
      "metadata": {
        "colab": {
          "base_uri": "https://localhost:8080/"
        },
        "id": "Benc2FexfPiA",
        "outputId": "b18043e5-10dc-4cc5-d69f-dc23c1cfa914"
      },
      "execution_count": 130,
      "outputs": [
        {
          "output_type": "execute_result",
          "data": {
            "text/plain": [
              "array([ 1.00000000e+00, -5.76177365e-15,  1.53728415e-14])"
            ]
          },
          "metadata": {},
          "execution_count": 130
        }
      ]
    },
    {
      "cell_type": "markdown",
      "source": [
        "EJERCICIOS:\n",
        "-Sea x un arreglo de numeros aleatorios, dist unif, entre -1 y 1. Comprueben que la media es cero.\n",
        "-Resolver el sistema de acuaciones.\n",
        "-Sumar todos los numeros de un arreglo numpy devisibles por 7 pero no divisibles por 5."
      ],
      "metadata": {
        "id": "1oCMnIDwhHak"
      }
    },
    {
      "cell_type": "markdown",
      "source": [
        "INDEXACION BOOLEANA: FILTROS-MASCARAS"
      ],
      "metadata": {
        "id": "igiPgjjRg3IW"
      }
    }
  ]
}